{
 "cells": [
  {
   "cell_type": "markdown",
   "metadata": {},
   "source": [
    "# Quantum state tomography\n",
    "This notebook loosely follows through the examples in the [corresponding Qiskit tutorial](https://github.com/Qiskit/qiskit-iqx-tutorials/blob/master/qiskit/advanced/ignis/6a_state_tomography.ipynb). \n",
    "\n",
    "Using Qiskit's Ignis library, we perform quantum state tomography for two cases: a two-qubit Bell state, and a three-qubit GHZ state. "
   ]
  },
  {
   "cell_type": "markdown",
   "metadata": {},
   "source": [
    "These cells are used to \n",
    "    \n",
    "   1. Import Qiskit (and ancillary packages) and display the available devices on IBMQ.\n",
    "   2. Load a widget to track jobs sent to IBMQ.\n",
    "   3. Choose the least busy device on IBMQ as our backend."
   ]
  },
  {
   "cell_type": "code",
   "execution_count": 1,
   "metadata": {},
   "outputs": [
    {
     "data": {
      "text/plain": [
       "[<IBMQSimulator('ibmq_qasm_simulator') from IBMQ(hub='ibm-q', group='open', project='main')>,\n",
       " <IBMQBackend('ibmqx2') from IBMQ(hub='ibm-q', group='open', project='main')>,\n",
       " <IBMQBackend('ibmq_16_melbourne') from IBMQ(hub='ibm-q', group='open', project='main')>,\n",
       " <IBMQBackend('ibmq_vigo') from IBMQ(hub='ibm-q', group='open', project='main')>,\n",
       " <IBMQBackend('ibmq_ourense') from IBMQ(hub='ibm-q', group='open', project='main')>,\n",
       " <IBMQBackend('ibmq_london') from IBMQ(hub='ibm-q', group='open', project='main')>,\n",
       " <IBMQBackend('ibmq_burlington') from IBMQ(hub='ibm-q', group='open', project='main')>,\n",
       " <IBMQBackend('ibmq_essex') from IBMQ(hub='ibm-q', group='open', project='main')>,\n",
       " <IBMQBackend('ibmq_armonk') from IBMQ(hub='ibm-q', group='open', project='main')>]"
      ]
     },
     "execution_count": 1,
     "metadata": {},
     "output_type": "execute_result"
    }
   ],
   "source": [
    "from qiskit import *\n",
    "\n",
    "# Matplotlib is recommended for Qiskit. Others are for fun.\n",
    "import numpy as np\n",
    "import qutip as qt\n",
    "import matplotlib as plt\n",
    "%matplotlib inline\n",
    "\n",
    "# Load account (requires a saved IBMQ user id) and list available backends.\n",
    "IBMQ.load_account()\n",
    "provider = IBMQ.get_provider(group='open')\n",
    "provider.backends()"
   ]
  },
  {
   "cell_type": "code",
   "execution_count": 2,
   "metadata": {},
   "outputs": [
    {
     "data": {
      "application/vnd.jupyter.widget-view+json": {
       "model_id": "b117186770cc4569a3c3a17aab713da6",
       "version_major": 2,
       "version_minor": 0
      },
      "text/plain": [
       "Accordion(children=(VBox(layout=Layout(max_width='710px', min_width='710px')),), layout=Layout(max_height='500…"
      ]
     },
     "metadata": {},
     "output_type": "display_data"
    },
    {
     "data": {
      "application/javascript": [
       "$('div.job_widget')\n",
       "        .detach()\n",
       "        .appendTo($('#header'))\n",
       "        .css({\n",
       "            'z-index': 999,\n",
       "             'position': 'fixed',\n",
       "            'box-shadow': '5px 5px 5px -3px black',\n",
       "            'opacity': 0.95,\n",
       "            'float': 'left,'\n",
       "        })\n",
       "        "
      ],
      "text/plain": [
       "<IPython.core.display.Javascript object>"
      ]
     },
     "metadata": {},
     "output_type": "display_data"
    }
   ],
   "source": [
    "# Notebook widget for watching IBMQ jobs.\n",
    "import qiskit.tools.jupyter\n",
    "%qiskit_job_watcher"
   ]
  },
  {
   "cell_type": "code",
   "execution_count": 3,
   "metadata": {},
   "outputs": [
    {
     "name": "stdout",
     "output_type": "stream",
     "text": [
      "ibmqx2\n"
     ]
    },
    {
     "data": {
      "image/png": "[encoded data removed]",
      "text/plain": [
       "<Figure size 360x360 with 1 Axes>"
      ]
     },
     "execution_count": 3,
     "metadata": {},
     "output_type": "execute_result"
    }
   ],
   "source": [
    "# Set least busy device as backend.\n",
    "from qiskit.providers.ibmq import least_busy\n",
    "from qiskit.visualization import plot_gate_map, plot_circuit_layout\n",
    "\n",
    "small_devices = provider.backends(filters=lambda x: x.configuration().n_qubits == 5\n",
    "                                   and not x.configuration().simulator)\n",
    "backend = least_busy(small_devices)\n",
    "\n",
    "# Set qasm as simulator.\n",
    "simulator = Aer.get_backend('qasm_simulator')\n",
    "\n",
    "# Print name and configuration.\n",
    "print(backend)\n",
    "plot_gate_map(backend, plot_directed=True)"
   ]
  },
  {
   "cell_type": "markdown",
   "metadata": {},
   "source": [
    "## Example 1: Two-qubit Bell state"
   ]
  },
  {
   "cell_type": "markdown",
   "metadata": {},
   "source": [
    "### State preparation circuit\n",
    "\n",
    "We construct two circuits. `bell` prepares a Bell state on two qubits, and `meas` measures the two qubits. \n",
    "\n",
    "The `execute` function on the backend requires `bell` + `meas`, while `state_tomography_circuits` function from Ignis takes the `bell` as input."
   ]
  },
  {
   "cell_type": "code",
   "execution_count": 4,
   "metadata": {},
   "outputs": [
    {
     "name": "stdout",
     "output_type": "stream",
     "text": [
      "         ┌───┐     \n",
      "q0_0: |0>┤ H ├──■──\n",
      "         └───┘┌─┴─┐\n",
      "q0_1: |0>─────┤ X ├\n",
      "              └───┘\n",
      "         ┌───┐      ░ ┌─┐   \n",
      "q0_0: |0>┤ H ├──■───░─┤M├───\n",
      "         └───┘┌─┴─┐ ░ └╥┘┌─┐\n",
      "q0_1: |0>─────┤ X ├─░──╫─┤M├\n",
      "              └───┘ ░  ║ └╥┘\n",
      " c0_0: 0 ══════════════╩══╬═\n",
      "                          ║ \n",
      " c0_1: 0 ═════════════════╩═\n",
      "                            \n"
     ]
    }
   ],
   "source": [
    "# Quantum circuit for two-qubit bell state.\n",
    "qr = QuantumRegister(2)\n",
    "bell = QuantumCircuit(qr)\n",
    "bell.h(0)\n",
    "bell.cx(0, 1)\n",
    "print(bell)\n",
    "\n",
    "# Measurement circuit.\n",
    "cr = ClassicalRegister(2)\n",
    "meas = QuantumCircuit(qr, cr)\n",
    "meas.barrier()\n",
    "meas.measure([0,1], [0,1])\n",
    "print(bell + meas)"
   ]
  },
  {
   "cell_type": "markdown",
   "metadata": {},
   "source": [
    "### Output of the preparation circuit\n",
    "\n",
    "To test the circuit, we run it on both the backend and simulator to verify that we have a Bell state."
   ]
  },
  {
   "cell_type": "code",
   "execution_count": 5,
   "metadata": {},
   "outputs": [
    {
     "name": "stdout",
     "output_type": "stream",
     "text": [
      "5e44770a6e4cf70018858f9c\n",
      "{'11': 2685, '00': 2162, '01': 105, '10': 48}\n"
     ]
    }
   ],
   "source": [
    "# Run bell circuit.\n",
    "job = execute(bell+meas, backend, optimization_level=0, shots=5000)\n",
    "print(job.job_id())\n",
    "counts = job.result().get_counts()\n",
    "print(counts)\n",
    "\n",
    "# Simulate bell circuit.\n",
    "counts_sim = execute(bell+meas, simulator, shots=5000).result().get_counts()"
   ]
  },
  {
   "cell_type": "code",
   "execution_count": 6,
   "metadata": {},
   "outputs": [
    {
     "data": {
      "image/png": "[encoded data removed]",
      "text/plain": [
       "<Figure size 504x360 with 1 Axes>"
      ]
     },
     "execution_count": 6,
     "metadata": {},
     "output_type": "execute_result"
    }
   ],
   "source": [
    "# Results from backend vs. simulator.\n",
    "from qiskit.visualization import plot_histogram\n",
    "plot_histogram([counts, counts_sim], legend = [backend, simulator])"
   ]
  },
  {
   "cell_type": "markdown",
   "metadata": {},
   "source": [
    "### Tomography on the Bell state\n",
    "\n",
    "The `state_tomography_circuits` function gives us a list of circuits for `bell` that we then \n",
    "run on the backend. \n",
    "\n",
    "The `StateTomographyFitter` function fits the output to a density matrix."
   ]
  },
  {
   "cell_type": "code",
   "execution_count": 7,
   "metadata": {},
   "outputs": [
    {
     "name": "stdout",
     "output_type": "stream",
     "text": [
      "         ┌───┐      ░ ┌───┐┌─┐   \n",
      "q0_0: |0>┤ H ├──■───░─┤ H ├┤M├───\n",
      "         └───┘┌─┴─┐ ░ ├───┤└╥┘┌─┐\n",
      "q0_1: |0>─────┤ X ├─░─┤ H ├─╫─┤M├\n",
      "              └───┘ ░ └───┘ ║ └╥┘\n",
      " c1_0: 0 ═══════════════════╩══╬═\n",
      "                               ║ \n",
      " c1_1: 0 ══════════════════════╩═\n",
      "                                 \n",
      "         ┌───┐      ░  ┌───┐ ┌─┐        \n",
      "q0_0: |0>┤ H ├──■───░──┤ H ├─┤M├────────\n",
      "         └───┘┌─┴─┐ ░ ┌┴───┴┐└╥┘┌───┐┌─┐\n",
      "q0_1: |0>─────┤ X ├─░─┤ Sdg ├─╫─┤ H ├┤M├\n",
      "              └───┘ ░ └─────┘ ║ └───┘└╥┘\n",
      " c1_0: 0 ═════════════════════╩═══════╬═\n",
      "                                      ║ \n",
      " c1_1: 0 ═════════════════════════════╩═\n",
      "                                        \n",
      "         ┌───┐      ░ ┌───┐┌─┐\n",
      "q0_0: |0>┤ H ├──■───░─┤ H ├┤M├\n",
      "         └───┘┌─┴─┐ ░ └┬─┬┘└╥┘\n",
      "q0_1: |0>─────┤ X ├─░──┤M├──╫─\n",
      "              └───┘ ░  └╥┘  ║ \n",
      " c1_0: 0 ═══════════════╬═══╩═\n",
      "                        ║     \n",
      " c1_1: 0 ═══════════════╩═════\n",
      "                              \n",
      "         ┌───┐      ░ ┌─────┐┌───┐┌─┐\n",
      "q0_0: |0>┤ H ├──■───░─┤ Sdg ├┤ H ├┤M├\n",
      "         └───┘┌─┴─┐ ░ └┬───┬┘└┬─┬┘└╥┘\n",
      "q0_1: |0>─────┤ X ├─░──┤ H ├──┤M├──╫─\n",
      "              └───┘ ░  └───┘  └╥┘  ║ \n",
      " c1_0: 0 ══════════════════════╬═══╩═\n",
      "                               ║     \n",
      " c1_1: 0 ══════════════════════╩═════\n",
      "                                     \n",
      "         ┌───┐      ░ ┌─────┐┌───┐┌─┐   \n",
      "q0_0: |0>┤ H ├──■───░─┤ Sdg ├┤ H ├┤M├───\n",
      "         └───┘┌─┴─┐ ░ ├─────┤├───┤└╥┘┌─┐\n",
      "q0_1: |0>─────┤ X ├─░─┤ Sdg ├┤ H ├─╫─┤M├\n",
      "              └───┘ ░ └─────┘└───┘ ║ └╥┘\n",
      " c1_0: 0 ══════════════════════════╩══╬═\n",
      "                                      ║ \n",
      " c1_1: 0 ═════════════════════════════╩═\n",
      "                                        \n",
      "         ┌───┐      ░ ┌─────┐┌───┐┌─┐\n",
      "q0_0: |0>┤ H ├──■───░─┤ Sdg ├┤ H ├┤M├\n",
      "         └───┘┌─┴─┐ ░ └─┬─┬─┘└───┘└╥┘\n",
      "q0_1: |0>─────┤ X ├─░───┤M├────────╫─\n",
      "              └───┘ ░   └╥┘        ║ \n",
      " c1_0: 0 ════════════════╬═════════╩═\n",
      "                         ║           \n",
      " c1_1: 0 ════════════════╩═══════════\n",
      "                                     \n",
      "         ┌───┐      ░ ┌─┐        \n",
      "q0_0: |0>┤ H ├──■───░─┤M├────────\n",
      "         └───┘┌─┴─┐ ░ └╥┘┌───┐┌─┐\n",
      "q0_1: |0>─────┤ X ├─░──╫─┤ H ├┤M├\n",
      "              └───┘ ░  ║ └───┘└╥┘\n",
      " c1_0: 0 ══════════════╩═══════╬═\n",
      "                               ║ \n",
      " c1_1: 0 ══════════════════════╩═\n",
      "                                 \n",
      "         ┌───┐      ░ ┌─┐               \n",
      "q0_0: |0>┤ H ├──■───░─┤M├───────────────\n",
      "         └───┘┌─┴─┐ ░ └╥┘┌─────┐┌───┐┌─┐\n",
      "q0_1: |0>─────┤ X ├─░──╫─┤ Sdg ├┤ H ├┤M├\n",
      "              └───┘ ░  ║ └─────┘└───┘└╥┘\n",
      " c1_0: 0 ══════════════╩══════════════╬═\n",
      "                                      ║ \n",
      " c1_1: 0 ═════════════════════════════╩═\n",
      "                                        \n",
      "         ┌───┐      ░ ┌─┐   \n",
      "q0_0: |0>┤ H ├──■───░─┤M├───\n",
      "         └───┘┌─┴─┐ ░ └╥┘┌─┐\n",
      "q0_1: |0>─────┤ X ├─░──╫─┤M├\n",
      "              └───┘ ░  ║ └╥┘\n",
      " c1_0: 0 ══════════════╩══╬═\n",
      "                          ║ \n",
      " c1_1: 0 ═════════════════╩═\n",
      "                            \n"
     ]
    }
   ],
   "source": [
    "# Calculate circuits for state tomography.\n",
    "from qiskit.ignis.verification.tomography import state_tomography_circuits, StateTomographyFitter\n",
    "qst_bell = state_tomography_circuits(bell, [qr[0], qr[1]])\n",
    "\n",
    "for circ in qst_bell:\n",
    "    print(circ)"
   ]
  },
  {
   "cell_type": "code",
   "execution_count": 8,
   "metadata": {},
   "outputs": [
    {
     "name": "stdout",
     "output_type": "stream",
     "text": [
      "5e44792c74495d00198fc6ed\n"
     ]
    }
   ],
   "source": [
    "# Tomography circuits on backend.\n",
    "job = execute(qst_bell, backend, optimization_level=0, shots=5000)\n",
    "print(job.job_id())"
   ]
  },
  {
   "cell_type": "code",
   "execution_count": 9,
   "metadata": {},
   "outputs": [
    {
     "name": "stdout",
     "output_type": "stream",
     "text": [
      "0.8980715234563243\n"
     ]
    },
    {
     "data": {
      "image/png": "[encoded data removed]",
      "text/plain": [
       "<Figure size 576x360 with 2 Axes>"
      ]
     },
     "execution_count": 9,
     "metadata": {},
     "output_type": "execute_result"
    }
   ],
   "source": [
    "# Calculate density matrix.\n",
    "tomo_bell = StateTomographyFitter(job.result(), qst_bell)\n",
    "rho_bell = tomo_bell.fit()\n",
    "\n",
    "# Calculate fidelity.\n",
    "from qiskit.quantum_info import state_fidelity\n",
    "psi_bell = execute(bell, Aer.get_backend('statevector_simulator')).result().get_statevector(bell)\n",
    "print(state_fidelity(psi_bell[0:4], rho_bell))\n",
    "\n",
    "# Hinton diagram of density matrix.\n",
    "from qiskit.visualization import plot_state_hinton\n",
    "plot_state_hinton(rho_bell)"
   ]
  },
  {
   "cell_type": "markdown",
   "metadata": {},
   "source": [
    "## Example 2: Three-qubit GHZ state\n",
    "\n",
    "Proceeds the exact same way as the Bell state."
   ]
  },
  {
   "cell_type": "markdown",
   "metadata": {},
   "source": [
    "### State preparation circuit"
   ]
  },
  {
   "cell_type": "code",
   "execution_count": 10,
   "metadata": {},
   "outputs": [
    {
     "name": "stdout",
     "output_type": "stream",
     "text": [
      "              ┌───┐     \n",
      "q1_0: |0>─────┤ X ├─────\n",
      "              └─┬─┘┌───┐\n",
      "q1_1: |0>───────┼──┤ X ├\n",
      "         ┌───┐  │  └─┬─┘\n",
      "q1_2: |0>┤ H ├──■────■──\n",
      "         └───┘          \n",
      "              ┌───┐      ░ ┌─┐      \n",
      "q1_0: |0>─────┤ X ├──────░─┤M├──────\n",
      "              └─┬─┘┌───┐ ░ └╥┘┌─┐   \n",
      "q1_1: |0>───────┼──┤ X ├─░──╫─┤M├───\n",
      "         ┌───┐  │  └─┬─┘ ░  ║ └╥┘┌─┐\n",
      "q1_2: |0>┤ H ├──■────■───░──╫──╫─┤M├\n",
      "         └───┘           ░  ║  ║ └╥┘\n",
      " c2_0: 0 ═══════════════════╩══╬══╬═\n",
      "                               ║  ║ \n",
      " c2_1: 0 ══════════════════════╩══╬═\n",
      "                                  ║ \n",
      " c2_2: 0 ═════════════════════════╩═\n",
      "                                    \n"
     ]
    }
   ],
   "source": [
    "# Quantum circuit for a three-qubit GHZ state.\n",
    "qr = QuantumRegister(3)\n",
    "ghz = QuantumCircuit(qr)\n",
    "ghz.h(2)\n",
    "for q in [0, 1]:\n",
    "    ghz.cx(2, q)\n",
    "print(ghz)\n",
    "\n",
    "# Measurement circuit.\n",
    "cr = ClassicalRegister(3)\n",
    "meas = QuantumCircuit(qr, cr)\n",
    "meas.barrier()\n",
    "meas.measure(qr, cr)\n",
    "print(ghz + meas)"
   ]
  },
  {
   "cell_type": "markdown",
   "metadata": {},
   "source": [
    "### Output of the preparation circuit"
   ]
  },
  {
   "cell_type": "code",
   "execution_count": 12,
   "metadata": {},
   "outputs": [
    {
     "name": "stdout",
     "output_type": "stream",
     "text": [
      "5e447ada6e4cf70018858fc5\n",
      "{'100': 11, '110': 65, '000': 2544, '101': 88, '011': 47, '111': 2146, '010': 63, '001': 36}\n"
     ]
    }
   ],
   "source": [
    "# Run GHZ circuit.\n",
    "job = execute(ghz+meas, backend, optimization_level=0, shots=5000)\n",
    "print(job.job_id())\n",
    "\n",
    "counts = job.result().get_counts()\n",
    "print(counts)\n",
    "\n",
    "# Simulate GHZ circuit.\n",
    "counts_sim = execute(ghz+meas, simulator, shots=5000).result().get_counts()"
   ]
  },
  {
   "cell_type": "code",
   "execution_count": 13,
   "metadata": {},
   "outputs": [
    {
     "data": {
      "image/png": "[encoded data removed]",
      "text/plain": [
       "<Figure size 504x360 with 1 Axes>"
      ]
     },
     "execution_count": 13,
     "metadata": {},
     "output_type": "execute_result"
    }
   ],
   "source": [
    "# Results from backend vs. simulator.\n",
    "from qiskit.visualization import plot_histogram\n",
    "plot_histogram([counts, counts_sim], legend = [backend, simulator])"
   ]
  },
  {
   "cell_type": "markdown",
   "metadata": {},
   "source": [
    "### Tomography on the GHZ state"
   ]
  },
  {
   "cell_type": "code",
   "execution_count": 14,
   "metadata": {},
   "outputs": [],
   "source": [
    "# Calculate circuits for state tomography.\n",
    "from qiskit.ignis.verification.tomography import state_tomography_circuits, StateTomographyFitter\n",
    "qst_ghz = state_tomography_circuits(ghz, qr)"
   ]
  },
  {
   "cell_type": "code",
   "execution_count": 15,
   "metadata": {},
   "outputs": [
    {
     "name": "stdout",
     "output_type": "stream",
     "text": [
      "5e447b1a8cdb3400186e0264\n"
     ]
    }
   ],
   "source": [
    "# State tomography circuits on backend.\n",
    "job = execute(qst_ghz, backend, optimization_level=0, shots=5000)\n",
    "print(job.job_id())"
   ]
  },
  {
   "cell_type": "code",
   "execution_count": 16,
   "metadata": {},
   "outputs": [
    {
     "name": "stdout",
     "output_type": "stream",
     "text": [
      "0.8269480622705003\n"
     ]
    },
    {
     "data": {
      "image/png": "[encoded data removed]",
      "text/plain": [
       "<Figure size 576x360 with 2 Axes>"
      ]
     },
     "execution_count": 16,
     "metadata": {},
     "output_type": "execute_result"
    }
   ],
   "source": [
    "# Calculate density matrix.\n",
    "tomo_ghz = StateTomographyFitter(job.result(), qst_ghz)\n",
    "rho_ghz = tomo_ghz.fit()\n",
    "\n",
    "# Calculate fidelity.\n",
    "from qiskit.quantum_info import state_fidelity\n",
    "psi_ghz = execute(ghz, Aer.get_backend('statevector_simulator')).result().get_statevector(ghz)\n",
    "print(state_fidelity(psi_ghz[0:8], rho_ghz))\n",
    "\n",
    "# Hinton diagram of density matrix.\n",
    "from qiskit.visualization import plot_state_hinton\n",
    "plot_state_hinton(rho_ghz)"
   ]
  },
  {
   "cell_type": "code",
   "execution_count": null,
   "metadata": {},
   "outputs": [],
   "source": []
  }
 ],
 "metadata": {
  "kernelspec": {
   "display_name": "Python 3",
   "language": "python",
   "name": "python3"
  },
  "language_info": {
   "codemirror_mode": {
    "name": "ipython",
    "version": 3
   },
   "file_extension": ".py",
   "mimetype": "text/x-python",
   "name": "python",
   "nbconvert_exporter": "python",
   "pygments_lexer": "ipython3",
   "version": "3.7.4"
  }
 },
 "nbformat": 4,
 "nbformat_minor": 2
}
