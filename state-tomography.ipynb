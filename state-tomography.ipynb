{
 "cells": [
  {
   "cell_type": "markdown",
   "metadata": {},
   "source": [
    "# Quantum state tomography\n",
    "This notebook loosely follows through the examples in the [corresponding Qiskit tutorial](https://github.com/Qiskit/qiskit-iqx-tutorials/blob/master/qiskit/advanced/ignis/6a_state_tomography.ipynb)."
   ]
  },
  {
   "cell_type": "code",
   "execution_count": 1,
   "metadata": {},
   "outputs": [
    {
     "data": {
      "text/plain": [
       "[<IBMQSimulator('ibmq_qasm_simulator') from IBMQ(hub='ibm-q', group='open', project='main')>,\n",
       " <IBMQBackend('ibmqx2') from IBMQ(hub='ibm-q', group='open', project='main')>,\n",
       " <IBMQBackend('ibmq_16_melbourne') from IBMQ(hub='ibm-q', group='open', project='main')>,\n",
       " <IBMQBackend('ibmq_vigo') from IBMQ(hub='ibm-q', group='open', project='main')>,\n",
       " <IBMQBackend('ibmq_ourense') from IBMQ(hub='ibm-q', group='open', project='main')>,\n",
       " <IBMQBackend('ibmq_london') from IBMQ(hub='ibm-q', group='open', project='main')>,\n",
       " <IBMQBackend('ibmq_burlington') from IBMQ(hub='ibm-q', group='open', project='main')>,\n",
       " <IBMQBackend('ibmq_essex') from IBMQ(hub='ibm-q', group='open', project='main')>,\n",
       " <IBMQBackend('ibmq_armonk') from IBMQ(hub='ibm-q', group='open', project='main')>]"
      ]
     },
     "execution_count": 1,
     "metadata": {},
     "output_type": "execute_result"
    }
   ],
   "source": [
    "from qiskit import *\n",
    "\n",
    "# Matplotlib is recommended for Qiskit. Others are for fun.\n",
    "import numpy as np\n",
    "import qutip as qt\n",
    "import matplotlib as plt\n",
    "%matplotlib inline\n",
    "\n",
    "# Load account (requires a saved IBMQ user id) and list available backends.\n",
    "IBMQ.load_account()\n",
    "provider = IBMQ.get_provider(group='open')\n",
    "provider.backends()"
   ]
  },
  {
   "cell_type": "code",
   "execution_count": 2,
   "metadata": {},
   "outputs": [
    {
     "data": {
      "application/vnd.jupyter.widget-view+json": {
       "model_id": "17d6b29a6ce548f494f0ba15f816a327",
       "version_major": 2,
       "version_minor": 0
      },
      "text/plain": [
       "Accordion(children=(VBox(layout=Layout(max_width='710px', min_width='710px')),), layout=Layout(max_height='500…"
      ]
     },
     "metadata": {},
     "output_type": "display_data"
    },
    {
     "data": {
      "application/javascript": [
       "$('div.job_widget')\n",
       "        .detach()\n",
       "        .appendTo($('#header'))\n",
       "        .css({\n",
       "            'z-index': 999,\n",
       "             'position': 'fixed',\n",
       "            'box-shadow': '5px 5px 5px -3px black',\n",
       "            'opacity': 0.95,\n",
       "            'float': 'left,'\n",
       "        })\n",
       "        "
      ],
      "text/plain": [
       "<IPython.core.display.Javascript object>"
      ]
     },
     "metadata": {},
     "output_type": "display_data"
    }
   ],
   "source": [
    "# Notebook widget for watching IBMQ jobs.\n",
    "import qiskit.tools.jupyter\n",
    "%qiskit_job_watcher"
   ]
  },
  {
   "cell_type": "code",
   "execution_count": 3,
   "metadata": {},
   "outputs": [
    {
     "name": "stdout",
     "output_type": "stream",
     "text": [
      "ibmqx2\n"
     ]
    },
    {
     "data": {
      "image/png": "[encoded data removed]",
      "text/plain": [
       "<Figure size 360x360 with 1 Axes>"
      ]
     },
     "execution_count": 3,
     "metadata": {},
     "output_type": "execute_result"
    }
   ],
   "source": [
    "# Set least busy device as backend.\n",
    "from qiskit.providers.ibmq import least_busy\n",
    "from qiskit.visualization import plot_gate_map, plot_circuit_layout\n",
    "\n",
    "small_devices = provider.backends(filters=lambda x: x.configuration().n_qubits == 5\n",
    "                                   and not x.configuration().simulator)\n",
    "backend = least_busy(small_devices)\n",
    "\n",
    "# Set qasm as simulator.\n",
    "simulator = Aer.get_backend('qasm_simulator')\n",
    "\n",
    "# Print name and configuration.\n",
    "print(backend)\n",
    "plot_gate_map(backend, plot_directed=True)"
   ]
  },
  {
   "cell_type": "markdown",
   "metadata": {},
   "source": [
    "## Bell state"
   ]
  },
  {
   "cell_type": "markdown",
   "metadata": {},
   "source": [
    "State preparation circuit."
   ]
  },
  {
   "cell_type": "code",
   "execution_count": 4,
   "metadata": {},
   "outputs": [
    {
     "name": "stdout",
     "output_type": "stream",
     "text": [
      "         ┌───┐     \n",
      "q0_0: |0>┤ H ├──■──\n",
      "         └───┘┌─┴─┐\n",
      "q0_1: |0>─────┤ X ├\n",
      "              └───┘\n",
      "q0_2: |0>──────────\n",
      "                   \n",
      "q0_3: |0>──────────\n",
      "                   \n",
      "q0_4: |0>──────────\n",
      "                   \n",
      "         ┌───┐      ░ ┌─┐   \n",
      "q0_0: |0>┤ H ├──■───░─┤M├───\n",
      "         └───┘┌─┴─┐ ░ └╥┘┌─┐\n",
      "q0_1: |0>─────┤ X ├─░──╫─┤M├\n",
      "              └───┘ ░  ║ └╥┘\n",
      "q0_2: |0>───────────░──╫──╫─\n",
      "                    ░  ║  ║ \n",
      "q0_3: |0>───────────░──╫──╫─\n",
      "                    ░  ║  ║ \n",
      "q0_4: |0>───────────░──╫──╫─\n",
      "                    ░  ║  ║ \n",
      " c0_0: 0 ══════════════╩══╬═\n",
      "                          ║ \n",
      " c0_1: 0 ═════════════════╩═\n",
      "                            \n"
     ]
    }
   ],
   "source": [
    "# Quantum circuit for two-qubit bell state.\n",
    "qr = QuantumRegister(5)\n",
    "bell = QuantumCircuit(qr)\n",
    "bell.h(0)\n",
    "bell.cx(0, 1)\n",
    "print(bell)\n",
    "\n",
    "# Measurement circuit.\n",
    "cr = ClassicalRegister(2)\n",
    "meas = QuantumCircuit(qr, cr)\n",
    "meas.barrier()\n",
    "meas.measure([0,1], [0,1])\n",
    "print(bell+meas)"
   ]
  },
  {
   "cell_type": "markdown",
   "metadata": {},
   "source": [
    "Testing the preparation circuit."
   ]
  },
  {
   "cell_type": "code",
   "execution_count": null,
   "metadata": {},
   "outputs": [
    {
     "name": "stdout",
     "output_type": "stream",
     "text": [
      "5e4344236a1fed00129cd617\n"
     ]
    }
   ],
   "source": [
    "# Run bell circuit.\n",
    "job = execute(bell+meas, backend, optimization_level=0, shots=5000)\n",
    "print(job.job_id())\n",
    "\n",
    "counts = job.result().get_counts()\n",
    "print(counts)\n",
    "\n",
    "# Simulate bell circuit.\n",
    "counts_sim = execute(bell+meas, simulator, shots=5000).result().get_counts()"
   ]
  },
  {
   "cell_type": "code",
   "execution_count": null,
   "metadata": {},
   "outputs": [],
   "source": [
    "# Results from backend vs. simulator.\n",
    "from qiskit.visualization import plot_histogram\n",
    "plot_histogram([counts, counts_sim], legend = [backend, simulator])"
   ]
  },
  {
   "cell_type": "markdown",
   "metadata": {},
   "source": [
    "State tomography driven by Qiskit."
   ]
  },
  {
   "cell_type": "code",
   "execution_count": null,
   "metadata": {},
   "outputs": [],
   "source": [
    "# Calculate circuits for state tomography.\n",
    "from qiskit.ignis.verification.tomography import state_tomography_circuits, StateTomographyFitter\n",
    "qst_bell = state_tomography_circuits(bell, [qr[0], qr[1]])\n",
    "\n",
    "for circ in qst_bell:\n",
    "    print(circ)"
   ]
  },
  {
   "cell_type": "code",
   "execution_count": null,
   "metadata": {},
   "outputs": [],
   "source": [
    "# Tomography circuits on backend.\n",
    "job = execute(qst_bell, backend, optimization_level=0, shots=5000)\n",
    "print(job.job_id())"
   ]
  },
  {
   "cell_type": "code",
   "execution_count": null,
   "metadata": {},
   "outputs": [],
   "source": [
    "# Calculate density matrix.\n",
    "tomo_bell = StateTomographyFitter(job.result(), qst_bell)\n",
    "rho_bell = tomo_bell.fit()\n",
    "\n",
    "# Calculate fidelity.\n",
    "from qiskit.quantum_info import state_fidelity\n",
    "psi_bell = execute(bell, Aer.get_backend('statevector_simulator')).result().get_statevector(bell)\n",
    "print(state_fidelity(psi_bell[0:4], rho_bell))\n",
    "\n",
    "# Hinton diagram of density matrix.\n",
    "from qiskit.visualization import plot_state_hinton\n",
    "plot_state_hinton(rho_bell)"
   ]
  },
  {
   "cell_type": "markdown",
   "metadata": {},
   "source": [
    "## GHZ state"
   ]
  },
  {
   "cell_type": "markdown",
   "metadata": {},
   "source": [
    "State preparation circuit."
   ]
  },
  {
   "cell_type": "code",
   "execution_count": null,
   "metadata": {},
   "outputs": [],
   "source": [
    "# Quantum circuit for a five-qubit GHZ state.\n",
    "qr = QuantumRegister(3)\n",
    "ghz = QuantumCircuit(qr)\n",
    "ghz.h(2)\n",
    "for q in [0, 1]:\n",
    "    ghz.cx(2, q)\n",
    "print(ghz)\n",
    "\n",
    "# Measurement circuit.\n",
    "cr = ClassicalRegister(3)\n",
    "meas = QuantumCircuit(qr, cr)\n",
    "meas.barrier()\n",
    "meas.measure(qr, cr)\n",
    "print(ghz+meas)"
   ]
  },
  {
   "cell_type": "markdown",
   "metadata": {},
   "source": [
    "Testing the preparation circuit. "
   ]
  },
  {
   "cell_type": "code",
   "execution_count": null,
   "metadata": {},
   "outputs": [],
   "source": [
    "# Run GHZ circuit.\n",
    "job = execute(ghz+meas, backend, optimization_level=0, shots=5000)\n",
    "print(job.job_id())\n",
    "\n",
    "counts = job.result().get_counts()\n",
    "print(counts)\n",
    "\n",
    "# Simulate GHZ circuit.\n",
    "counts_sim = execute(ghz+meas, simulator, shots=5000).result().get_counts()"
   ]
  },
  {
   "cell_type": "code",
   "execution_count": null,
   "metadata": {},
   "outputs": [],
   "source": [
    "# Results from backend vs. simulator.\n",
    "from qiskit.visualization import plot_histogram\n",
    "plot_histogram([counts, counts_sim], legend = [backend, simulator])"
   ]
  },
  {
   "cell_type": "markdown",
   "metadata": {},
   "source": [
    "State tomography driven by Qiskit."
   ]
  },
  {
   "cell_type": "code",
   "execution_count": null,
   "metadata": {},
   "outputs": [],
   "source": [
    "# Calculate circuits for state tomography.\n",
    "from qiskit.ignis.verification.tomography import state_tomography_circuits, StateTomographyFitter\n",
    "qst_ghz = state_tomography_circuits(ghz, qr)\n",
    "\n",
    "for circ in qst_ghz:\n",
    "    print(circ)"
   ]
  },
  {
   "cell_type": "code",
   "execution_count": null,
   "metadata": {},
   "outputs": [],
   "source": [
    "# State tomography circuits on backend.\n",
    "job = execute(qst_ghz, backend, optimization_level=0, shots=5000)\n",
    "print(job.job_id())"
   ]
  },
  {
   "cell_type": "code",
   "execution_count": null,
   "metadata": {},
   "outputs": [],
   "source": [
    "# Calculate density matrix.\n",
    "tomo_ghz = StateTomographyFitter(job.result(), qst_ghz)\n",
    "rho_ghz = tomo_ghz.fit()\n",
    "\n",
    "# Calculate fidelity.\n",
    "from qiskit.quantum_info import state_fidelity\n",
    "psi_ghz = execute(ghz, Aer.get_backend('statevector_simulator')).result().get_statevector(ghz)\n",
    "print(state_fidelity(psi_ghz[0:8], rho_ghz))\n",
    "\n",
    "# Hinton diagram of density matrix.\n",
    "from qiskit.visualization import plot_state_hinton\n",
    "plot_state_hinton(rho_ghz)"
   ]
  }
 ],
 "metadata": {
  "kernelspec": {
   "display_name": "Python 3",
   "language": "python",
   "name": "python3"
  },
  "language_info": {
   "codemirror_mode": {
    "name": "ipython",
    "version": 3
   },
   "file_extension": ".py",
   "mimetype": "text/x-python",
   "name": "python",
   "nbconvert_exporter": "python",
   "pygments_lexer": "ipython3",
   "version": "3.7.4"
  }
 },
 "nbformat": 4,
 "nbformat_minor": 2
}
