{
 "cells": [
  {
   "cell_type": "markdown",
   "metadata": {},
   "source": [
    "# Quantum state tomography\n",
    "\n",
    "This notebook loosely follows through the examples in the [corresponding Qiskit tutorial](https://github.com/Qiskit/qiskit-iqx-tutorials/blob/master/qiskit/advanced/ignis/6a_state_tomography.ipynb). \n",
    "\n",
    "We perform quantum state tomography for two cases: a two-qubit Bell state, and a three-qubit GHZ state. "
   ]
  },
  {
   "cell_type": "markdown",
   "metadata": {},
   "source": [
    "These cells are used to \n",
    "    \n",
    "   1. Import Qiskit (and ancillary packages) and display the available devices on IBMQ.\n",
    "   2. Load a widget to track jobs sent to IBMQ.\n",
    "   3. Choose the least busy device on IBMQ as our backend."
   ]
  },
  {
   "cell_type": "code",
   "execution_count": 1,
   "metadata": {},
   "outputs": [
    {
     "data": {
      "text/plain": [
       "[<IBMQSimulator('ibmq_qasm_simulator') from IBMQ(hub='ibm-q', group='open', project='main')>,\n",
       " <IBMQBackend('ibmqx2') from IBMQ(hub='ibm-q', group='open', project='main')>,\n",
       " <IBMQBackend('ibmq_16_melbourne') from IBMQ(hub='ibm-q', group='open', project='main')>,\n",
       " <IBMQBackend('ibmq_vigo') from IBMQ(hub='ibm-q', group='open', project='main')>,\n",
       " <IBMQBackend('ibmq_ourense') from IBMQ(hub='ibm-q', group='open', project='main')>,\n",
       " <IBMQBackend('ibmq_london') from IBMQ(hub='ibm-q', group='open', project='main')>,\n",
       " <IBMQBackend('ibmq_burlington') from IBMQ(hub='ibm-q', group='open', project='main')>,\n",
       " <IBMQBackend('ibmq_essex') from IBMQ(hub='ibm-q', group='open', project='main')>,\n",
       " <IBMQBackend('ibmq_armonk') from IBMQ(hub='ibm-q', group='open', project='main')>]"
      ]
     },
     "execution_count": 1,
     "metadata": {},
     "output_type": "execute_result"
    }
   ],
   "source": [
    "from qiskit import *\n",
    "\n",
    "# Matplotlib is recommended for Qiskit. Others are for fun.\n",
    "import numpy as np\n",
    "import qutip as qt\n",
    "import matplotlib.pyplot as plt\n",
    "%matplotlib inline\n",
    "\n",
    "# Load account (requires a saved IBMQ user id) and list available backends.\n",
    "IBMQ.load_account()\n",
    "provider = IBMQ.get_provider(group='open')\n",
    "provider.backends()"
   ]
  },
  {
   "cell_type": "code",
   "execution_count": 2,
   "metadata": {},
   "outputs": [
    {
     "data": {
      "application/vnd.jupyter.widget-view+json": {
       "model_id": "e3671269270f435dbdc2b747f6a6eb08",
       "version_major": 2,
       "version_minor": 0
      },
      "text/plain": [
       "Accordion(children=(VBox(layout=Layout(max_width='710px', min_width='710px')),), layout=Layout(max_height='500…"
      ]
     },
     "metadata": {},
     "output_type": "display_data"
    },
    {
     "data": {
      "application/javascript": [
       "$('div.job_widget')\n",
       "        .detach()\n",
       "        .appendTo($('#header'))\n",
       "        .css({\n",
       "            'z-index': 999,\n",
       "             'position': 'fixed',\n",
       "            'box-shadow': '5px 5px 5px -3px black',\n",
       "            'opacity': 0.95,\n",
       "            'float': 'left,'\n",
       "        })\n",
       "        "
      ],
      "text/plain": [
       "<IPython.core.display.Javascript object>"
      ]
     },
     "metadata": {},
     "output_type": "display_data"
    }
   ],
   "source": [
    "# Notebook widget for watching IBMQ jobs.\n",
    "import qiskit.tools.jupyter\n",
    "%qiskit_job_watcher"
   ]
  },
  {
   "cell_type": "code",
   "execution_count": 3,
   "metadata": {},
   "outputs": [
    {
     "name": "stdout",
     "output_type": "stream",
     "text": [
      "ibmqx2\n"
     ]
    },
    {
     "data": {
      "image/png": "[encoded data removed]",
      "text/plain": [
       "<Figure size 360x360 with 1 Axes>"
      ]
     },
     "execution_count": 3,
     "metadata": {},
     "output_type": "execute_result"
    }
   ],
   "source": [
    "# Set least busy device as backend.\n",
    "from qiskit.providers.ibmq import least_busy\n",
    "from qiskit.visualization import plot_gate_map, plot_circuit_layout\n",
    "\n",
    "small_devices = provider.backends(filters=lambda x: x.configuration().n_qubits == 5\n",
    "                                   and not x.configuration().simulator)\n",
    "backend = least_busy(small_devices)\n",
    "\n",
    "# Set qasm as simulator.\n",
    "simulator = Aer.get_backend('qasm_simulator')\n",
    "\n",
    "# Print name and configuration.\n",
    "print(backend)\n",
    "plot_gate_map(backend, plot_directed=True)"
   ]
  },
  {
   "cell_type": "markdown",
   "metadata": {},
   "source": [
    "## Example 1: Two-qubit Bell state"
   ]
  },
  {
   "cell_type": "markdown",
   "metadata": {},
   "source": [
    "### Bell state preparation circuit\n",
    "\n",
    "We construct two circuits. `bell` prepares a Bell state on two qubits, and `meas` measures the two qubits. \n",
    "\n",
    "The `execute` function on the backend requires `bell` + `meas`, while `state_tomography_circuits` function from Ignis takes `bell` as input."
   ]
  },
  {
   "cell_type": "code",
   "execution_count": 4,
   "metadata": {},
   "outputs": [
    {
     "name": "stdout",
     "output_type": "stream",
     "text": [
      "         ┌───┐     \n",
      "q0_0: |0>┤ H ├──■──\n",
      "         └───┘┌─┴─┐\n",
      "q0_1: |0>─────┤ X ├\n",
      "              └───┘\n",
      "         ┌───┐      ░ ┌─┐   \n",
      "q0_0: |0>┤ H ├──■───░─┤M├───\n",
      "         └───┘┌─┴─┐ ░ └╥┘┌─┐\n",
      "q0_1: |0>─────┤ X ├─░──╫─┤M├\n",
      "              └───┘ ░  ║ └╥┘\n",
      " c0_0: 0 ══════════════╩══╬═\n",
      "                          ║ \n",
      " c0_1: 0 ═════════════════╩═\n",
      "                            \n"
     ]
    }
   ],
   "source": [
    "# Quantum circuit for two-qubit bell state.\n",
    "qr = QuantumRegister(2)\n",
    "bell = QuantumCircuit(qr)\n",
    "bell.h(0)\n",
    "bell.cx(0, 1)\n",
    "print(bell)\n",
    "\n",
    "# Measurement circuit.\n",
    "cr = ClassicalRegister(2)\n",
    "meas = QuantumCircuit(qr, cr)\n",
    "meas.barrier()\n",
    "meas.measure([0,1], [0,1])\n",
    "print(bell + meas)"
   ]
  },
  {
   "cell_type": "markdown",
   "metadata": {},
   "source": [
    "### Output of the Bell state preparation circuit\n",
    "\n",
    "To test the circuit, we run it on both the backend and simulator to verify that we have a Bell state."
   ]
  },
  {
   "cell_type": "code",
   "execution_count": 5,
   "metadata": {},
   "outputs": [
    {
     "name": "stdout",
     "output_type": "stream",
     "text": [
      "5e48a72875bcad001899ff96\n",
      "{'01': 69, '00': 2068, '10': 117, '11': 2746}\n"
     ]
    }
   ],
   "source": [
    "# Run bell circuit.\n",
    "job = execute(bell+meas, backend, optimization_level=0, shots=5000)\n",
    "print(job.job_id())\n",
    "counts = job.result().get_counts()\n",
    "print(counts)\n",
    "\n",
    "# Simulate bell circuit.\n",
    "counts_sim = execute(bell+meas, simulator, shots=5000).result().get_counts()"
   ]
  },
  {
   "cell_type": "code",
   "execution_count": 6,
   "metadata": {},
   "outputs": [
    {
     "data": {
      "image/png": "[encoded data removed]",
      "text/plain": [
       "<Figure size 504x360 with 1 Axes>"
      ]
     },
     "execution_count": 6,
     "metadata": {},
     "output_type": "execute_result"
    }
   ],
   "source": [
    "# Results from backend vs. simulator.\n",
    "from qiskit.visualization import plot_histogram\n",
    "plot_histogram([counts, counts_sim], legend = [backend, simulator])"
   ]
  },
  {
   "cell_type": "markdown",
   "metadata": {},
   "source": [
    "### Tomography on the Bell state\n",
    "\n",
    "The `state_tomography_circuits` function gives us a list of circuits for `bell` that we then \n",
    "run on the backend. \n",
    "\n",
    "The `StateTomographyFitter` function fits the output to a density matrix."
   ]
  },
  {
   "cell_type": "code",
   "execution_count": 7,
   "metadata": {},
   "outputs": [
    {
     "name": "stdout",
     "output_type": "stream",
     "text": [
      "         ┌───┐      ░ ┌───┐┌─┐   \n",
      "q0_0: |0>┤ H ├──■───░─┤ H ├┤M├───\n",
      "         └───┘┌─┴─┐ ░ ├───┤└╥┘┌─┐\n",
      "q0_1: |0>─────┤ X ├─░─┤ H ├─╫─┤M├\n",
      "              └───┘ ░ └───┘ ║ └╥┘\n",
      " c1_0: 0 ═══════════════════╩══╬═\n",
      "                               ║ \n",
      " c1_1: 0 ══════════════════════╩═\n",
      "                                 \n",
      "         ┌───┐      ░  ┌───┐ ┌─┐        \n",
      "q0_0: |0>┤ H ├──■───░──┤ H ├─┤M├────────\n",
      "         └───┘┌─┴─┐ ░ ┌┴───┴┐└╥┘┌───┐┌─┐\n",
      "q0_1: |0>─────┤ X ├─░─┤ Sdg ├─╫─┤ H ├┤M├\n",
      "              └───┘ ░ └─────┘ ║ └───┘└╥┘\n",
      " c1_0: 0 ═════════════════════╩═══════╬═\n",
      "                                      ║ \n",
      " c1_1: 0 ═════════════════════════════╩═\n",
      "                                        \n",
      "         ┌───┐      ░ ┌───┐┌─┐\n",
      "q0_0: |0>┤ H ├──■───░─┤ H ├┤M├\n",
      "         └───┘┌─┴─┐ ░ └┬─┬┘└╥┘\n",
      "q0_1: |0>─────┤ X ├─░──┤M├──╫─\n",
      "              └───┘ ░  └╥┘  ║ \n",
      " c1_0: 0 ═══════════════╬═══╩═\n",
      "                        ║     \n",
      " c1_1: 0 ═══════════════╩═════\n",
      "                              \n",
      "         ┌───┐      ░ ┌─────┐┌───┐┌─┐\n",
      "q0_0: |0>┤ H ├──■───░─┤ Sdg ├┤ H ├┤M├\n",
      "         └───┘┌─┴─┐ ░ └┬───┬┘└┬─┬┘└╥┘\n",
      "q0_1: |0>─────┤ X ├─░──┤ H ├──┤M├──╫─\n",
      "              └───┘ ░  └───┘  └╥┘  ║ \n",
      " c1_0: 0 ══════════════════════╬═══╩═\n",
      "                               ║     \n",
      " c1_1: 0 ══════════════════════╩═════\n",
      "                                     \n",
      "         ┌───┐      ░ ┌─────┐┌───┐┌─┐   \n",
      "q0_0: |0>┤ H ├──■───░─┤ Sdg ├┤ H ├┤M├───\n",
      "         └───┘┌─┴─┐ ░ ├─────┤├───┤└╥┘┌─┐\n",
      "q0_1: |0>─────┤ X ├─░─┤ Sdg ├┤ H ├─╫─┤M├\n",
      "              └───┘ ░ └─────┘└───┘ ║ └╥┘\n",
      " c1_0: 0 ══════════════════════════╩══╬═\n",
      "                                      ║ \n",
      " c1_1: 0 ═════════════════════════════╩═\n",
      "                                        \n",
      "         ┌───┐      ░ ┌─────┐┌───┐┌─┐\n",
      "q0_0: |0>┤ H ├──■───░─┤ Sdg ├┤ H ├┤M├\n",
      "         └───┘┌─┴─┐ ░ └─┬─┬─┘└───┘└╥┘\n",
      "q0_1: |0>─────┤ X ├─░───┤M├────────╫─\n",
      "              └───┘ ░   └╥┘        ║ \n",
      " c1_0: 0 ════════════════╬═════════╩═\n",
      "                         ║           \n",
      " c1_1: 0 ════════════════╩═══════════\n",
      "                                     \n",
      "         ┌───┐      ░ ┌─┐        \n",
      "q0_0: |0>┤ H ├──■───░─┤M├────────\n",
      "         └───┘┌─┴─┐ ░ └╥┘┌───┐┌─┐\n",
      "q0_1: |0>─────┤ X ├─░──╫─┤ H ├┤M├\n",
      "              └───┘ ░  ║ └───┘└╥┘\n",
      " c1_0: 0 ══════════════╩═══════╬═\n",
      "                               ║ \n",
      " c1_1: 0 ══════════════════════╩═\n",
      "                                 \n",
      "         ┌───┐      ░ ┌─┐               \n",
      "q0_0: |0>┤ H ├──■───░─┤M├───────────────\n",
      "         └───┘┌─┴─┐ ░ └╥┘┌─────┐┌───┐┌─┐\n",
      "q0_1: |0>─────┤ X ├─░──╫─┤ Sdg ├┤ H ├┤M├\n",
      "              └───┘ ░  ║ └─────┘└───┘└╥┘\n",
      " c1_0: 0 ══════════════╩══════════════╬═\n",
      "                                      ║ \n",
      " c1_1: 0 ═════════════════════════════╩═\n",
      "                                        \n",
      "         ┌───┐      ░ ┌─┐   \n",
      "q0_0: |0>┤ H ├──■───░─┤M├───\n",
      "         └───┘┌─┴─┐ ░ └╥┘┌─┐\n",
      "q0_1: |0>─────┤ X ├─░──╫─┤M├\n",
      "              └───┘ ░  ║ └╥┘\n",
      " c1_0: 0 ══════════════╩══╬═\n",
      "                          ║ \n",
      " c1_1: 0 ═════════════════╩═\n",
      "                            \n"
     ]
    }
   ],
   "source": [
    "# Calculate circuits for state tomography.\n",
    "from qiskit.ignis.verification.tomography import state_tomography_circuits, StateTomographyFitter\n",
    "qst_bell = state_tomography_circuits(bell, [qr[0], qr[1]])\n",
    "\n",
    "for circ in qst_bell:\n",
    "    print(circ)"
   ]
  },
  {
   "cell_type": "code",
   "execution_count": 8,
   "metadata": {},
   "outputs": [
    {
     "name": "stdout",
     "output_type": "stream",
     "text": [
      "5e48a972955bf1001899955a\n"
     ]
    }
   ],
   "source": [
    "# Tomography circuits on backend.\n",
    "job = execute(qst_bell, backend, optimization_level=0, shots=5000)\n",
    "print(job.job_id())"
   ]
  },
  {
   "cell_type": "code",
   "execution_count": 9,
   "metadata": {},
   "outputs": [
    {
     "name": "stdout",
     "output_type": "stream",
     "text": [
      "0.9008411764881933\n"
     ]
    },
    {
     "data": {
      "image/png": "[encoded data removed]",
      "text/plain": [
       "<Figure size 576x360 with 2 Axes>"
      ]
     },
     "execution_count": 9,
     "metadata": {},
     "output_type": "execute_result"
    }
   ],
   "source": [
    "# Calculate density matrix.\n",
    "tomo_bell = StateTomographyFitter(job.result(), qst_bell)\n",
    "rho_bell = tomo_bell.fit()\n",
    "\n",
    "# Calculate fidelity.\n",
    "from qiskit.quantum_info import state_fidelity\n",
    "psi_bell = execute(bell, Aer.get_backend('statevector_simulator')).result().get_statevector(bell)\n",
    "print(state_fidelity(psi_bell[0:4], rho_bell))\n",
    "\n",
    "# Hinton diagram of density matrix.\n",
    "from qiskit.visualization import plot_state_hinton\n",
    "plot_state_hinton(rho_bell)"
   ]
  },
  {
   "cell_type": "markdown",
   "metadata": {},
   "source": [
    "## Example 2: Five-qubit GHZ state\n",
    "\n",
    "This proceeds in a very similar way to the Bell state example.\n",
    "\n",
    "A key difference is the the number of circuits required to perform state tomography on a five-qubit GHZ state is far greater than the two-qubit Bell state.\n",
    "\n",
    "This requires us to batch jobs. "
   ]
  },
  {
   "cell_type": "markdown",
   "metadata": {},
   "source": [
    "### GHZ state preparation circuit"
   ]
  },
  {
   "cell_type": "code",
   "execution_count": 4,
   "metadata": {},
   "outputs": [
    {
     "name": "stdout",
     "output_type": "stream",
     "text": [
      "              ┌───┐               \n",
      "q0_0: |0>─────┤ X ├───────────────\n",
      "              └─┬─┘┌───┐          \n",
      "q0_1: |0>───────┼──┤ X ├──────────\n",
      "         ┌───┐  │  └─┬─┘          \n",
      "q0_2: |0>┤ H ├──■────■────■────■──\n",
      "         └───┘          ┌─┴─┐  │  \n",
      "q0_3: |0>───────────────┤ X ├──┼──\n",
      "                        └───┘┌─┴─┐\n",
      "q0_4: |0>────────────────────┤ X ├\n",
      "                             └───┘\n",
      "              ┌───┐                ░ ┌─┐            \n",
      "q0_0: |0>─────┤ X ├────────────────░─┤M├────────────\n",
      "              └─┬─┘┌───┐           ░ └╥┘┌─┐         \n",
      "q0_1: |0>───────┼──┤ X ├───────────░──╫─┤M├─────────\n",
      "         ┌───┐  │  └─┬─┘           ░  ║ └╥┘┌─┐      \n",
      "q0_2: |0>┤ H ├──■────■────■────■───░──╫──╫─┤M├──────\n",
      "         └───┘          ┌─┴─┐  │   ░  ║  ║ └╥┘┌─┐   \n",
      "q0_3: |0>───────────────┤ X ├──┼───░──╫──╫──╫─┤M├───\n",
      "                        └───┘┌─┴─┐ ░  ║  ║  ║ └╥┘┌─┐\n",
      "q0_4: |0>────────────────────┤ X ├─░──╫──╫──╫──╫─┤M├\n",
      "                             └───┘ ░  ║  ║  ║  ║ └╥┘\n",
      " c0_0: 0 ═════════════════════════════╩══╬══╬══╬══╬═\n",
      "                                         ║  ║  ║  ║ \n",
      " c0_1: 0 ════════════════════════════════╩══╬══╬══╬═\n",
      "                                            ║  ║  ║ \n",
      " c0_2: 0 ═══════════════════════════════════╩══╬══╬═\n",
      "                                               ║  ║ \n",
      " c0_3: 0 ══════════════════════════════════════╩══╬═\n",
      "                                                  ║ \n",
      " c0_4: 0 ═════════════════════════════════════════╩═\n",
      "                                                    \n"
     ]
    }
   ],
   "source": [
    "# Quantum circuit for a three-qubit GHZ state.\n",
    "qr = QuantumRegister(5)\n",
    "ghz = QuantumCircuit(qr)\n",
    "ghz.h(2)\n",
    "for q in [0, 1, 3, 4]:\n",
    "    ghz.cx(2, q)\n",
    "print(ghz)\n",
    "\n",
    "# Measurement circuit.\n",
    "cr = ClassicalRegister(5)\n",
    "meas = QuantumCircuit(qr, cr)\n",
    "meas.barrier()\n",
    "meas.measure(qr, cr)\n",
    "print(ghz + meas)"
   ]
  },
  {
   "cell_type": "markdown",
   "metadata": {},
   "source": [
    "### Output of the GHZ preparation circuit"
   ]
  },
  {
   "cell_type": "code",
   "execution_count": 5,
   "metadata": {},
   "outputs": [
    {
     "name": "stdout",
     "output_type": "stream",
     "text": [
      "5e48af4a99c7ea0018d61e47\n",
      "{'01110': 3, '10100': 8, '11110': 86, '11000': 4, '10110': 3, '11011': 57, '01111': 55, '00010': 25, '11001': 2, '00001': 37, '11100': 20, '11101': 110, '00011': 16, '00110': 1, '01101': 6, '10000': 53, '10001': 2, '10111': 93, '01000': 78, '01100': 2, '00111': 7, '00000': 2379, '10010': 3, '11010': 3, '11111': 1916, '01001': 5, '01011': 12, '10101': 9, '00100': 5}\n"
     ]
    }
   ],
   "source": [
    "# Run GHZ circuit.\n",
    "job = execute(ghz+meas, backend, optimization_level=0, shots=5000)\n",
    "print(job.job_id())\n",
    "\n",
    "counts = job.result().get_counts()\n",
    "print(counts)\n",
    "\n",
    "# Simulate GHZ circuit.\n",
    "counts_sim = execute(ghz+meas, simulator, shots=5000).result().get_counts()"
   ]
  },
  {
   "cell_type": "code",
   "execution_count": 6,
   "metadata": {},
   "outputs": [
    {
     "data": {
      "image/png": "[encoded data removed]",
      "text/plain": [
       "<Figure size 504x360 with 1 Axes>"
      ]
     },
     "execution_count": 6,
     "metadata": {},
     "output_type": "execute_result"
    }
   ],
   "source": [
    "# Results from backend vs. simulator.\n",
    "from qiskit.visualization import plot_histogram\n",
    "plot_histogram([counts, counts_sim], legend = [backend, simulator])"
   ]
  },
  {
   "cell_type": "markdown",
   "metadata": {},
   "source": [
    "### Tomography on the GHZ state"
   ]
  },
  {
   "cell_type": "code",
   "execution_count": 7,
   "metadata": {},
   "outputs": [
    {
     "name": "stdout",
     "output_type": "stream",
     "text": [
      "243\n"
     ]
    }
   ],
   "source": [
    "# Calculate circuits for state tomography.\n",
    "from qiskit.ignis.verification.tomography import state_tomography_circuits, StateTomographyFitter\n",
    "qst_ghz = state_tomography_circuits(ghz, qr)\n",
    "print(len(qst_ghz))"
   ]
  },
  {
   "cell_type": "code",
   "execution_count": 8,
   "metadata": {},
   "outputs": [
    {
     "name": "stdout",
     "output_type": "stream",
     "text": [
      "5e48b3795f08c6001852ef2c\n",
      "5e48b37f99c7ea0018d61e66\n",
      "5e48b3845f08c6001852ef2d\n",
      "5e48b38ae499020018050e69\n",
      "5e48b38f6e4cf7001885c84b\n"
     ]
    }
   ],
   "source": [
    "# Batched state tomography circuits on backend.\n",
    "result = []\n",
    "for n in range(len(qst_ghz)//50 + 1):\n",
    "    job = execute(qst_ghz[n*50 : (n+1)*50], backend, optimization_level=0, shots=5000)\n",
    "    reults.append(job.result())\n",
    "    print(job.job_id())"
   ]
  },
  {
   "cell_type": "code",
   "execution_count": 15,
   "metadata": {},
   "outputs": [
    {
     "name": "stdout",
     "output_type": "stream",
     "text": [
      "0.48453252315290596\n"
     ]
    },
    {
     "data": {
      "image/png": "[encoded data removed]",
      "text/plain": [
       "<Figure size 576x360 with 2 Axes>"
      ]
     },
     "execution_count": 15,
     "metadata": {},
     "output_type": "execute_result"
    }
   ],
   "source": [
    "# Calculate density matrix.\n",
    "tomo_ghz = []\n",
    "tomo_ghz = StateTomographyFitter(result[0], qst_ghz[:50])\n",
    "for n in range(1, len(qst_ghz)//50 + 1):\n",
    "    tomo_ghz.add_data(resulr[n], qst_ghz[n*50 : (n+1)*50])\n",
    "rho_ghz = tomo_ghz.fit()\n",
    "\n",
    "# Calculate fidelity.\n",
    "from qiskit.quantum_info import state_fidelity\n",
    "psi_ghz = execute(ghz, Aer.get_backend('statevector_simulator')).result().get_statevector(ghz)\n",
    "print(state_fidelity(psi_ghz[0:32], rho_ghz))\n",
    "\n",
    "# Hinton diagram of density matrix.\n",
    "from qiskit.visualization import plot_state_hinton\n",
    "plot_state_hinton(rho_ghz)"
   ]
  },
  {
   "cell_type": "code",
   "execution_count": null,
   "metadata": {},
   "outputs": [],
   "source": []
  }
 ],
 "metadata": {
  "kernelspec": {
   "display_name": "Python 3",
   "language": "python",
   "name": "python3"
  },
  "language_info": {
   "codemirror_mode": {
    "name": "ipython",
    "version": 3
   },
   "file_extension": ".py",
   "mimetype": "text/x-python",
   "name": "python",
   "nbconvert_exporter": "python",
   "pygments_lexer": "ipython3",
   "version": "3.7.4"
  }
 },
 "nbformat": 4,
 "nbformat_minor": 2
}
