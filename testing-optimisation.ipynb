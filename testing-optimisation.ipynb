{
 "cells": [
  {
   "cell_type": "code",
   "execution_count": 1,
   "metadata": {},
   "outputs": [],
   "source": [
    "from qiskit import IBMQ\n",
    "#import qiskit.tools.jupyter\n",
    "#%qiskit_job_watcher\n",
    "\n",
    "import numpy as np\n",
    "import qutip as qt\n",
    "import matplotlib.pyplot as plt\n",
    "%matplotlib inline\n",
    "\n",
    "IBMQ.load_account()\n",
    "provider = IBMQ.get_provider(group='open')\n",
    "backend = provider.get_backend(open_pulse=True)"
   ]
  },
  {
   "cell_type": "code",
   "execution_count": 2,
   "metadata": {},
   "outputs": [],
   "source": [
    "def to_ptm(op):\n",
    "    paulis = [qt.qeye(2), qt.sigmax(), qt.sigmay(), qt.sigmaz()]\n",
    "    ptm = np.zeros((4, 4), dtype=complex)\n",
    "    for i in range(4):\n",
    "        for j in range(4):\n",
    "            ptm[i, j] = (paulis[i] * op * paulis[j] * op.dag()).tr()/2\n",
    "    return qt.Qobj(ptm)\n",
    "\n",
    "def rotation(theta, phi, lam):\n",
    "    U = [[np.cos(theta/2), -np.exp(1j*lam) * np.sin(theta/2)], \n",
    "         [np.exp(1j*phi) * np.sin(theta/2), np.exp(1j*lam+1j*phi) * np.cos(theta/2)]]\n",
    "    return qt.Qobj(U)\n",
    "\n",
    "def objective(angles, *args):\n",
    "    theta, phi, lam = angles\n",
    "    U = to_ptm(rotation(theta, phi, lam))\n",
    "    G, G_ideal = args\n",
    "    norm = np.linalg.norm((G_ideal - U * G)) ** 2\n",
    "    return norm"
   ]
  },
  {
   "cell_type": "code",
   "execution_count": 3,
   "metadata": {},
   "outputs": [
    {
     "name": "stdout",
     "output_type": "stream",
     "text": [
      "5e55c31d45520e0018ffab00\n"
     ]
    }
   ],
   "source": [
    "from qiskit.circuit import QuantumRegister, QuantumCircuit\n",
    "from qiskit.ignis.verification.tomography import process_tomography_circuits\n",
    "from qiskit.execute import execute\n",
    "\n",
    "register = QuantumRegister(1)\n",
    "circuit = QuantumCircuit(register)\n",
    "circuit.h(0)\n",
    "\n",
    "experiments = process_tomography_circuits(circuit, register[0])\n",
    "job = backend.retrieve_job('5e55c31d45520e0018ffab00')\n",
    "result = job.result()\n",
    "\n",
    "print(job.job_id())"
   ]
  },
  {
   "cell_type": "code",
   "execution_count": 4,
   "metadata": {},
   "outputs": [
    {
     "name": "stdout",
     "output_type": "stream",
     "text": [
      "CP? True. TP? True.\n",
      "Norm from ideal: 0.029602687499999402.\n"
     ]
    },
    {
     "data": {
      "image/png": "[encoded data removed]",
      "text/plain": [
       "<Figure size 360x360 with 1 Axes>"
      ]
     },
     "metadata": {
      "needs_background": "light"
     },
     "output_type": "display_data"
    }
   ],
   "source": [
    "from qiskit.ignis.verification.tomography import ProcessTomographyFitter\n",
    "from qiskit.quantum_info import PTM\n",
    "from qiskit.visualization import plot_state_hinton\n",
    "\n",
    "tomography = ProcessTomographyFitter(result, experiments)\n",
    "choi = tomography.fit()\n",
    "ptm = qt.Qobj(PTM(choi).data)\n",
    "\n",
    "ptm_ideal = to_ptm(qt.hadamard_transform(1))\n",
    "ptm_norm_before =  np.linalg.norm((ptm_ideal - ptm).full()) ** 2\n",
    "\n",
    "fig, ax = plt.subplots(1, 1, figsize=(5, 5))\n",
    "plot_state_hinton(ptm.dag(), ax_real=ax)\n",
    "ax.set_title(r'PTM');\n",
    "ax.set_xticklabels(['I', 'X', 'Y', 'Z'])\n",
    "ax.set_yticklabels(['I', 'X', 'Y', 'Z'])\n",
    "\n",
    "print('CP? '+str(PTM(choi).is_cp())+'.', 'TP? '+str(PTM(choi).is_tp())+'.')\n",
    "print('Norm from ideal: '+str(ptm_norm_before)+'.')"
   ]
  },
  {
   "cell_type": "code",
   "execution_count": 5,
   "metadata": {},
   "outputs": [],
   "source": [
    "theta_list = np.linspace(-np.pi, np.pi, 101)\n",
    "phi_list = np.linspace(-np.pi, np.pi, 101)\n",
    "\n",
    "V = np.zeros((len(theta_list), len(phi_list)))\n",
    "for i, theta in enumerate(theta_list):\n",
    "    for j, phi in enumerate(phi_list):\n",
    "        angles = phi, theta, 0\n",
    "        V[i, j] = objective(angles, ptm, ptm_ideal)"
   ]
  },
  {
   "cell_type": "code",
   "execution_count": 6,
   "metadata": {},
   "outputs": [
    {
     "data": {
      "text/plain": [
       "0.029602687499999402"
      ]
     },
     "execution_count": 6,
     "metadata": {},
     "output_type": "execute_result"
    },
    {
     "data": {
      "image/png": "[encoded data removed]",
      "text/plain": [
       "<Figure size 432x288 with 1 Axes>"
      ]
     },
     "metadata": {
      "needs_background": "light"
     },
     "output_type": "display_data"
    }
   ],
   "source": [
    "plt.contourf(theta_list/np.pi, phi_list/np.pi, V)\n",
    "np.min(V)"
   ]
  },
  {
   "cell_type": "code",
   "execution_count": 7,
   "metadata": {},
   "outputs": [],
   "source": [
    "theta_list = np.linspace(-np.pi/2000, np.pi/2000, 101)\n",
    "phi_list = np.linspace(-np.pi/2000, np.pi/2000, 101)\n",
    "\n",
    "V_zoom = np.zeros((len(theta_list), len(phi_list)))\n",
    "for i, theta in enumerate(theta_list):\n",
    "    for j, phi in enumerate(phi_list):\n",
    "        angles = phi, theta, 0\n",
    "        V_zoom[i, j] = objective(angles, ptm, ptm_ideal)"
   ]
  },
  {
   "cell_type": "code",
   "execution_count": 8,
   "metadata": {},
   "outputs": [
    {
     "data": {
      "text/plain": [
       "0.02954268718993431"
      ]
     },
     "execution_count": 8,
     "metadata": {},
     "output_type": "execute_result"
    },
    {
     "data": {
      "image/png": "[encoded data removed]",
      "text/plain": [
       "<Figure size 432x288 with 1 Axes>"
      ]
     },
     "metadata": {
      "needs_background": "light"
     },
     "output_type": "display_data"
    }
   ],
   "source": [
    "plt.contourf(theta_list/np.pi, phi_list/np.pi, V)\n",
    "np.min(V_zoom)"
   ]
  },
  {
   "cell_type": "code",
   "execution_count": 9,
   "metadata": {},
   "outputs": [],
   "source": [
    "ptm = to_ptm(rotation(np.pi/2-0.01, 0.04, np.pi+0.003))\n",
    "ptm_ideal = to_ptm(rotation(np.pi/2, 0, np.pi))"
   ]
  },
  {
   "cell_type": "code",
   "execution_count": 10,
   "metadata": {},
   "outputs": [
    {
     "name": "stdout",
     "output_type": "stream",
     "text": [
      "[ 0.00332325  0.09277053 -0.1055077 ]\n",
      "Norm from ideal correction: 2.137362374242874e-16.\n"
     ]
    },
    {
     "data": {
      "image/png": "[encoded data removed]",
      "text/plain": [
       "<Figure size 720x360 with 2 Axes>"
      ]
     },
     "metadata": {
      "needs_background": "light"
     },
     "output_type": "display_data"
    }
   ],
   "source": [
    "from scipy.optimize import minimize\n",
    "guess = .5 * np.random.randn(3, 1) \n",
    "#bounds = ((np.pi/2, np.pi/2), (np.pi/2, np.pi/2), (np.pi/2, np.pi/2))\n",
    "solution = minimize(objective, guess, args=(ptm, ptm_ideal), tol=1e-12)\n",
    "angles = solution.x\n",
    "\n",
    "theta, phi, lam = angles\n",
    "U = to_ptm(rotation(theta, phi, lam))\n",
    "\n",
    "ptm_corr = U * ptm\n",
    "ptm_norm_after =  np.linalg.norm((ptm_corr - ptm_ideal).full()) **2\n",
    "\n",
    "fig, axs = plt.subplots(1, 2, figsize=(10, 5))\n",
    "plot_state_hinton(ptm.dag(), ax_real=axs[0])\n",
    "plot_state_hinton(ptm_corr.dag(), ax_real=axs[1])\n",
    "for ax in axs:\n",
    "    ax.set_title(r'PTM');\n",
    "    ax.set_xticklabels(['I', 'X', 'Y', 'Z'])\n",
    "    ax.set_yticklabels(['I', 'X', 'Y', 'Z'])\n",
    "\n",
    "print(angles/np.pi)\n",
    "print('Norm from ideal correction: '+str(ptm_norm_after)+'.')"
   ]
  },
  {
   "cell_type": "code",
   "execution_count": 85,
   "metadata": {},
   "outputs": [
    {
     "data": {
      "text/latex": [
       "Quantum object: dims = [[2], [2]], shape = (2, 2), type = oper, isherm = False\\begin{equation*}\\left(\\begin{array}{*{11}c}1.000 & (0.005-0.001j)\\\\(-0.005-0.002j) & (0.999+0.040j)\\\\\\end{array}\\right)\\end{equation*}"
      ],
      "text/plain": [
       "Quantum object: dims = [[2], [2]], shape = (2, 2), type = oper, isherm = False\n",
       "Qobj data =\n",
       "[[ 0.99998638+0.j          0.00499998-0.00149994j]\n",
       " [-0.00493597-0.00169876j  0.99918589+0.04000378j]]"
      ]
     },
     "execution_count": 85,
     "metadata": {},
     "output_type": "execute_result"
    }
   ],
   "source": [
    "rotation(theta, phi, lam).dag()"
   ]
  },
  {
   "cell_type": "code",
   "execution_count": 86,
   "metadata": {},
   "outputs": [
    {
     "data": {
      "text/latex": [
       "Quantum object: dims = [[2], [2]], shape = (2, 2), type = oper, isherm = False\\begin{equation*}\\left(\\begin{array}{*{11}c}1.000 & (0.005-0.001j)\\\\(-0.005-0.002j) & (0.999+0.040j)\\\\\\end{array}\\right)\\end{equation*}"
      ],
      "text/plain": [
       "Quantum object: dims = [[2], [2]], shape = (2, 2), type = oper, isherm = False\n",
       "Qobj data =\n",
       "[[ 0.99998638+0.j          0.00499998-0.00149994j]\n",
       " [-0.00493597-0.00169876j  0.99918589+0.04000378j]]"
      ]
     },
     "execution_count": 86,
     "metadata": {},
     "output_type": "execute_result"
    }
   ],
   "source": [
    "rotation(-theta, -lam, -phi)"
   ]
  },
  {
   "cell_type": "code",
   "execution_count": null,
   "metadata": {},
   "outputs": [],
   "source": []
  }
 ],
 "metadata": {
  "kernelspec": {
   "display_name": "Python 3",
   "language": "python",
   "name": "python3"
  },
  "language_info": {
   "codemirror_mode": {
    "name": "ipython",
    "version": 3
   },
   "file_extension": ".py",
   "mimetype": "text/x-python",
   "name": "python",
   "nbconvert_exporter": "python",
   "pygments_lexer": "ipython3",
   "version": "3.7.4"
  }
 },
 "nbformat": 4,
 "nbformat_minor": 2
}
