{
 "cells": [
  {
   "cell_type": "markdown",
   "metadata": {},
   "source": [
    "# Quantum process tomography\n",
    "This notebook loosely follows through the examples in the [corresponding Qiskit tutorial](https://github.com/Qiskit/qiskit-iqx-tutorials/blob/master/qiskit/advanced/ignis/6b_process_tomography.ipynb)."
   ]
  },
  {
   "cell_type": "code",
   "execution_count": 1,
   "metadata": {},
   "outputs": [
    {
     "data": {
      "text/plain": [
       "[<IBMQSimulator('ibmq_qasm_simulator') from IBMQ(hub='ibm-q', group='open', project='main')>,\n",
       " <IBMQBackend('ibmqx2') from IBMQ(hub='ibm-q', group='open', project='main')>,\n",
       " <IBMQBackend('ibmq_16_melbourne') from IBMQ(hub='ibm-q', group='open', project='main')>,\n",
       " <IBMQBackend('ibmq_vigo') from IBMQ(hub='ibm-q', group='open', project='main')>,\n",
       " <IBMQBackend('ibmq_ourense') from IBMQ(hub='ibm-q', group='open', project='main')>,\n",
       " <IBMQBackend('ibmq_london') from IBMQ(hub='ibm-q', group='open', project='main')>,\n",
       " <IBMQBackend('ibmq_burlington') from IBMQ(hub='ibm-q', group='open', project='main')>,\n",
       " <IBMQBackend('ibmq_essex') from IBMQ(hub='ibm-q', group='open', project='main')>,\n",
       " <IBMQBackend('ibmq_armonk') from IBMQ(hub='ibm-q', group='open', project='main')>]"
      ]
     },
     "execution_count": 1,
     "metadata": {},
     "output_type": "execute_result"
    }
   ],
   "source": [
    "from qiskit import *\n",
    "\n",
    "# Matplotlib is recommended for Qiskit. Others are for fun.\n",
    "import numpy as np\n",
    "import qutip as qt\n",
    "import matplotlib as plt\n",
    "%matplotlib inline\n",
    "\n",
    "# Load account (requires a saved IBMQ user id) and list available backends.\n",
    "IBMQ.load_account()\n",
    "provider = IBMQ.get_provider(group='open')\n",
    "provider.backends()"
   ]
  },
  {
   "cell_type": "code",
   "execution_count": 2,
   "metadata": {},
   "outputs": [
    {
     "data": {
      "application/vnd.jupyter.widget-view+json": {
       "model_id": "1a3a49b5dec34326a20e2da627ce637c",
       "version_major": 2,
       "version_minor": 0
      },
      "text/plain": [
       "Accordion(children=(VBox(layout=Layout(max_width='710px', min_width='710px')),), layout=Layout(max_height='500…"
      ]
     },
     "metadata": {},
     "output_type": "display_data"
    },
    {
     "data": {
      "application/javascript": [
       "$('div.job_widget')\n",
       "        .detach()\n",
       "        .appendTo($('#header'))\n",
       "        .css({\n",
       "            'z-index': 999,\n",
       "             'position': 'fixed',\n",
       "            'box-shadow': '5px 5px 5px -3px black',\n",
       "            'opacity': 0.95,\n",
       "            'float': 'left,'\n",
       "        })\n",
       "        "
      ],
      "text/plain": [
       "<IPython.core.display.Javascript object>"
      ]
     },
     "metadata": {},
     "output_type": "display_data"
    }
   ],
   "source": [
    "# Notebook widget for watching IBMQ jobs.\n",
    "import qiskit.tools.jupyter\n",
    "%qiskit_job_watcher"
   ]
  },
  {
   "cell_type": "code",
   "execution_count": 3,
   "metadata": {},
   "outputs": [
    {
     "name": "stdout",
     "output_type": "stream",
     "text": [
      "ibmqx2\n"
     ]
    },
    {
     "data": {
      "image/png": "[encoded data removed]",
      "text/plain": [
       "<Figure size 360x360 with 1 Axes>"
      ]
     },
     "execution_count": 3,
     "metadata": {},
     "output_type": "execute_result"
    }
   ],
   "source": [
    "# Set least busy device as backend.\n",
    "from qiskit.providers.ibmq import least_busy\n",
    "from qiskit.visualization import plot_gate_map, plot_circuit_layout\n",
    "\n",
    "small_devices = provider.backends(filters=lambda x: x.configuration().n_qubits == 5\n",
    "                                   and not x.configuration().simulator)\n",
    "backend = least_busy(small_devices)\n",
    "\n",
    "# Set qasm as simulator.\n",
    "simulator = Aer.get_backend('qasm_simulator')\n",
    "\n",
    "# Print name and configuration.\n",
    "print(backend)\n",
    "plot_gate_map(backend, plot_directed=True)"
   ]
  },
  {
   "cell_type": "markdown",
   "metadata": {},
   "source": [
    "## Hadamard gate"
   ]
  },
  {
   "cell_type": "markdown",
   "metadata": {},
   "source": [
    "Circuit preparation."
   ]
  },
  {
   "cell_type": "code",
   "execution_count": 10,
   "metadata": {},
   "outputs": [
    {
     "name": "stdout",
     "output_type": "stream",
     "text": [
      "         ┌───┐\n",
      "q1_0: |0>┤ H ├\n",
      "         └───┘\n",
      "q1_1: |0>─────\n",
      "              \n",
      "q1_2: |0>─────\n",
      "              \n",
      "q1_3: |0>─────\n",
      "              \n",
      "q1_4: |0>─────\n",
      "              \n",
      "         ┌───┐ ░ ┌─┐\n",
      "q1_0: |0>┤ H ├─░─┤M├\n",
      "         └───┘ ░ └╥┘\n",
      "q1_1: |0>──────░──╫─\n",
      "               ░  ║ \n",
      "q1_2: |0>──────░──╫─\n",
      "               ░  ║ \n",
      "q1_3: |0>──────░──╫─\n",
      "               ░  ║ \n",
      "q1_4: |0>──────░──╫─\n",
      "               ░  ║ \n",
      " c2_0: 0 ═════════╩═\n",
      "                    \n"
     ]
    }
   ],
   "source": [
    "# Hadamard gate\n",
    "qr = QuantumRegister(5)\n",
    "had = QuantumCircuit(qr)\n",
    "had.h(0)\n",
    "print(had)\n",
    "\n",
    "# Measurement circuit.\n",
    "cr = ClassicalRegister(1)\n",
    "meas = QuantumCircuit(qr, cr)\n",
    "meas.barrier()\n",
    "meas.measure(0, 0)\n",
    "print(had+meas)"
   ]
  },
  {
   "cell_type": "markdown",
   "metadata": {},
   "source": [
    "Circuit testing"
   ]
  },
  {
   "cell_type": "code",
   "execution_count": 11,
   "metadata": {},
   "outputs": [
    {
     "name": "stdout",
     "output_type": "stream",
     "text": [
      "5e43389f8b2ff900115fc8a7\n"
     ]
    },
    {
     "name": "stderr",
     "output_type": "stream",
     "text": [
      "WARNING:websockets.protocol:Unexpected exception in keepalive ping task\n",
      "Traceback (most recent call last):\n",
      "  File \"/Users/thomassmith/anaconda3/lib/python3.7/site-packages/websockets/protocol.py\", line 984, in keepalive_ping\n",
      "    ping_waiter = yield from self.ping()\n",
      "  File \"/Users/thomassmith/anaconda3/lib/python3.7/site-packages/websockets/protocol.py\", line 583, in ping\n",
      "    yield from self.ensure_open()\n",
      "  File \"/Users/thomassmith/anaconda3/lib/python3.7/site-packages/websockets/protocol.py\", line 646, in ensure_open\n",
      "    ) from self.transfer_data_exc\n",
      "websockets.exceptions.ConnectionClosed: WebSocket connection is closed: code = 1006 (connection closed abnormally [internal]), no reason\n"
     ]
    },
    {
     "name": "stdout",
     "output_type": "stream",
     "text": [
      "{'0': 2459, '1': 2541}\n"
     ]
    }
   ],
   "source": [
    "# Run Hadamard circuit.\n",
    "job = execute(had+meas, backend, optimization_level=0, shots=5000)\n",
    "print(job.job_id())\n",
    "\n",
    "counts = job.result().get_counts()\n",
    "print(counts)\n",
    "\n",
    "# Simulate Hadamard ciruit.\n",
    "counts_sim = execute(had+meas, simulator, shots=5000).result().get_counts()"
   ]
  },
  {
   "cell_type": "code",
   "execution_count": 12,
   "metadata": {},
   "outputs": [
    {
     "data": {
      "image/png": "[encoded data removed]",
      "text/plain": [
       "<Figure size 504x360 with 1 Axes>"
      ]
     },
     "execution_count": 12,
     "metadata": {},
     "output_type": "execute_result"
    }
   ],
   "source": [
    "# Results from backend vs simulator.\n",
    "from qiskit.visualization import plot_histogram\n",
    "plot_histogram([counts, counts_sim], legend=[backend, simulator])"
   ]
  },
  {
   "cell_type": "markdown",
   "metadata": {},
   "source": [
    "Process tomography driven by Qiskit."
   ]
  },
  {
   "cell_type": "code",
   "execution_count": 13,
   "metadata": {},
   "outputs": [
    {
     "name": "stdout",
     "output_type": "stream",
     "text": [
      "          ░ ┌───┐ ░ ┌───┐┌─┐\n",
      "q1_0: |0>─░─┤ H ├─░─┤ H ├┤M├\n",
      "          ░ └───┘ ░ └───┘└╥┘\n",
      "q1_1: |0>─░───────░───────╫─\n",
      "          ░       ░       ║ \n",
      "q1_2: |0>─░───────░───────╫─\n",
      "          ░       ░       ║ \n",
      "q1_3: |0>─░───────░───────╫─\n",
      "          ░       ░       ║ \n",
      "q1_4: |0>─░───────░───────╫─\n",
      "          ░       ░       ║ \n",
      " c3_0: 0 ═════════════════╩═\n",
      "                            \n",
      "          ░ ┌───┐ ░ ┌─────┐┌───┐┌─┐\n",
      "q1_0: |0>─░─┤ H ├─░─┤ Sdg ├┤ H ├┤M├\n",
      "          ░ └───┘ ░ └─────┘└───┘└╥┘\n",
      "q1_1: |0>─░───────░──────────────╫─\n",
      "          ░       ░              ║ \n",
      "q1_2: |0>─░───────░──────────────╫─\n",
      "          ░       ░              ║ \n",
      "q1_3: |0>─░───────░──────────────╫─\n",
      "          ░       ░              ║ \n",
      "q1_4: |0>─░───────░──────────────╫─\n",
      "          ░       ░              ║ \n",
      " c3_0: 0 ════════════════════════╩═\n",
      "                                   \n",
      "          ░ ┌───┐ ░ ┌─┐\n",
      "q1_0: |0>─░─┤ H ├─░─┤M├\n",
      "          ░ └───┘ ░ └╥┘\n",
      "q1_1: |0>─░───────░──╫─\n",
      "          ░       ░  ║ \n",
      "q1_2: |0>─░───────░──╫─\n",
      "          ░       ░  ║ \n",
      "q1_3: |0>─░───────░──╫─\n",
      "          ░       ░  ║ \n",
      "q1_4: |0>─░───────░──╫─\n",
      "          ░       ░  ║ \n",
      " c3_0: 0 ════════════╩═\n",
      "                       \n",
      "         ┌───┐ ░ ┌───┐ ░ ┌───┐┌─┐\n",
      "q1_0: |0>┤ X ├─░─┤ H ├─░─┤ H ├┤M├\n",
      "         └───┘ ░ └───┘ ░ └───┘└╥┘\n",
      "q1_1: |0>──────░───────░───────╫─\n",
      "               ░       ░       ║ \n",
      "q1_2: |0>──────░───────░───────╫─\n",
      "               ░       ░       ║ \n",
      "q1_3: |0>──────░───────░───────╫─\n",
      "               ░       ░       ║ \n",
      "q1_4: |0>──────░───────░───────╫─\n",
      "               ░       ░       ║ \n",
      " c3_0: 0 ══════════════════════╩═\n",
      "                                 \n",
      "         ┌───┐ ░ ┌───┐ ░ ┌─────┐┌───┐┌─┐\n",
      "q1_0: |0>┤ X ├─░─┤ H ├─░─┤ Sdg ├┤ H ├┤M├\n",
      "         └───┘ ░ └───┘ ░ └─────┘└───┘└╥┘\n",
      "q1_1: |0>──────░───────░──────────────╫─\n",
      "               ░       ░              ║ \n",
      "q1_2: |0>──────░───────░──────────────╫─\n",
      "               ░       ░              ║ \n",
      "q1_3: |0>──────░───────░──────────────╫─\n",
      "               ░       ░              ║ \n",
      "q1_4: |0>──────░───────░──────────────╫─\n",
      "               ░       ░              ║ \n",
      " c3_0: 0 ═════════════════════════════╩═\n",
      "                                        \n",
      "         ┌───┐ ░ ┌───┐ ░ ┌─┐\n",
      "q1_0: |0>┤ X ├─░─┤ H ├─░─┤M├\n",
      "         └───┘ ░ └───┘ ░ └╥┘\n",
      "q1_1: |0>──────░───────░──╫─\n",
      "               ░       ░  ║ \n",
      "q1_2: |0>──────░───────░──╫─\n",
      "               ░       ░  ║ \n",
      "q1_3: |0>──────░───────░──╫─\n",
      "               ░       ░  ║ \n",
      "q1_4: |0>──────░───────░──╫─\n",
      "               ░       ░  ║ \n",
      " c3_0: 0 ═════════════════╩═\n",
      "                            \n",
      "         ┌───┐ ░ ┌───┐ ░ ┌───┐┌─┐\n",
      "q1_0: |0>┤ H ├─░─┤ H ├─░─┤ H ├┤M├\n",
      "         └───┘ ░ └───┘ ░ └───┘└╥┘\n",
      "q1_1: |0>──────░───────░───────╫─\n",
      "               ░       ░       ║ \n",
      "q1_2: |0>──────░───────░───────╫─\n",
      "               ░       ░       ║ \n",
      "q1_3: |0>──────░───────░───────╫─\n",
      "               ░       ░       ║ \n",
      "q1_4: |0>──────░───────░───────╫─\n",
      "               ░       ░       ║ \n",
      " c3_0: 0 ══════════════════════╩═\n",
      "                                 \n",
      "         ┌───┐ ░ ┌───┐ ░ ┌─────┐┌───┐┌─┐\n",
      "q1_0: |0>┤ H ├─░─┤ H ├─░─┤ Sdg ├┤ H ├┤M├\n",
      "         └───┘ ░ └───┘ ░ └─────┘└───┘└╥┘\n",
      "q1_1: |0>──────░───────░──────────────╫─\n",
      "               ░       ░              ║ \n",
      "q1_2: |0>──────░───────░──────────────╫─\n",
      "               ░       ░              ║ \n",
      "q1_3: |0>──────░───────░──────────────╫─\n",
      "               ░       ░              ║ \n",
      "q1_4: |0>──────░───────░──────────────╫─\n",
      "               ░       ░              ║ \n",
      " c3_0: 0 ═════════════════════════════╩═\n",
      "                                        \n",
      "         ┌───┐ ░ ┌───┐ ░ ┌─┐\n",
      "q1_0: |0>┤ H ├─░─┤ H ├─░─┤M├\n",
      "         └───┘ ░ └───┘ ░ └╥┘\n",
      "q1_1: |0>──────░───────░──╫─\n",
      "               ░       ░  ║ \n",
      "q1_2: |0>──────░───────░──╫─\n",
      "               ░       ░  ║ \n",
      "q1_3: |0>──────░───────░──╫─\n",
      "               ░       ░  ║ \n",
      "q1_4: |0>──────░───────░──╫─\n",
      "               ░       ░  ║ \n",
      " c3_0: 0 ═════════════════╩═\n",
      "                            \n",
      "         ┌───┐┌───┐ ░ ┌───┐ ░ ┌───┐┌─┐\n",
      "q1_0: |0>┤ H ├┤ S ├─░─┤ H ├─░─┤ H ├┤M├\n",
      "         └───┘└───┘ ░ └───┘ ░ └───┘└╥┘\n",
      "q1_1: |0>───────────░───────░───────╫─\n",
      "                    ░       ░       ║ \n",
      "q1_2: |0>───────────░───────░───────╫─\n",
      "                    ░       ░       ║ \n",
      "q1_3: |0>───────────░───────░───────╫─\n",
      "                    ░       ░       ║ \n",
      "q1_4: |0>───────────░───────░───────╫─\n",
      "                    ░       ░       ║ \n",
      " c3_0: 0 ═══════════════════════════╩═\n",
      "                                      \n",
      "         ┌───┐┌───┐ ░ ┌───┐ ░ ┌─────┐┌───┐┌─┐\n",
      "q1_0: |0>┤ H ├┤ S ├─░─┤ H ├─░─┤ Sdg ├┤ H ├┤M├\n",
      "         └───┘└───┘ ░ └───┘ ░ └─────┘└───┘└╥┘\n",
      "q1_1: |0>───────────░───────░──────────────╫─\n",
      "                    ░       ░              ║ \n",
      "q1_2: |0>───────────░───────░──────────────╫─\n",
      "                    ░       ░              ║ \n",
      "q1_3: |0>───────────░───────░──────────────╫─\n",
      "                    ░       ░              ║ \n",
      "q1_4: |0>───────────░───────░──────────────╫─\n",
      "                    ░       ░              ║ \n",
      " c3_0: 0 ══════════════════════════════════╩═\n",
      "                                             \n",
      "         ┌───┐┌───┐ ░ ┌───┐ ░ ┌─┐\n",
      "q1_0: |0>┤ H ├┤ S ├─░─┤ H ├─░─┤M├\n",
      "         └───┘└───┘ ░ └───┘ ░ └╥┘\n",
      "q1_1: |0>───────────░───────░──╫─\n",
      "                    ░       ░  ║ \n",
      "q1_2: |0>───────────░───────░──╫─\n",
      "                    ░       ░  ║ \n",
      "q1_3: |0>───────────░───────░──╫─\n",
      "                    ░       ░  ║ \n",
      "q1_4: |0>───────────░───────░──╫─\n",
      "                    ░       ░  ║ \n",
      " c3_0: 0 ══════════════════════╩═\n",
      "                                 \n"
     ]
    }
   ],
   "source": [
    "# Calculate circuits for process tomography.\n",
    "from qiskit.ignis.verification.tomography import process_tomography_circuits, ProcessTomographyFitter\n",
    "qpt_had = process_tomography_circuits(had, qr[0])\n",
    "\n",
    "for circ in qpt_had:\n",
    "    print(circ)"
   ]
  },
  {
   "cell_type": "code",
   "execution_count": 14,
   "metadata": {},
   "outputs": [
    {
     "name": "stdout",
     "output_type": "stream",
     "text": [
      "5e433d9da0c83700128aa20b\n"
     ]
    }
   ],
   "source": [
    "# Process tomography circuits on backend.\n",
    "job = execute(qpt_had, backend, optimization_level=0, shots=5000)\n",
    "print(job.job_id())"
   ]
  },
  {
   "cell_type": "code",
   "execution_count": 15,
   "metadata": {},
   "outputs": [
    {
     "data": {
      "text/plain": [
       "{(('Zp',), ('X',)): {'0': 4968, '1': 32},\n",
       " (('Zp',), ('Y',)): {'0': 2515, '1': 2485},\n",
       " (('Zp',), ('Z',)): {'0': 2386, '1': 2614},\n",
       " (('Zm',), ('X',)): {'0': 140, '1': 4860},\n",
       " (('Zm',), ('Y',)): {'0': 2519, '1': 2481},\n",
       " (('Zm',), ('Z',)): {'0': 2383, '1': 2617},\n",
       " (('Xp',), ('X',)): {'0': 2427, '1': 2573},\n",
       " (('Xp',), ('Y',)): {'0': 2561, '1': 2439},\n",
       " (('Xp',), ('Z',)): {'0': 4966, '1': 34},\n",
       " (('Yp',), ('X',)): {'0': 2409, '1': 2591},\n",
       " (('Yp',), ('Y',)): {'0': 146, '1': 4854},\n",
       " (('Yp',), ('Z',)): {'0': 2519, '1': 2481}}"
      ]
     },
     "execution_count": 15,
     "metadata": {},
     "output_type": "execute_result"
    }
   ],
   "source": [
    "# Calculate tomography data.\n",
    "tomo_had = ProcessTomographyFitter(job.result(), qpt_had)\n",
    "tomo_had.data"
   ]
  },
  {
   "cell_type": "code",
   "execution_count": 16,
   "metadata": {},
   "outputs": [
    {
     "data": {
      "text/plain": [
       "Choi([[ 0.4977805 +0.j          0.48367907+0.01097461j  0.48281634+0.02027399j\n",
       "  -0.49674117-0.02888112j]\n",
       " [ 0.48367907-0.01097461j  0.51128993+0.j          0.45584375-0.00563302j\n",
       "  -0.50580424-0.0267176j ]\n",
       " [ 0.48281634-0.02027399j  0.45584375+0.00563302j  0.47897858+0.j\n",
       "  -0.47202128-0.01261298j]\n",
       " [-0.49674117+0.02888112j -0.50580424+0.0267176j  -0.47202128+0.01261298j\n",
       "   0.51195099+0.j        ]], input_dims=(2,), output_dims=(2,))"
      ]
     },
     "execution_count": 16,
     "metadata": {},
     "output_type": "execute_result"
    }
   ],
   "source": [
    "# Extracting the choi matrix.\n",
    "choi_had = tomo_had.fit()\n",
    "choi_had"
   ]
  },
  {
   "cell_type": "code",
   "execution_count": 17,
   "metadata": {},
   "outputs": [
    {
     "data": {
      "text/plain": [
       "(Choi([[ 0.4977805 +0.j          0.48367907+0.01097461j  0.48281634+0.02027399j\n",
       "   -0.49674117-0.02888112j]\n",
       "  [ 0.48367907-0.01097461j  0.51128993+0.j          0.45584375-0.00563302j\n",
       "   -0.50580424-0.0267176j ]\n",
       "  [ 0.48281634-0.02027399j  0.45584375+0.00563302j  0.47897858+0.j\n",
       "   -0.47202128-0.01261298j]\n",
       "  [-0.49674117+0.02888112j -0.50580424+0.0267176j  -0.47202128+0.01261298j\n",
       "    0.51195099+0.j        ]], input_dims=(2,), output_dims=(2,)),\n",
       " Chi([[ 0.00812457+0.j         -0.00566505+0.03528959j -0.00240262-0.01646011j\n",
       "   -0.00708525+0.02888112j]\n",
       "  [-0.00566505-0.03528959j  0.950978  +0.j         -0.00563302+0.01615567j\n",
       "    0.97216047+0.00404099j]\n",
       "  [-0.00240262+0.01646011j -0.00563302-0.01615567j  0.03929051+0.j\n",
       "    0.011702  -0.01732285j]\n",
       "  [-0.00708525-0.02888112j  0.97216047-0.00404099j  0.011702  +0.01732285j\n",
       "    1.00160692+0.j        ]], input_dims=(2,), output_dims=(2,)))"
      ]
     },
     "execution_count": 17,
     "metadata": {},
     "output_type": "execute_result"
    }
   ],
   "source": [
    "# Alternative ways of getting choi and chi matrices. Needs to be checked.\n",
    "from qiskit.quantum_info import Choi, Chi\n",
    "Choi(tomo_had.fit()), Chi(tomo_had.fit())"
   ]
  },
  {
   "cell_type": "markdown",
   "metadata": {},
   "source": [
    "## CNOT gate"
   ]
  },
  {
   "cell_type": "markdown",
   "metadata": {},
   "source": [
    "Circuit preparation."
   ]
  },
  {
   "cell_type": "code",
   "execution_count": 4,
   "metadata": {},
   "outputs": [
    {
     "name": "stdout",
     "output_type": "stream",
     "text": [
      "              \n",
      "q0_0: |0>──■──\n",
      "         ┌─┴─┐\n",
      "q0_1: |0>┤ X ├\n",
      "         └───┘\n",
      "q0_2: |0>─────\n",
      "              \n",
      "q0_3: |0>─────\n",
      "              \n",
      "q0_4: |0>─────\n",
      "              \n",
      "               ░ ┌─┐   \n",
      "q0_0: |0>──■───░─┤M├───\n",
      "         ┌─┴─┐ ░ └╥┘┌─┐\n",
      "q0_1: |0>┤ X ├─░──╫─┤M├\n",
      "         └───┘ ░  ║ └╥┘\n",
      "q0_2: |0>──────░──╫──╫─\n",
      "               ░  ║  ║ \n",
      "q0_3: |0>──────░──╫──╫─\n",
      "               ░  ║  ║ \n",
      "q0_4: |0>──────░──╫──╫─\n",
      "               ░  ║  ║ \n",
      " c0_0: 0 ═════════╩══╬═\n",
      "                     ║ \n",
      " c0_1: 0 ════════════╩═\n",
      "                       \n"
     ]
    }
   ],
   "source": [
    "# CNOT gate.\n",
    "qr = QuantumRegister(5)\n",
    "cnot = QuantumCircuit(qr)\n",
    "cnot.cx(0, 1)\n",
    "print(cnot)\n",
    "\n",
    "# Measurement circuit.\n",
    "cr = ClassicalRegister(2)\n",
    "meas = QuantumCircuit(qr, cr)\n",
    "meas.barrier()\n",
    "meas.measure([0,1], [0,1])\n",
    "print(cnot+meas)"
   ]
  },
  {
   "cell_type": "markdown",
   "metadata": {},
   "source": [
    "Circuit testing"
   ]
  },
  {
   "cell_type": "code",
   "execution_count": 5,
   "metadata": {},
   "outputs": [
    {
     "name": "stdout",
     "output_type": "stream",
     "text": [
      "5e4337f14bec83001158a94d\n",
      "{'00': 4712, '11': 61, '10': 189, '01': 38}\n"
     ]
    }
   ],
   "source": [
    "# Run Hadamard circuit.\n",
    "job = execute(cnot+meas, backend, optimization_level=0, shots=5000)\n",
    "print(job.job_id())\n",
    "\n",
    "counts = job.result().get_counts()\n",
    "print(counts)\n",
    "\n",
    "# Simulate Hadamard ciruit.\n",
    "counts_sim = execute(cnot+meas, simulator, shots=5000).result().get_counts()"
   ]
  },
  {
   "cell_type": "code",
   "execution_count": 6,
   "metadata": {},
   "outputs": [
    {
     "data": {
      "image/png": "[encoded data removed]",
      "text/plain": [
       "<Figure size 504x360 with 1 Axes>"
      ]
     },
     "execution_count": 6,
     "metadata": {},
     "output_type": "execute_result"
    }
   ],
   "source": [
    "# Results from backend vs simulator.\n",
    "from qiskit.visualization import plot_histogram\n",
    "plot_histogram([counts, counts_sim], legend=[backend, simulator])"
   ]
  },
  {
   "cell_type": "markdown",
   "metadata": {},
   "source": [
    "Process tomography driven by Qiskit."
   ]
  },
  {
   "cell_type": "code",
   "execution_count": 7,
   "metadata": {},
   "outputs": [
    {
     "name": "stdout",
     "output_type": "stream",
     "text": [
      "144\n"
     ]
    }
   ],
   "source": [
    "# Calculate circuits for process tomography.\n",
    "from qiskit.ignis.verification.tomography import process_tomography_circuits, ProcessTomographyFitter\n",
    "qpt_cnot = process_tomography_circuits(cnot, [qr[0], qr[1]])\n",
    "\n",
    "qpt1_cnot = qpt_cnot[:74]\n",
    "qpt2_cnot = qpt_cnot[74:]\n",
    "print(len(qpt_cnot))"
   ]
  },
  {
   "cell_type": "code",
   "execution_count": 8,
   "metadata": {},
   "outputs": [
    {
     "name": "stdout",
     "output_type": "stream",
     "text": [
      "5e43381b4aa4d700110ece39\n"
     ]
    }
   ],
   "source": [
    "# Process tomography circuits on backend. BATCH1\n",
    "job1 = execute(qpt1_cnot, backend, optimization_level=0, shots=5000)\n",
    "print(job1.job_id())"
   ]
  },
  {
   "cell_type": "code",
   "execution_count": 9,
   "metadata": {},
   "outputs": [
    {
     "name": "stdout",
     "output_type": "stream",
     "text": [
      "5e4338200752d50011ed9970\n"
     ]
    }
   ],
   "source": [
    "# Process tomography circuits on backend. BATCH2\n",
    "job2 = execute(qpt2_cnot, backend, optimization_level=0, shots=5000)\n",
    "print(job2.job_id())"
   ]
  },
  {
   "cell_type": "code",
   "execution_count": 96,
   "metadata": {},
   "outputs": [],
   "source": [
    "job1 = backend.retrieve_job('5e43381b4aa4d700110ece39')\n",
    "job2 = backend.retrieve_job('5e4338200752d50011ed9970')"
   ]
  },
  {
   "cell_type": "code",
   "execution_count": 97,
   "metadata": {},
   "outputs": [
    {
     "data": {
      "text/plain": [
       "{(('Zp', 'Zp'), ('X', 'X')): {'00': 1353, '11': 1276, '10': 1061, '01': 1310},\n",
       " (('Zp', 'Zp'), ('X', 'Y')): {'00': 1484, '11': 1463, '10': 920, '01': 1133},\n",
       " (('Zp', 'Zp'), ('X', 'Z')): {'00': 2590, '11': 57, '10': 41, '01': 2312},\n",
       " (('Zp', 'Zp'), ('Y', 'X')): {'00': 1461, '11': 1473, '10': 889, '01': 1177},\n",
       " (('Zp', 'Zp'), ('Y', 'Y')): {'00': 1406, '11': 1461, '10': 1002, '01': 1131},\n",
       " (('Zp', 'Zp'), ('Y', 'Z')): {'00': 2613, '11': 65, '10': 45, '01': 2277},\n",
       " (('Zp', 'Zp'), ('Z', 'X')): {'00': 2554, '11': 569, '10': 1806, '01': 71},\n",
       " (('Zp', 'Zp'), ('Z', 'Y')): {'00': 2477, '11': 544, '10': 1905, '01': 74},\n",
       " (('Zp', 'Zp'), ('Z', 'Z')): {'00': 4875, '11': 46, '10': 59, '01': 20},\n",
       " (('Zp', 'Zm'), ('X', 'X')): {'00': 1457, '11': 1256, '10': 874, '01': 1413},\n",
       " (('Zp', 'Zm'), ('X', 'Y')): {'00': 1509, '11': 1275, '10': 860, '01': 1356},\n",
       " (('Zp', 'Zm'), ('X', 'Z')): {'00': 216, '11': 2701, '10': 1850, '01': 233},\n",
       " (('Zp', 'Zm'), ('Y', 'X')): {'00': 1413, '11': 1282, '10': 928, '01': 1377},\n",
       " (('Zp', 'Zm'), ('Y', 'Y')): {'00': 1481, '11': 1286, '10': 876, '01': 1357},\n",
       " (('Zp', 'Zm'), ('Y', 'Z')): {'00': 221, '11': 2713, '10': 1801, '01': 265},\n",
       " (('Zp', 'Zm'), ('Z', 'X')): {'00': 2798, '11': 499, '10': 1627, '01': 76},\n",
       " (('Zp', 'Zm'), ('Z', 'Y')): {'00': 2710, '11': 481, '10': 1734, '01': 75},\n",
       " (('Zp', 'Zm'), ('Z', 'Z')): {'00': 377, '11': 947, '10': 3547, '01': 129},\n",
       " (('Zp', 'Xp'), ('X', 'X')): {'00': 2222, '11': 28, '10': 31, '01': 2719},\n",
       " (('Zp', 'Xp'), ('X', 'Y')): {'00': 1198, '11': 1475, '10': 856, '01': 1471},\n",
       " (('Zp', 'Xp'), ('X', 'Z')): {'00': 1165, '11': 1509, '10': 864, '01': 1462},\n",
       " (('Zp', 'Xp'), ('Y', 'X')): {'00': 2389, '11': 37, '10': 35, '01': 2539},\n",
       " (('Zp', 'Xp'), ('Y', 'Y')): {'00': 1299, '11': 1371, '10': 877, '01': 1453},\n",
       " (('Zp', 'Xp'), ('Y', 'Z')): {'00': 1293, '11': 1482, '10': 883, '01': 1342},\n",
       " (('Zp', 'Xp'), ('Z', 'X')): {'00': 4868, '11': 15, '10': 43, '01': 74},\n",
       " (('Zp', 'Xp'), ('Z', 'Y')): {'00': 2632, '11': 515, '10': 1784, '01': 69},\n",
       " (('Zp', 'Xp'), ('Z', 'Z')): {'00': 2845, '11': 428, '10': 1659, '01': 68},\n",
       " (('Zp', 'Yp'), ('X', 'X')): {'00': 1345, '11': 1419, '10': 991, '01': 1245},\n",
       " (('Zp', 'Yp'), ('X', 'Y')): {'00': 2654, '11': 51, '10': 44, '01': 2251},\n",
       " (('Zp', 'Yp'), ('X', 'Z')): {'00': 1361, '11': 1334, '10': 1006, '01': 1299},\n",
       " (('Zp', 'Yp'), ('Y', 'X')): {'00': 1309, '11': 1483, '10': 964, '01': 1244},\n",
       " (('Zp', 'Yp'), ('Y', 'Y')): {'00': 2547, '11': 51, '10': 33, '01': 2369},\n",
       " (('Zp', 'Yp'), ('Y', 'Z')): {'00': 1315, '11': 1378, '10': 981, '01': 1326},\n",
       " (('Zp', 'Yp'), ('Z', 'X')): {'00': 2581, '11': 506, '10': 1856, '01': 57},\n",
       " (('Zp', 'Yp'), ('Z', 'Y')): {'00': 4883, '11': 54, '10': 54, '01': 9},\n",
       " (('Zp', 'Yp'), ('Z', 'Z')): {'00': 2808, '11': 441, '10': 1657, '01': 94},\n",
       " (('Zm', 'Zp'), ('X', 'X')): {'00': 1320, '11': 1307, '10': 915, '01': 1458},\n",
       " (('Zm', 'Zp'), ('X', 'Y')): {'00': 1252, '11': 1405, '10': 890, '01': 1453},\n",
       " (('Zm', 'Zp'), ('X', 'Z')): {'00': 184, '11': 2829, '10': 1745, '01': 242},\n",
       " (('Zm', 'Zp'), ('Y', 'X')): {'00': 1324, '11': 1325, '10': 888, '01': 1463},\n",
       " (('Zm', 'Zp'), ('Y', 'Y')): {'00': 1406, '11': 1486, '10': 836, '01': 1272},\n",
       " (('Zm', 'Zp'), ('Y', 'Z')): {'00': 198, '11': 2837, '10': 1742, '01': 223},\n",
       " (('Zm', 'Zp'), ('Z', 'X')): {'00': 104, '11': 2234, '10': 63, '01': 2599},\n",
       " (('Zm', 'Zp'), ('Z', 'Y')): {'00': 91, '11': 2209, '10': 67, '01': 2633},\n",
       " (('Zm', 'Zp'), ('Z', 'Z')): {'00': 63, '11': 4506, '10': 84, '01': 347},\n",
       " (('Zm', 'Zm'), ('X', 'X')): {'00': 1125, '11': 1377, '10': 896, '01': 1602},\n",
       " (('Zm', 'Zm'), ('X', 'Y')): {'00': 1087, '11': 1604, '10': 899, '01': 1410},\n",
       " (('Zm', 'Zm'), ('X', 'Z')): {'00': 2220, '11': 69, '10': 41, '01': 2670},\n",
       " (('Zm', 'Zm'), ('Y', 'X')): {'00': 1366, '11': 1413, '10': 890, '01': 1331},\n",
       " (('Zm', 'Zm'), ('Y', 'Y')): {'00': 1224, '11': 1352, '10': 1063, '01': 1361},\n",
       " (('Zm', 'Zm'), ('Y', 'Z')): {'00': 2407, '11': 61, '10': 49, '01': 2483},\n",
       " (('Zm', 'Zm'), ('Z', 'X')): {'00': 98, '11': 2258, '10': 62, '01': 2582},\n",
       " (('Zm', 'Zm'), ('Z', 'Y')): {'00': 120, '11': 2463, '10': 49, '01': 2368},\n",
       " (('Zm', 'Zm'), ('Z', 'Z')): {'00': 165, '11': 86, '10': 49, '01': 4700},\n",
       " (('Zm', 'Xp'), ('X', 'X')): {'00': 2509, '11': 63, '10': 39, '01': 2389},\n",
       " (('Zm', 'Xp'), ('X', 'Y')): {'00': 1213, '11': 1691, '10': 976, '01': 1120},\n",
       " (('Zm', 'Xp'), ('X', 'Z')): {'00': 1244, '11': 1464, '10': 1002, '01': 1290},\n",
       " (('Zm', 'Xp'), ('Y', 'X')): {'00': 2706, '11': 52, '10': 31, '01': 2211},\n",
       " (('Zm', 'Xp'), ('Y', 'Y')): {'00': 1273, '11': 1555, '10': 1122, '01': 1050},\n",
       " (('Zm', 'Xp'), ('Y', 'Z')): {'00': 1308, '11': 1522, '10': 1031, '01': 1139},\n",
       " (('Zm', 'Xp'), ('Z', 'X')): {'00': 156, '11': 103, '10': 2, '01': 4739},\n",
       " (('Zm', 'Xp'), ('Z', 'Y')): {'00': 86, '11': 2605, '10': 60, '01': 2249},\n",
       " (('Zm', 'Xp'), ('Z', 'Z')): {'00': 75, '11': 2390, '10': 51, '01': 2484},\n",
       " (('Zm', 'Yp'), ('X', 'X')): {'00': 1046, '11': 1470, '10': 1162, '01': 1322},\n",
       " (('Zm', 'Yp'), ('X', 'Y')): {'00': 227, '11': 2779, '10': 1764, '01': 230},\n",
       " (('Zm', 'Yp'), ('X', 'Z')): {'00': 1250, '11': 1434, '10': 982, '01': 1334},\n",
       " (('Zm', 'Yp'), ('Y', 'X')): {'00': 1241, '11': 1543, '10': 1071, '01': 1145},\n",
       " (('Zm', 'Yp'), ('Y', 'Y')): {'00': 185, '11': 2717, '10': 1863, '01': 235},\n",
       " (('Zm', 'Yp'), ('Y', 'Z')): {'00': 1203, '11': 1361, '10': 1102, '01': 1334},\n",
       " (('Zm', 'Yp'), ('Z', 'X')): {'00': 70, '11': 2582, '10': 72, '01': 2276},\n",
       " (('Zm', 'Yp'), ('Z', 'Y')): {'00': 47, '11': 4497, '10': 81, '01': 375},\n",
       " (('Zm', 'Yp'), ('Z', 'Z')): {'00': 85, '11': 2261, '10': 46, '01': 2608},\n",
       " (('Xp', 'Zp'), ('X', 'X')): {'00': 2464, '11': 2243, '10': 81, '01': 212},\n",
       " (('Xp', 'Zp'), ('X', 'Y')): {'00': 1295, '11': 1389, '10': 946, '01': 1370},\n",
       " (('Xp', 'Zp'), ('X', 'Z')): {'00': 1213, '11': 1448, '10': 1028, '01': 1311},\n",
       " (('Xp', 'Zp'), ('Y', 'X')): {'00': 1253, '11': 1320, '10': 1070, '01': 1357},\n",
       " (('Xp', 'Zp'), ('Y', 'Y')): {'00': 257, '11': 529, '10': 1786, '01': 2428},\n",
       " (('Xp', 'Zp'), ('Y', 'Z')): {'00': 1242, '11': 1352, '10': 1110, '01': 1296},\n",
       " (('Xp', 'Zp'), ('Z', 'X')): {'00': 1359, '11': 1499, '10': 826, '01': 1316},\n",
       " (('Xp', 'Zp'), ('Z', 'Y')): {'00': 1131, '11': 1349, '10': 1042, '01': 1478},\n",
       " (('Xp', 'Zp'), ('Z', 'Z')): {'00': 2610, '11': 2136, '10': 55, '01': 199},\n",
       " (('Xp', 'Zm'), ('X', 'X')): {'00': 2523, '11': 2205, '10': 76, '01': 196},\n",
       " (('Xp', 'Zm'), ('X', 'Y')): {'00': 1340, '11': 1245, '10': 974, '01': 1441},\n",
       " (('Xp', 'Zm'), ('X', 'Z')): {'00': 1338, '11': 1276, '10': 1021, '01': 1365},\n",
       " (('Xp', 'Zm'), ('Y', 'X')): {'00': 1524, '11': 1375, '10': 822, '01': 1279},\n",
       " (('Xp', 'Zm'), ('Y', 'Y')): {'00': 2559, '11': 2133, '10': 111, '01': 197},\n",
       " (('Xp', 'Zm'), ('Y', 'Z')): {'00': 1524, '11': 1460, '10': 893, '01': 1123},\n",
       " (('Xp', 'Zm'), ('Z', 'X')): {'00': 1349, '11': 1248, '10': 949, '01': 1454},\n",
       " (('Xp', 'Zm'), ('Z', 'Y')): {'00': 1581, '11': 1450, '10': 811, '01': 1158},\n",
       " (('Xp', 'Zm'), ('Z', 'Z')): {'00': 246, '11': 513, '10': 1832, '01': 2409},\n",
       " (('Xp', 'Xp'), ('X', 'X')): {'00': 4885, '11': 15, '10': 35, '01': 65},\n",
       " (('Xp', 'Xp'), ('X', 'Y')): {'00': 2408, '11': 543, '10': 1953, '01': 96},\n",
       " (('Xp', 'Xp'), ('X', 'Z')): {'00': 2769, '11': 475, '10': 1692, '01': 64},\n",
       " (('Xp', 'Xp'), ('Y', 'X')): {'00': 2580, '11': 34, '10': 28, '01': 2358},\n",
       " (('Xp', 'Xp'), ('Y', 'Y')): {'00': 1266, '11': 1451, '10': 1049, '01': 1234},\n",
       " (('Xp', 'Xp'), ('Y', 'Z')): {'00': 1498, '11': 1317, '10': 890, '01': 1295},\n",
       " (('Xp', 'Xp'), ('Z', 'X')): {'00': 2250, '11': 33, '10': 18, '01': 2699},\n",
       " (('Xp', 'Xp'), ('Z', 'Y')): {'00': 1175, '11': 1659, '10': 819, '01': 1347},\n",
       " (('Xp', 'Xp'), ('Z', 'Z')): {'00': 1110, '11': 1625, '10': 893, '01': 1372},\n",
       " (('Xp', 'Yp'), ('X', 'X')): {'00': 2254, '11': 2467, '10': 75, '01': 204},\n",
       " (('Xp', 'Yp'), ('X', 'Y')): {'00': 1257, '11': 1405, '10': 908, '01': 1430},\n",
       " (('Xp', 'Yp'), ('X', 'Z')): {'00': 1269, '11': 1393, '10': 874, '01': 1464},\n",
       " (('Xp', 'Yp'), ('Y', 'X')): {'00': 1288, '11': 1540, '10': 1089, '01': 1083},\n",
       " (('Xp', 'Yp'), ('Y', 'Y')): {'00': 1400, '11': 1344, '10': 1007, '01': 1249},\n",
       " (('Xp', 'Yp'), ('Y', 'Z')): {'00': 2544, '11': 2162, '10': 80, '01': 214},\n",
       " (('Xp', 'Yp'), ('Z', 'X')): {'00': 1300, '11': 1540, '10': 969, '01': 1191},\n",
       " (('Xp', 'Yp'), ('Z', 'Y')): {'00': 2443, '11': 2299, '10': 66, '01': 192},\n",
       " (('Xp', 'Yp'), ('Z', 'Z')): {'00': 1247, '11': 1408, '10': 860, '01': 1485},\n",
       " (('Yp', 'Zp'), ('X', 'X')): {'00': 1314, '11': 1584, '10': 685, '01': 1417},\n",
       " (('Yp', 'Zp'), ('X', 'Y')): {'00': 2296, '11': 2422, '10': 86, '01': 196},\n",
       " (('Yp', 'Zp'), ('X', 'Z')): {'00': 1201, '11': 1685, '10': 860, '01': 1254},\n",
       " (('Yp', 'Zp'), ('Y', 'X')): {'00': 2521, '11': 2223, '10': 76, '01': 180},\n",
       " (('Yp', 'Zp'), ('Y', 'Y')): {'00': 1218, '11': 1343, '10': 1165, '01': 1274},\n",
       " (('Yp', 'Zp'), ('Y', 'Z')): {'00': 1396, '11': 1500, '10': 999, '01': 1105},\n",
       " (('Yp', 'Zp'), ('Z', 'X')): {'00': 1295, '11': 1346, '10': 906, '01': 1453},\n",
       " (('Yp', 'Zp'), ('Z', 'Y')): {'00': 1139, '11': 1494, '10': 1067, '01': 1300},\n",
       " (('Yp', 'Zp'), ('Z', 'Z')): {'00': 2159, '11': 2570, '10': 70, '01': 201},\n",
       " (('Yp', 'Zm'), ('X', 'X')): {'00': 1209, '11': 1406, '10': 857, '01': 1528},\n",
       " (('Yp', 'Zm'), ('X', 'Y')): {'00': 260, '11': 484, '10': 1597, '01': 2659},\n",
       " (('Yp', 'Zm'), ('X', 'Z')): {'00': 1259, '11': 1275, '10': 851, '01': 1615},\n",
       " (('Yp', 'Zm'), ('Y', 'X')): {'00': 2393, '11': 2343, '10': 82, '01': 182},\n",
       " (('Yp', 'Zm'), ('Y', 'Y')): {'00': 1308, '11': 1250, '10': 881, '01': 1561},\n",
       " (('Yp', 'Zm'), ('Y', 'Z')): {'00': 1312, '11': 1221, '10': 910, '01': 1557},\n",
       " (('Yp', 'Zm'), ('Z', 'X')): {'00': 1235, '11': 1427, '10': 893, '01': 1445},\n",
       " (('Yp', 'Zm'), ('Z', 'Y')): {'00': 1419, '11': 1452, '10': 715, '01': 1414},\n",
       " (('Yp', 'Zm'), ('Z', 'Z')): {'00': 235, '11': 536, '10': 1688, '01': 2541},\n",
       " (('Yp', 'Xp'), ('X', 'X')): {'00': 2585, '11': 40, '10': 24, '01': 2351},\n",
       " (('Yp', 'Xp'), ('X', 'Y')): {'00': 1338, '11': 1476, '10': 926, '01': 1260},\n",
       " (('Yp', 'Xp'), ('X', 'Z')): {'00': 1223, '11': 1419, '10': 1035, '01': 1323},\n",
       " (('Yp', 'Xp'), ('Y', 'X')): {'00': 4880, '11': 39, '10': 41, '01': 40},\n",
       " (('Yp', 'Xp'), ('Y', 'Y')): {'00': 2440, '11': 543, '10': 1946, '01': 71},\n",
       " (('Yp', 'Xp'), ('Y', 'Z')): {'00': 2478, '11': 560, '10': 1870, '01': 92},\n",
       " (('Yp', 'Xp'), ('Z', 'X')): {'00': 2503, '11': 43, '10': 23, '01': 2431},\n",
       " (('Yp', 'Xp'), ('Z', 'Y')): {'00': 1316, '11': 1578, '10': 865, '01': 1241},\n",
       " (('Yp', 'Xp'), ('Z', 'Z')): {'00': 1339, '11': 1494, '10': 951, '01': 1216},\n",
       " (('Yp', 'Yp'), ('X', 'X')): {'00': 1421, '11': 1412, '10': 962, '01': 1205},\n",
       " (('Yp', 'Yp'), ('X', 'Y')): {'00': 1395, '11': 1453, '10': 981, '01': 1171},\n",
       " (('Yp', 'Yp'), ('X', 'Z')): {'00': 249, '11': 538, '10': 1847, '01': 2366},\n",
       " (('Yp', 'Yp'), ('Y', 'X')): {'00': 2323, '11': 2406, '10': 68, '01': 203},\n",
       " (('Yp', 'Yp'), ('Y', 'Y')): {'00': 1223, '11': 1520, '10': 982, '01': 1275},\n",
       " (('Yp', 'Yp'), ('Y', 'Z')): {'00': 1321, '11': 1512, '10': 849, '01': 1318},\n",
       " (('Yp', 'Yp'), ('Z', 'X')): {'00': 1268, '11': 1466, '10': 931, '01': 1335},\n",
       " (('Yp', 'Yp'), ('Z', 'Y')): {'00': 2301, '11': 2435, '10': 70, '01': 194},\n",
       " (('Yp', 'Yp'), ('Z', 'Z')): {'00': 1279, '11': 1485, '10': 906, '01': 1330}}"
      ]
     },
     "execution_count": 97,
     "metadata": {},
     "output_type": "execute_result"
    }
   ],
   "source": [
    "# Calculate tomography data.\n",
    "tomo_cnot = ProcessTomographyFitter(job1.result(), qpt1_cnot)\n",
    "tomo_cnot.add_data(job2.result(), qpt2_cnot)\n",
    "tomo_cnot.data"
   ]
  },
  {
   "cell_type": "code",
   "execution_count": 98,
   "metadata": {},
   "outputs": [
    {
     "data": {
      "text/plain": [
       "Choi([[ 9.27844742e-01+0.j          2.26245296e-03+0.02152657j\n",
       "   6.57415192e-02-0.03652252j -7.41486425e-03-0.05054622j\n",
       "  -1.59496015e-02-0.03018556j  4.38054843e-02+0.03033432j\n",
       "  -2.41445263e-02-0.00812535j  7.83583650e-01+0.08671861j\n",
       "   4.58895367e-02+0.04910009j  1.68615780e-02-0.00189639j\n",
       "   7.79838027e-01-0.01307531j -5.02861818e-02+0.08818084j\n",
       "  -4.01378521e-02+0.0112954j   8.53721187e-01-0.02202722j\n",
       "  -1.85068005e-02+0.00048982j  9.36424426e-02-0.0249462j ]\n",
       " [ 2.26245296e-03-0.02152657j  4.88165544e-02+0.j\n",
       "   1.85155787e-02-0.00866749j -1.62403483e-04+0.00887974j\n",
       "  -2.46840370e-03+0.00112462j -1.88972094e-02-0.01184006j\n",
       "   3.33881770e-03+0.00768939j -4.53395661e-02-0.01839322j\n",
       "  -2.46345576e-02-0.00264165j -1.98523179e-02-0.00927753j\n",
       "  -5.40204195e-02-0.02214526j  3.26556140e-02+0.00302177j\n",
       "   4.63697568e-03-0.0047396j   9.54017346e-03+0.00449047j\n",
       "  -1.19164647e-02+0.01214103j  1.94018649e-02-0.00631823j]\n",
       " [ 6.57415192e-02+0.03652252j  1.85155787e-02+0.00866749j\n",
       "   2.62210190e-02+0.j          4.79927907e-03-0.00854458j\n",
       "   8.05721724e-03-0.00599816j -8.54812275e-03+0.00365828j\n",
       "  -4.41410064e-03+0.00948423j  1.57533990e-02-0.00270713j\n",
       "  -7.66898803e-03-0.00740932j -8.47837108e-03+0.00172598j\n",
       "   2.05533362e-02+0.00259859j -1.28498782e-02+0.006479j\n",
       "  -1.11893661e-02+0.007416j    4.73907431e-02+0.01193904j\n",
       "  -1.09300013e-02+0.00523468j  2.62978486e-02+0.00804071j]\n",
       " [-7.41486425e-03+0.05054622j -1.62403483e-04-0.00887974j\n",
       "   4.79927907e-03+0.00854458j  3.52770010e-02+0.j\n",
       "   1.64035632e-02+0.01430604j -9.44595430e-03-0.02327177j\n",
       "   5.78569581e-03-0.01884482j  1.07870667e-02+0.03588j\n",
       "  -2.64669867e-03-0.02218704j  6.06435427e-03+0.00727199j\n",
       "  -8.69670691e-03+0.02659882j -2.71321555e-02-0.03674299j\n",
       "  -4.41363759e-03-0.01470934j  2.31473708e-02+0.03459155j\n",
       "  -1.47533243e-02+0.0137591j  -9.76698661e-04+0.00303582j]\n",
       " [-1.59496015e-02+0.03018556j -2.46840370e-03-0.00112462j\n",
       "   8.05721724e-03+0.00599816j  1.64035632e-02-0.01430604j\n",
       "   2.10302864e-02+0.j         -9.82133380e-03-0.01021614j\n",
       "  -6.39588383e-03-0.00702668j -9.20843606e-03-0.0148625j\n",
       "  -8.04032226e-03-0.01462704j  4.76740063e-03-0.00429265j\n",
       "  -2.08403743e-02+0.00346289j -2.79501930e-02-0.01611315j\n",
       "  -4.38295989e-03-0.00059608j -7.90621664e-03-0.00476528j\n",
       "  -6.58494956e-04+0.0082938j   3.82354968e-03+0.00528578j]\n",
       " [ 4.38054843e-02-0.03033432j -1.88972094e-02+0.01184006j\n",
       "  -8.54812275e-03-0.00365828j -9.44595430e-03+0.02327177j\n",
       "  -9.82133380e-03+0.01021614j  7.01378531e-02+0.j\n",
       "   2.46320342e-02+0.00997738j  5.15042120e-02-0.01753796j\n",
       "   4.78614125e-02-0.00966324j  2.36987774e-02+0.00971123j\n",
       "   7.58661691e-02-0.0399706j   1.63152390e-02-0.01151821j\n",
       "   2.54644963e-02+0.02680823j  1.14757037e-02-0.0163476j\n",
       "  -8.20097729e-03-0.02468347j  1.14754891e-02-0.00960544j]\n",
       " [-2.41445263e-02+0.00812535j  3.33881770e-03-0.00768939j\n",
       "  -4.41410064e-03-0.00948423j  5.78569581e-03+0.01884482j\n",
       "  -6.39588383e-03+0.00702668j  2.46320342e-02-0.00997738j\n",
       "   2.61563800e-02+0.j         -4.51266590e-02+0.03917448j\n",
       "   8.61908425e-03-0.0116993j   8.18381855e-03+0.0136688j\n",
       "  -2.87486498e-02+0.0173825j   8.05805680e-03-0.01636221j\n",
       "   2.03144850e-02+0.00522276j -3.88462348e-02+0.03563857j\n",
       "  -1.17731761e-02-0.00069431j  4.45531093e-03-0.01506734j]\n",
       " [ 7.83583650e-01-0.08671861j -4.53395661e-02+0.01839322j\n",
       "   1.57533990e-02+0.00270713j  1.07870667e-02-0.03588j\n",
       "  -9.20843606e-03+0.0148625j   5.15042120e-02+0.01753796j\n",
       "  -4.51266590e-02-0.03917448j  8.69248728e-01+0.j\n",
       "   8.56501339e-02+0.05541815j  3.62239991e-02-0.01742892j\n",
       "   7.93113482e-01-0.08885436j -2.28020424e-02+0.03313459j\n",
       "  -5.17167992e-02-0.01297448j  8.36487960e-01-0.11784465j\n",
       "   2.30379898e-03-0.01352295j  3.17064709e-02-0.00030456j]\n",
       " [ 4.58895367e-02-0.04910009j -2.46345576e-02+0.00264165j\n",
       "  -7.66898803e-03+0.00740932j -2.64669867e-03+0.02218704j\n",
       "  -8.04032226e-03+0.01462704j  4.78614125e-02+0.00966324j\n",
       "   8.61908425e-03+0.0116993j   8.56501339e-02-0.05541815j\n",
       "   5.92074324e-02+0.j          3.26048188e-03+0.01544462j\n",
       "   9.61354627e-02-0.06394178j  9.27402909e-03-0.02953911j\n",
       "  -1.35878140e-03+0.01355665j  4.61754227e-02-0.06938901j\n",
       "  -8.17553514e-03-0.02750356j  2.10676213e-03+0.00392432j]\n",
       " [ 1.68615780e-02+0.00189639j -1.98523179e-02+0.00927753j\n",
       "  -8.47837108e-03-0.00172598j  6.06435427e-03-0.00727199j\n",
       "   4.76740063e-03+0.00429265j  2.36987774e-02-0.00971123j\n",
       "   8.18381855e-03-0.0136688j   3.62239991e-02+0.01742892j\n",
       "   3.26048188e-03-0.01544462j  3.30586912e-02+0.j\n",
       "   3.13084166e-02+0.00190714j -1.58304677e-02+0.00947559j\n",
       "   1.28155547e-02+0.01049183j  2.70682273e-03+0.01428075j\n",
       "   2.02799453e-03+0.00434101j -2.98657949e-03-0.00609246j]\n",
       " [ 7.79838027e-01+0.01307531j -5.40204195e-02+0.02214526j\n",
       "   2.05533362e-02-0.00259859j -8.69670691e-03-0.02659882j\n",
       "  -2.08403743e-02-0.00346289j  7.58661691e-02+0.0399706j\n",
       "  -2.87486498e-02-0.0173825j   7.93113482e-01+0.08885436j\n",
       "   9.61354627e-02+0.06394178j  3.13084166e-02-0.00190714j\n",
       "   7.79319907e-01+0.j         -3.04780358e-02+0.04392972j\n",
       "  -3.94697662e-02+0.00359367j  7.70234318e-01-0.02111979j\n",
       "   1.93111524e-04-0.03374226j  4.53532489e-02+0.00059518j]\n",
       " [-5.02861818e-02-0.08818084j  3.26556140e-02-0.00302177j\n",
       "  -1.28498782e-02-0.006479j   -2.71321555e-02+0.03674299j\n",
       "  -2.79501930e-02+0.01611315j  1.63152390e-02+0.01151821j\n",
       "   8.05805680e-03+0.01636221j -2.28020424e-02-0.03313459j\n",
       "   9.27402909e-03+0.02953911j -1.58304677e-02-0.00947559j\n",
       "  -3.04780358e-02-0.04392972j  9.53195816e-02+0.j\n",
       "   1.51668026e-02+0.00305196j -1.62897549e-02-0.02434342j\n",
       "   6.00110609e-03-0.01344001j -2.15030110e-03-0.00635061j]\n",
       " [-4.01378521e-02-0.0112954j   4.63697568e-03+0.0047396j\n",
       "  -1.11893661e-02-0.007416j   -4.41363759e-03+0.01470934j\n",
       "  -4.38295989e-03+0.00059608j  2.54644963e-02-0.02680823j\n",
       "   2.03144850e-02-0.00522276j -5.17167992e-02+0.01297448j\n",
       "  -1.35878140e-03-0.01355665j  1.28155547e-02-0.01049183j\n",
       "  -3.94697662e-02-0.00359367j  1.51668026e-02-0.00305196j\n",
       "   3.59725650e-02+0.j         -5.58823379e-02+0.03158322j\n",
       "  -4.62265186e-03-0.00449667j -2.74435438e-03-0.01886201j]\n",
       " [ 8.53721187e-01+0.02202722j  9.54017346e-03-0.00449047j\n",
       "   4.73907431e-02-0.01193904j  2.31473708e-02-0.03459155j\n",
       "  -7.90621664e-03+0.00476528j  1.14757037e-02+0.0163476j\n",
       "  -3.88462348e-02-0.03563857j  8.36487960e-01+0.11784465j\n",
       "   4.61754227e-02+0.06938901j  2.70682273e-03-0.01428075j\n",
       "   7.70234318e-01+0.02111979j -1.62897549e-02+0.02434342j\n",
       "  -5.58823379e-02-0.03158322j  9.11747815e-01+0.j\n",
       "  -1.19389179e-02+0.00656958j  6.19373964e-02-0.00844837j]\n",
       " [-1.85068005e-02-0.00048982j -1.19164647e-02-0.01214103j\n",
       "  -1.09300013e-02-0.00523468j -1.47533243e-02-0.0137591j\n",
       "  -6.58494956e-04-0.0082938j  -8.20097729e-03+0.02468347j\n",
       "  -1.17731761e-02+0.00069431j  2.30379898e-03+0.01352295j\n",
       "  -8.17553514e-03+0.02750356j  2.02799453e-03-0.00434101j\n",
       "   1.93111524e-04+0.03374226j  6.00110609e-03+0.01344001j\n",
       "  -4.62265186e-03+0.00449667j -1.19389179e-02-0.00656958j\n",
       "   2.55742137e-02+0.j         -1.08087678e-02-0.00102947j]\n",
       " [ 9.36424426e-02+0.0249462j   1.94018649e-02+0.00631823j\n",
       "   2.62978486e-02-0.00804071j -9.76698661e-04-0.00303582j\n",
       "   3.82354968e-03-0.00528578j  1.14754891e-02+0.00960544j\n",
       "   4.45531093e-03+0.01506734j  3.17064709e-02+0.00030456j\n",
       "   2.10676213e-03-0.00392432j -2.98657949e-03+0.00609246j\n",
       "   4.53532489e-02-0.00059518j -2.15030110e-03+0.00635061j\n",
       "  -2.74435438e-03+0.01886201j  6.19373964e-02+0.00844837j\n",
       "  -1.08087678e-02+0.00102947j  3.50672304e-02+0.j        ]], input_dims=(2, 2), output_dims=(2, 2))"
      ]
     },
     "execution_count": 98,
     "metadata": {},
     "output_type": "execute_result"
    }
   ],
   "source": [
    "# Extracting the choi matrix.\n",
    "choi_cnot = tomo_cnot.fit()\n",
    "choi_cnot"
   ]
  },
  {
   "cell_type": "code",
   "execution_count": null,
   "metadata": {},
   "outputs": [],
   "source": []
  }
 ],
 "metadata": {
  "kernelspec": {
   "display_name": "Python 3",
   "language": "python",
   "name": "python3"
  },
  "language_info": {
   "codemirror_mode": {
    "name": "ipython",
    "version": 3
   },
   "file_extension": ".py",
   "mimetype": "text/x-python",
   "name": "python",
   "nbconvert_exporter": "python",
   "pygments_lexer": "ipython3",
   "version": "3.7.4"
  }
 },
 "nbformat": 4,
 "nbformat_minor": 2
}
