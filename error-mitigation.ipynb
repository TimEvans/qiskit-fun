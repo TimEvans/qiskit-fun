{
 "cells": [
  {
   "cell_type": "markdown",
   "metadata": {},
   "source": [
    "# Error mitigation\n",
    "\n",
    "See [Qiskit tutorial](https://github.com/Qiskit/qiskit-iqx-tutorials/blob/1748699b49c44003c0e7505d0cd2249df25b973a/qiskit/advanced/ignis/4_measurement_error_mitigation.ipynb) for more details."
   ]
  },
  {
   "cell_type": "code",
   "execution_count": 1,
   "metadata": {},
   "outputs": [
    {
     "data": {
      "text/plain": [
       "[<IBMQSimulator('ibmq_qasm_simulator') from IBMQ(hub='ibm-q', group='open', project='main')>,\n",
       " <IBMQBackend('ibmqx2') from IBMQ(hub='ibm-q', group='open', project='main')>,\n",
       " <IBMQBackend('ibmq_16_melbourne') from IBMQ(hub='ibm-q', group='open', project='main')>,\n",
       " <IBMQBackend('ibmq_vigo') from IBMQ(hub='ibm-q', group='open', project='main')>,\n",
       " <IBMQBackend('ibmq_ourense') from IBMQ(hub='ibm-q', group='open', project='main')>,\n",
       " <IBMQBackend('ibmq_london') from IBMQ(hub='ibm-q', group='open', project='main')>,\n",
       " <IBMQBackend('ibmq_burlington') from IBMQ(hub='ibm-q', group='open', project='main')>,\n",
       " <IBMQBackend('ibmq_essex') from IBMQ(hub='ibm-q', group='open', project='main')>,\n",
       " <IBMQBackend('ibmq_armonk') from IBMQ(hub='ibm-q', group='open', project='main')>]"
      ]
     },
     "execution_count": 1,
     "metadata": {},
     "output_type": "execute_result"
    }
   ],
   "source": [
    "from qiskit import *\n",
    "\n",
    "# Matplotlib is recommended for Qiskit. Others are for fun.\n",
    "import numpy as np\n",
    "import qutip as qt\n",
    "import matplotlib.pyplot as plt\n",
    "%matplotlib inline\n",
    "\n",
    "# Load account (requires a saved IBMQ user id) and list backends with OpenPulse support.\n",
    "IBMQ.load_account()\n",
    "provider = IBMQ.get_provider(group='open')\n",
    "provider.backends()"
   ]
  },
  {
   "cell_type": "code",
   "execution_count": 2,
   "metadata": {},
   "outputs": [
    {
     "data": {
      "application/vnd.jupyter.widget-view+json": {
       "model_id": "ea325dbe6f6a45dfb861821009da096b",
       "version_major": 2,
       "version_minor": 0
      },
      "text/plain": [
       "Accordion(children=(VBox(layout=Layout(max_width='710px', min_width='710px')),), layout=Layout(max_height='500…"
      ]
     },
     "metadata": {},
     "output_type": "display_data"
    },
    {
     "data": {
      "application/javascript": [
       "$('div.job_widget')\n",
       "        .detach()\n",
       "        .appendTo($('#header'))\n",
       "        .css({\n",
       "            'z-index': 999,\n",
       "             'position': 'fixed',\n",
       "            'box-shadow': '5px 5px 5px -3px black',\n",
       "            'opacity': 0.95,\n",
       "            'float': 'left,'\n",
       "        })\n",
       "        "
      ],
      "text/plain": [
       "<IPython.core.display.Javascript object>"
      ]
     },
     "metadata": {},
     "output_type": "display_data"
    }
   ],
   "source": [
    "# Notebook widget for watching IBMQ jobs.\n",
    "import qiskit.tools.jupyter\n",
    "%qiskit_job_watcher"
   ]
  },
  {
   "cell_type": "code",
   "execution_count": 3,
   "metadata": {},
   "outputs": [
    {
     "name": "stdout",
     "output_type": "stream",
     "text": [
      "ibmqx2\n"
     ]
    },
    {
     "data": {
      "image/png": "[encoded data removed]",
      "text/plain": [
       "<Figure size 360x360 with 1 Axes>"
      ]
     },
     "execution_count": 3,
     "metadata": {},
     "output_type": "execute_result"
    }
   ],
   "source": [
    "# Set least busy device as backend.\n",
    "from qiskit.providers.ibmq import least_busy\n",
    "from qiskit.visualization import plot_gate_map, plot_circuit_layout\n",
    "\n",
    "small_devices = provider.backends(filters=lambda x: x.configuration().n_qubits == 5\n",
    "                                   and not x.configuration().simulator)\n",
    "backend = least_busy(small_devices)\n",
    "\n",
    "# Set qasm as simulator.\n",
    "simulator = Aer.get_backend('qasm_simulator')\n",
    "\n",
    "# Print name and configuration of backend.\n",
    "from qiskit.visualization import plot_gate_map\n",
    "print(backend)\n",
    "plot_gate_map(backend)"
   ]
  },
  {
   "cell_type": "markdown",
   "metadata": {},
   "source": [
    "## Calibration matrix for three qubits\n",
    "\n",
    "The function `complete_meas_cal` returns a list of calibrations for a given set of qubits."
   ]
  },
  {
   "cell_type": "code",
   "execution_count": 10,
   "metadata": {},
   "outputs": [
    {
     "name": "stdout",
     "output_type": "stream",
     "text": [
      "['000', '001', '010', '011', '100', '101', '110', '111']\n"
     ]
    }
   ],
   "source": [
    "qr = QuantumRegister(5)\n",
    "qubit_list = [0, 1, 2]\n",
    "\n",
    "# Generate calibrations for specified qubits.\n",
    "from qiskit.ignis.mitigation.measurement import complete_meas_cal, CompleteMeasFitter\n",
    "meas_cals, state_labels = complete_meas_cal(qubit_list=qubit_list, qr=qr, circlabel='mcal')\n",
    "print(state_labels)"
   ]
  },
  {
   "cell_type": "code",
   "execution_count": 11,
   "metadata": {},
   "outputs": [
    {
     "name": "stdout",
     "output_type": "stream",
     "text": [
      "5e4b58ed5f4c4900115c8e48\n"
     ]
    }
   ],
   "source": [
    "# Run calibrations on backend. \n",
    "job = execute(meas_cals, backend, optimization_level=0, shots=5000)\n",
    "print(job.job_id())\n",
    "result = job.result()"
   ]
  },
  {
   "cell_type": "code",
   "execution_count": 18,
   "metadata": {},
   "outputs": [
    {
     "data": {
      "image/png": "[encoded data removed]",
      "text/plain": [
       "<Figure size 432x288 with 2 Axes>"
      ]
     },
     "metadata": {
      "needs_background": "light"
     },
     "output_type": "display_data"
    },
    {
     "name": "stdout",
     "output_type": "stream",
     "text": [
      "F(av)= 0.847425\n",
      "F(q0)= 0.941425\n"
     ]
    }
   ],
   "source": [
    "# Calibration matrix: prepared state vs. measured state.\n",
    "meas_fit = CompleteMeasFitter(result, state_labels, circlabel='mcal')\n",
    "meas_fit.plot_calibration()\n",
    "\n",
    "# Compute fidelities.\n",
    "print('F(av)= ' + str(meas_fit.readout_fidelity()))\n",
    "print('F(q0)= ' + str(meas_fit.readout_fidelity(label_list=[['000','001','010','011'],\n",
    "                                                            ['100','101','110','111']])))"
   ]
  },
  {
   "cell_type": "markdown",
   "metadata": {},
   "source": [
    "## Correcting measurement noise for GHZ state"
   ]
  },
  {
   "cell_type": "code",
   "execution_count": 20,
   "metadata": {},
   "outputs": [
    {
     "name": "stdout",
     "output_type": "stream",
     "text": [
      "         ┌───┐          ┌─┐      \n",
      "q3_0: |0>┤ H ├──■───────┤M├──────\n",
      "         └───┘┌─┴─┐     └╥┘┌─┐   \n",
      "q3_1: |0>─────┤ X ├──■───╫─┤M├───\n",
      "              └───┘┌─┴─┐ ║ └╥┘┌─┐\n",
      "q3_2: |0>──────────┤ X ├─╫──╫─┤M├\n",
      "                   └───┘ ║  ║ └╥┘\n",
      "q3_3: |0>────────────────╫──╫──╫─\n",
      "                         ║  ║  ║ \n",
      "q3_4: |0>────────────────╫──╫──╫─\n",
      "                         ║  ║  ║ \n",
      " c5_0: 0 ════════════════╩══╬══╬═\n",
      "                            ║  ║ \n",
      " c5_1: 0 ═══════════════════╩══╬═\n",
      "                               ║ \n",
      " c5_2: 0 ══════════════════════╩═\n",
      "                                 \n"
     ]
    }
   ],
   "source": [
    "qr = qr\n",
    "cr = ClassicalRegister(3)\n",
    "\n",
    "# GHZ state preparation circuit w/ measurement.\n",
    "ghz = QuantumCircuit(qr, cr)\n",
    "ghz.h(0)\n",
    "ghz.cx(0, 1)\n",
    "ghz.cx(1, 2)\n",
    "ghz.measure(range(3), range(3))\n",
    "\n",
    "print(ghz)"
   ]
  },
  {
   "cell_type": "code",
   "execution_count": 21,
   "metadata": {},
   "outputs": [
    {
     "name": "stdout",
     "output_type": "stream",
     "text": [
      "5e4b5b967f49c800112dee84\n"
     ]
    }
   ],
   "source": [
    "# Prepare and measure GHZ on backend.\n",
    "job = execute(ghz, backend, shots=5000)\n",
    "print(job.job_id())\n",
    "result = job.result()"
   ]
  },
  {
   "cell_type": "code",
   "execution_count": 26,
   "metadata": {},
   "outputs": [],
   "source": [
    "# Counts without calibration.\n",
    "counts = result.get_counts()\n",
    "\n",
    "# Filter from calibration.\n",
    "meas_filter = meas_fit.filter\n",
    "\n",
    "# Mitigated results.\n",
    "miti_result = meas_filter.apply(result)\n",
    "miti_counts = miti_result.get_counts(0)"
   ]
  },
  {
   "cell_type": "code",
   "execution_count": 27,
   "metadata": {},
   "outputs": [
    {
     "data": {
      "image/png": "[encoded data removed]",
      "text/plain": [
       "<Figure size 504x360 with 1 Axes>"
      ]
     },
     "execution_count": 27,
     "metadata": {},
     "output_type": "execute_result"
    }
   ],
   "source": [
    "# Plot counts vs mitigated counts.\n",
    "from qiskit.visualization import plot_histogram\n",
    "plot_histogram([counts, miti_counts], legend=['#nofilter', '#filter'])"
   ]
  },
  {
   "cell_type": "code",
   "execution_count": null,
   "metadata": {},
   "outputs": [],
   "source": []
  }
 ],
 "metadata": {
  "kernelspec": {
   "display_name": "Python 3",
   "language": "python",
   "name": "python3"
  },
  "language_info": {
   "codemirror_mode": {
    "name": "ipython",
    "version": 3
   },
   "file_extension": ".py",
   "mimetype": "text/x-python",
   "name": "python",
   "nbconvert_exporter": "python",
   "pygments_lexer": "ipython3",
   "version": "3.7.4"
  }
 },
 "nbformat": 4,
 "nbformat_minor": 2
}
