{
 "cells": [
  {
   "cell_type": "markdown",
   "metadata": {},
   "source": [
    "# Quantum process tomography\n",
    "\n",
    "This notebook loosely follows through the examples in the [corresponding Qiskit tutorial](https://github.com/Qiskit/qiskit-iqx-tutorials/blob/master/qiskit/advanced/ignis/6b_process_tomography.ipynb).\n",
    "\n",
    "We perform quantum process tomography for two cases: a Hadamard gate, and a CNOT gate."
   ]
  },
  {
   "cell_type": "code",
   "execution_count": 1,
   "metadata": {},
   "outputs": [
    {
     "data": {
      "text/plain": [
       "[<IBMQSimulator('ibmq_qasm_simulator') from IBMQ(hub='ibm-q', group='open', project='main')>,\n",
       " <IBMQBackend('ibmqx2') from IBMQ(hub='ibm-q', group='open', project='main')>,\n",
       " <IBMQBackend('ibmq_16_melbourne') from IBMQ(hub='ibm-q', group='open', project='main')>,\n",
       " <IBMQBackend('ibmq_vigo') from IBMQ(hub='ibm-q', group='open', project='main')>,\n",
       " <IBMQBackend('ibmq_ourense') from IBMQ(hub='ibm-q', group='open', project='main')>,\n",
       " <IBMQBackend('ibmq_london') from IBMQ(hub='ibm-q', group='open', project='main')>,\n",
       " <IBMQBackend('ibmq_burlington') from IBMQ(hub='ibm-q', group='open', project='main')>,\n",
       " <IBMQBackend('ibmq_essex') from IBMQ(hub='ibm-q', group='open', project='main')>,\n",
       " <IBMQBackend('ibmq_armonk') from IBMQ(hub='ibm-q', group='open', project='main')>]"
      ]
     },
     "execution_count": 1,
     "metadata": {},
     "output_type": "execute_result"
    }
   ],
   "source": [
    "from qiskit import *\n",
    "\n",
    "# Matplotlib is recommended for Qiskit. Others are for fun.\n",
    "import numpy as np\n",
    "import qutip as qt\n",
    "import matplotlib.pyplot as plt\n",
    "%matplotlib inline\n",
    "\n",
    "# Load account (requires a saved IBMQ user id) and list available backends.\n",
    "IBMQ.load_account()\n",
    "provider = IBMQ.get_provider(group='open')\n",
    "provider.backends()"
   ]
  },
  {
   "cell_type": "code",
   "execution_count": 2,
   "metadata": {},
   "outputs": [
    {
     "data": {
      "application/vnd.jupyter.widget-view+json": {
       "model_id": "eef2b5d353f0409aaa82ac3a5d22974e",
       "version_major": 2,
       "version_minor": 0
      },
      "text/plain": [
       "Accordion(children=(VBox(layout=Layout(max_width='710px', min_width='710px')),), layout=Layout(max_height='500…"
      ]
     },
     "metadata": {},
     "output_type": "display_data"
    },
    {
     "data": {
      "application/javascript": [
       "$('div.job_widget')\n",
       "        .detach()\n",
       "        .appendTo($('#header'))\n",
       "        .css({\n",
       "            'z-index': 999,\n",
       "             'position': 'fixed',\n",
       "            'box-shadow': '5px 5px 5px -3px black',\n",
       "            'opacity': 0.95,\n",
       "            'float': 'left,'\n",
       "        })\n",
       "        "
      ],
      "text/plain": [
       "<IPython.core.display.Javascript object>"
      ]
     },
     "metadata": {},
     "output_type": "display_data"
    }
   ],
   "source": [
    "# Notebook widget for watching IBMQ jobs.\n",
    "import qiskit.tools.jupyter\n",
    "%qiskit_job_watcher"
   ]
  },
  {
   "cell_type": "code",
   "execution_count": 3,
   "metadata": {},
   "outputs": [
    {
     "name": "stdout",
     "output_type": "stream",
     "text": [
      "ibmq_ourense\n"
     ]
    },
    {
     "data": {
      "image/png": "[encoded data removed]",
      "text/plain": [
       "<Figure size 360x360 with 1 Axes>"
      ]
     },
     "execution_count": 3,
     "metadata": {},
     "output_type": "execute_result"
    }
   ],
   "source": [
    "# Set least busy device as backend.\n",
    "from qiskit.providers.ibmq import least_busy\n",
    "from qiskit.visualization import plot_gate_map, plot_circuit_layout\n",
    "\n",
    "small_devices = provider.backends(filters=lambda x: x.configuration().n_qubits == 5\n",
    "                                   and not x.configuration().simulator)\n",
    "backend = least_busy(small_devices)\n",
    "backend = provider.get_backend('ibmq_ourense')\n",
    "\n",
    "# Set qasm as simulator.\n",
    "simulator = Aer.get_backend('qasm_simulator')\n",
    "\n",
    "# Print name and configuration.\n",
    "print(backend)\n",
    "plot_gate_map(backend, plot_directed=True)"
   ]
  },
  {
   "cell_type": "markdown",
   "metadata": {},
   "source": [
    "## Example 1: X gate"
   ]
  },
  {
   "cell_type": "markdown",
   "metadata": {},
   "source": [
    "### X gate circuit"
   ]
  },
  {
   "cell_type": "code",
   "execution_count": 4,
   "metadata": {},
   "outputs": [
    {
     "name": "stdout",
     "output_type": "stream",
     "text": [
      "         ┌───┐\n",
      "q0_0: |0>┤ X ├\n",
      "         └───┘\n",
      "         ┌───┐ ░ ┌─┐\n",
      "q0_0: |0>┤ X ├─░─┤M├\n",
      "         └───┘ ░ └╥┘\n",
      " c0_0: 0 ═════════╩═\n",
      "                    \n"
     ]
    }
   ],
   "source": [
    "# X gate\n",
    "qr = QuantumRegister(1)\n",
    "x = QuantumCircuit(qr)\n",
    "x.x(0)\n",
    "print(x)\n",
    "\n",
    "# Measurement circuit.\n",
    "cr = ClassicalRegister(1)\n",
    "meas = QuantumCircuit(qr, cr)\n",
    "meas.barrier()\n",
    "meas.measure(0, 0)\n",
    "print(x+meas)"
   ]
  },
  {
   "cell_type": "markdown",
   "metadata": {},
   "source": [
    "### Output of the X gate"
   ]
  },
  {
   "cell_type": "code",
   "execution_count": 5,
   "metadata": {},
   "outputs": [
    {
     "name": "stdout",
     "output_type": "stream",
     "text": [
      "5e49d149e2319f0018fe9f52\n",
      "{'1': 4849, '0': 151}\n"
     ]
    }
   ],
   "source": [
    "# Run X gate.\n",
    "job = execute(x+meas, backend, optimization_level=0, shots=5000)\n",
    "print(job.job_id())\n",
    "\n",
    "counts = job.result().get_counts()\n",
    "print(counts)\n",
    "\n",
    "# Simulate X gate.\n",
    "counts_sim = execute(x+meas, simulator, shots=5000).result().get_counts()"
   ]
  },
  {
   "cell_type": "code",
   "execution_count": 6,
   "metadata": {},
   "outputs": [
    {
     "data": {
      "image/png": "[encoded data removed]",
      "text/plain": [
       "<Figure size 504x360 with 1 Axes>"
      ]
     },
     "execution_count": 6,
     "metadata": {},
     "output_type": "execute_result"
    }
   ],
   "source": [
    "# Results from backend vs simulator.\n",
    "from qiskit.visualization import plot_histogram\n",
    "plot_histogram([counts, counts_sim], legend=[backend, simulator])"
   ]
  },
  {
   "cell_type": "markdown",
   "metadata": {},
   "source": [
    "### Process tomography on the X gate"
   ]
  },
  {
   "cell_type": "code",
   "execution_count": 9,
   "metadata": {},
   "outputs": [
    {
     "name": "stdout",
     "output_type": "stream",
     "text": [
      "          ░ ┌───┐ ░ ┌───┐┌─┐\n",
      "q0_0: |0>─░─┤ X ├─░─┤ H ├┤M├\n",
      "          ░ └───┘ ░ └───┘└╥┘\n",
      " c3_0: 0 ═════════════════╩═\n",
      "                            \n",
      "          ░ ┌───┐ ░ ┌─────┐┌───┐┌─┐\n",
      "q0_0: |0>─░─┤ X ├─░─┤ Sdg ├┤ H ├┤M├\n",
      "          ░ └───┘ ░ └─────┘└───┘└╥┘\n",
      " c3_0: 0 ════════════════════════╩═\n",
      "                                   \n",
      "          ░ ┌───┐ ░ ┌─┐\n",
      "q0_0: |0>─░─┤ X ├─░─┤M├\n",
      "          ░ └───┘ ░ └╥┘\n",
      " c3_0: 0 ════════════╩═\n",
      "                       \n",
      "         ┌───┐ ░ ┌───┐ ░ ┌───┐┌─┐\n",
      "q0_0: |0>┤ X ├─░─┤ X ├─░─┤ H ├┤M├\n",
      "         └───┘ ░ └───┘ ░ └───┘└╥┘\n",
      " c3_0: 0 ══════════════════════╩═\n",
      "                                 \n",
      "         ┌───┐ ░ ┌───┐ ░ ┌─────┐┌───┐┌─┐\n",
      "q0_0: |0>┤ X ├─░─┤ X ├─░─┤ Sdg ├┤ H ├┤M├\n",
      "         └───┘ ░ └───┘ ░ └─────┘└───┘└╥┘\n",
      " c3_0: 0 ═════════════════════════════╩═\n",
      "                                        \n",
      "         ┌───┐ ░ ┌───┐ ░ ┌─┐\n",
      "q0_0: |0>┤ X ├─░─┤ X ├─░─┤M├\n",
      "         └───┘ ░ └───┘ ░ └╥┘\n",
      " c3_0: 0 ═════════════════╩═\n",
      "                            \n",
      "         ┌───┐ ░ ┌───┐ ░ ┌───┐┌─┐\n",
      "q0_0: |0>┤ H ├─░─┤ X ├─░─┤ H ├┤M├\n",
      "         └───┘ ░ └───┘ ░ └───┘└╥┘\n",
      " c3_0: 0 ══════════════════════╩═\n",
      "                                 \n",
      "         ┌───┐ ░ ┌───┐ ░ ┌─────┐┌───┐┌─┐\n",
      "q0_0: |0>┤ H ├─░─┤ X ├─░─┤ Sdg ├┤ H ├┤M├\n",
      "         └───┘ ░ └───┘ ░ └─────┘└───┘└╥┘\n",
      " c3_0: 0 ═════════════════════════════╩═\n",
      "                                        \n",
      "         ┌───┐ ░ ┌───┐ ░ ┌─┐\n",
      "q0_0: |0>┤ H ├─░─┤ X ├─░─┤M├\n",
      "         └───┘ ░ └───┘ ░ └╥┘\n",
      " c3_0: 0 ═════════════════╩═\n",
      "                            \n",
      "         ┌───┐┌───┐ ░ ┌───┐ ░ ┌───┐┌─┐\n",
      "q0_0: |0>┤ H ├┤ S ├─░─┤ X ├─░─┤ H ├┤M├\n",
      "         └───┘└───┘ ░ └───┘ ░ └───┘└╥┘\n",
      " c3_0: 0 ═══════════════════════════╩═\n",
      "                                      \n",
      "         ┌───┐┌───┐ ░ ┌───┐ ░ ┌─────┐┌───┐┌─┐\n",
      "q0_0: |0>┤ H ├┤ S ├─░─┤ X ├─░─┤ Sdg ├┤ H ├┤M├\n",
      "         └───┘└───┘ ░ └───┘ ░ └─────┘└───┘└╥┘\n",
      " c3_0: 0 ══════════════════════════════════╩═\n",
      "                                             \n",
      "         ┌───┐┌───┐ ░ ┌───┐ ░ ┌─┐\n",
      "q0_0: |0>┤ H ├┤ S ├─░─┤ X ├─░─┤M├\n",
      "         └───┘└───┘ ░ └───┘ ░ └╥┘\n",
      " c3_0: 0 ══════════════════════╩═\n",
      "                                 \n"
     ]
    }
   ],
   "source": [
    "# Circuits for process tomography.\n",
    "from qiskit.ignis.verification.tomography import process_tomography_circuits, ProcessTomographyFitter\n",
    "qpt_x = process_tomography_circuits(x, qr[0])\n",
    "\n",
    "# Print circuits.\n",
    "for circ in qpt_x:\n",
    "    print(circ)"
   ]
  },
  {
   "cell_type": "code",
   "execution_count": 10,
   "metadata": {},
   "outputs": [
    {
     "name": "stdout",
     "output_type": "stream",
     "text": [
      "5e49d1a7f451ab00187ecccb\n"
     ]
    }
   ],
   "source": [
    "# Process tomography circuits on backend.\n",
    "job = execute(qpt_x, backend, optimization_level=0, shots=5000)\n",
    "print(job.job_id())"
   ]
  },
  {
   "cell_type": "code",
   "execution_count": 11,
   "metadata": {},
   "outputs": [
    {
     "data": {
      "text/plain": [
       "{(('Zp',), ('X',)): {'1': 2502, '0': 2498},\n",
       " (('Zp',), ('Y',)): {'1': 2384, '0': 2616},\n",
       " (('Zp',), ('Z',)): {'1': 4868, '0': 132},\n",
       " (('Zm',), ('X',)): {'1': 2391, '0': 2609},\n",
       " (('Zm',), ('Y',)): {'1': 2489, '0': 2511},\n",
       " (('Zm',), ('Z',)): {'1': 58, '0': 4942},\n",
       " (('Xp',), ('X',)): {'1': 71, '0': 4929},\n",
       " (('Xp',), ('Y',)): {'1': 2314, '0': 2686},\n",
       " (('Xp',), ('Z',)): {'1': 2449, '0': 2551},\n",
       " (('Yp',), ('X',)): {'1': 2466, '0': 2534},\n",
       " (('Yp',), ('Y',)): {'1': 4858, '0': 142},\n",
       " (('Yp',), ('Z',)): {'1': 2413, '0': 2587}}"
      ]
     },
     "execution_count": 11,
     "metadata": {},
     "output_type": "execute_result"
    }
   ],
   "source": [
    "# Calculate tomography data.\n",
    "tomo_x = ProcessTomographyFitter(job.result(), qpt_x)\n",
    "tomo_x.data"
   ]
  },
  {
   "cell_type": "code",
   "execution_count": 12,
   "metadata": {},
   "outputs": [
    {
     "name": "stdout",
     "output_type": "stream",
     "text": [
      "CP? True. TP? False.\n"
     ]
    },
    {
     "data": {
      "image/png": "[encoded data removed]",
      "text/plain": [
       "<Figure size 360x360 with 1 Axes>"
      ]
     },
     "metadata": {
      "needs_background": "light"
     },
     "output_type": "display_data"
    }
   ],
   "source": [
    "# Extracting the PTM.\n",
    "from qiskit.quantum_info import PTM\n",
    "choi_x = tomo_x.fit()\n",
    "ptm_x = PTM(choi_x)\n",
    "print('CP? '+str(ptm_x.is_cp())+'.', 'TP? '+str(ptm_x.is_tp())+'.')\n",
    "\n",
    "# Plot Hinton diagram of PTM.\n",
    "from qiskit.visualization import plot_state_hinton\n",
    "fig, ax = plt.subplots(1, 1, figsize=(5, 5))\n",
    "plot_state_hinton(ptm_x.data, ax_real=ax)\n",
    "\n",
    "ax.set_title(r'PTM');\n",
    "ax.set_xticklabels(['I', 'X', 'Y', 'Z']);\n",
    "ax.set_yticklabels(['I', 'X', 'Y', 'Z']);"
   ]
  },
  {
   "cell_type": "markdown",
   "metadata": {},
   "source": [
    "## Example 2: CNOT gate"
   ]
  },
  {
   "cell_type": "markdown",
   "metadata": {},
   "source": [
    "### CNOT gate circuit"
   ]
  },
  {
   "cell_type": "code",
   "execution_count": 14,
   "metadata": {},
   "outputs": [
    {
     "name": "stdout",
     "output_type": "stream",
     "text": [
      "              \n",
      "q2_0: |0>──■──\n",
      "         ┌─┴─┐\n",
      "q2_1: |0>┤ X ├\n",
      "         └───┘\n",
      "               ░ ┌─┐   \n",
      "q2_0: |0>──■───░─┤M├───\n",
      "         ┌─┴─┐ ░ └╥┘┌─┐\n",
      "q2_1: |0>┤ X ├─░──╫─┤M├\n",
      "         └───┘ ░  ║ └╥┘\n",
      " c5_0: 0 ═════════╩══╬═\n",
      "                     ║ \n",
      " c5_1: 0 ════════════╩═\n",
      "                       \n"
     ]
    }
   ],
   "source": [
    "# CNOT gate.\n",
    "qr = QuantumRegister(2)\n",
    "cnot = QuantumCircuit(qr)\n",
    "cnot.cx(0, 1)\n",
    "print(cnot)\n",
    "\n",
    "# Measurement circuit.\n",
    "cr = ClassicalRegister(2)\n",
    "meas = QuantumCircuit(qr, cr)\n",
    "meas.barrier()\n",
    "meas.measure([0,1], [0,1])\n",
    "print(cnot+meas)"
   ]
  },
  {
   "cell_type": "markdown",
   "metadata": {},
   "source": [
    "### Output of the CNOT gate"
   ]
  },
  {
   "cell_type": "code",
   "execution_count": 15,
   "metadata": {},
   "outputs": [
    {
     "name": "stdout",
     "output_type": "stream",
     "text": [
      "5e49d273c3369900189f41b5\n",
      "{'10': 102, '11': 69, '01': 28, '00': 4801}\n"
     ]
    }
   ],
   "source": [
    "# Run Hadamard circuit.\n",
    "job = execute(cnot+meas, backend, optimization_level=0, shots=5000)\n",
    "print(job.job_id())\n",
    "\n",
    "counts = job.result().get_counts()\n",
    "print(counts)\n",
    "\n",
    "# Simulate Hadamard ciruit.\n",
    "counts_sim = execute(cnot+meas, simulator, shots=5000).result().get_counts()"
   ]
  },
  {
   "cell_type": "code",
   "execution_count": 16,
   "metadata": {},
   "outputs": [
    {
     "data": {
      "image/png": "[encoded data removed]",
      "text/plain": [
       "<Figure size 504x360 with 1 Axes>"
      ]
     },
     "execution_count": 16,
     "metadata": {},
     "output_type": "execute_result"
    }
   ],
   "source": [
    "# Results from backend vs simulator.\n",
    "from qiskit.visualization import plot_histogram\n",
    "plot_histogram([counts, counts_sim], legend=[backend, simulator])"
   ]
  },
  {
   "cell_type": "markdown",
   "metadata": {},
   "source": [
    "### Process tomography for a CNOT gate"
   ]
  },
  {
   "cell_type": "code",
   "execution_count": 17,
   "metadata": {},
   "outputs": [
    {
     "name": "stdout",
     "output_type": "stream",
     "text": [
      "144\n"
     ]
    }
   ],
   "source": [
    "# Calculate circuits for process tomography.\n",
    "from qiskit.ignis.verification.tomography import process_tomography_circuits, ProcessTomographyFitter\n",
    "qpt_cnot = process_tomography_circuits(cnot, [qr[0], qr[1]])\n",
    "print(len(qpt_cnot))"
   ]
  },
  {
   "cell_type": "code",
   "execution_count": 18,
   "metadata": {},
   "outputs": [
    {
     "name": "stdout",
     "output_type": "stream",
     "text": [
      "5e49d2d0d686050018c27964\n",
      "5e49d41de2319f0018fe9f6f\n",
      "5e49d542b917c90018a16d7a\n"
     ]
    }
   ],
   "source": [
    "# Batched process tomography circuits on backend.\n",
    "result = []\n",
    "for n in range(len(qpt_cnot)//50 + 1):\n",
    "    job = execute(qpt_cnot[n*50: (n+1)*50], backend, optimization_level=0, shots=5000)\n",
    "    result.append(job.result())\n",
    "    print(job.job_id())"
   ]
  },
  {
   "cell_type": "code",
   "execution_count": 22,
   "metadata": {},
   "outputs": [
    {
     "data": {
      "text/plain": [
       "{(('Zp', 'Zp'), ('X', 'X')): {'10': 1496, '11': 1344, '01': 993, '00': 1167},\n",
       " (('Zp', 'Zp'), ('X', 'Y')): {'10': 1345, '11': 1307, '01': 1074, '00': 1274},\n",
       " (('Zp', 'Zp'), ('X', 'Z')): {'10': 71, '11': 81, '01': 2269, '00': 2579},\n",
       " (('Zp', 'Zp'), ('Y', 'X')): {'10': 1410, '11': 1436, '01': 991, '00': 1163},\n",
       " (('Zp', 'Zp'), ('Y', 'Y')): {'10': 1424, '11': 1307, '01': 1105, '00': 1164},\n",
       " (('Zp', 'Zp'), ('Y', 'Z')): {'10': 89, '11': 89, '01': 2380, '00': 2442},\n",
       " (('Zp', 'Zp'), ('Z', 'X')): {'10': 2792, '11': 49, '01': 38, '00': 2121},\n",
       " (('Zp', 'Zp'), ('Z', 'Y')): {'10': 2592, '11': 26, '01': 47, '00': 2335},\n",
       " (('Zp', 'Zp'), ('Z', 'Z')): {'10': 132, '11': 60, '01': 23, '00': 4785},\n",
       " (('Zp', 'Zm'), ('X', 'X')): {'10': 1501, '11': 1275, '01': 1014, '00': 1210},\n",
       " (('Zp', 'Zm'), ('X', 'Y')): {'10': 1230, '11': 964, '01': 1324, '00': 1482},\n",
       " (('Zp', 'Zm'), ('X', 'Z')): {'10': 2549, '11': 2159, '01': 141, '00': 151},\n",
       " (('Zp', 'Zm'), ('Y', 'X')): {'10': 1393, '11': 1428, '01': 1053, '00': 1126},\n",
       " (('Zp', 'Zm'), ('Y', 'Y')): {'10': 1162, '11': 1100, '01': 1338, '00': 1400},\n",
       " (('Zp', 'Zm'), ('Y', 'Z')): {'10': 2428, '11': 2308, '01': 128, '00': 136},\n",
       " (('Zp', 'Zm'), ('Z', 'X')): {'10': 2793, '11': 46, '01': 33, '00': 2128},\n",
       " (('Zp', 'Zm'), ('Z', 'Y')): {'10': 2160, '11': 50, '01': 40, '00': 2750},\n",
       " (('Zp', 'Zm'), ('Z', 'Z')): {'10': 4696, '11': 25, '01': 51, '00': 228},\n",
       " (('Zp', 'Xp'), ('X', 'X')): {'10': 50, '11': 51, '01': 2277, '00': 2622},\n",
       " (('Zp', 'Xp'), ('X', 'Y')): {'10': 1318, '11': 1136, '01': 1182, '00': 1364},\n",
       " (('Zp', 'Xp'), ('X', 'Z')): {'10': 1489, '11': 1349, '01': 1033, '00': 1129},\n",
       " (('Zp', 'Xp'), ('Y', 'X')): {'10': 58, '11': 37, '01': 2291, '00': 2614},\n",
       " (('Zp', 'Xp'), ('Y', 'Y')): {'10': 1284, '11': 1138, '01': 1204, '00': 1374},\n",
       " (('Zp', 'Xp'), ('Y', 'Z')): {'10': 1448, '11': 1307, '01': 1072, '00': 1173},\n",
       " (('Zp', 'Xp'), ('Z', 'X')): {'10': 87, '11': 2, '01': 79, '00': 4832},\n",
       " (('Zp', 'Xp'), ('Z', 'Y')): {'10': 2480, '11': 33, '01': 34, '00': 2453},\n",
       " (('Zp', 'Xp'), ('Z', 'Z')): {'10': 2826, '11': 51, '01': 51, '00': 2072},\n",
       " (('Zp', 'Yp'), ('X', 'X')): {'10': 1371, '11': 1180, '01': 1142, '00': 1307},\n",
       " (('Zp', 'Yp'), ('X', 'Y')): {'10': 97, '11': 84, '01': 2282, '00': 2537},\n",
       " (('Zp', 'Yp'), ('X', 'Z')): {'10': 1599, '11': 1259, '01': 1002, '00': 1140},\n",
       " (('Zp', 'Yp'), ('Y', 'X')): {'10': 1240, '11': 1250, '01': 1163, '00': 1347},\n",
       " (('Zp', 'Yp'), ('Y', 'Y')): {'10': 84, '11': 88, '01': 2340, '00': 2488},\n",
       " (('Zp', 'Yp'), ('Y', 'Z')): {'10': 1541, '11': 1415, '01': 966, '00': 1078},\n",
       " (('Zp', 'Yp'), ('Z', 'X')): {'10': 2461, '11': 46, '01': 44, '00': 2449},\n",
       " (('Zp', 'Yp'), ('Z', 'Y')): {'10': 96, '11': 47, '01': 35, '00': 4822},\n",
       " (('Zp', 'Yp'), ('Z', 'Z')): {'10': 2798, '11': 58, '01': 30, '00': 2114},\n",
       " (('Zm', 'Zp'), ('X', 'X')): {'10': 1364, '11': 1415, '01': 1141, '00': 1080},\n",
       " (('Zm', 'Zp'), ('X', 'Y')): {'10': 1082, '11': 1090, '01': 1528, '00': 1300},\n",
       " (('Zm', 'Zp'), ('X', 'Z')): {'10': 2252, '11': 2474, '01': 145, '00': 129},\n",
       " (('Zm', 'Zp'), ('Y', 'X')): {'10': 1467, '11': 1371, '01': 1177, '00': 985},\n",
       " (('Zm', 'Zp'), ('Y', 'Y')): {'10': 1112, '11': 1093, '01': 1469, '00': 1326},\n",
       " (('Zm', 'Zp'), ('Y', 'Z')): {'10': 2361, '11': 2325, '01': 147, '00': 167},\n",
       " (('Zm', 'Zp'), ('Z', 'X')): {'10': 117, '11': 2722, '01': 2085, '00': 76},\n",
       " (('Zm', 'Zp'), ('Z', 'Y')): {'10': 77, '11': 2140, '01': 2681, '00': 102},\n",
       " (('Zm', 'Zp'), ('Z', 'Z')): {'10': 120, '11': 4595, '01': 215, '00': 70},\n",
       " (('Zm', 'Zm'), ('X', 'X')): {'10': 1413, '11': 1513, '01': 1082, '00': 992},\n",
       " (('Zm', 'Zm'), ('X', 'Y')): {'10': 1247, '11': 1402, '01': 1152, '00': 1199},\n",
       " (('Zm', 'Zm'), ('X', 'Z')): {'10': 84, '11': 92, '01': 2465, '00': 2359},\n",
       " (('Zm', 'Zm'), ('Y', 'X')): {'10': 1501, '11': 1431, '01': 1016, '00': 1052},\n",
       " (('Zm', 'Zm'), ('Y', 'Y')): {'10': 1336, '11': 1327, '01': 1145, '00': 1192},\n",
       " (('Zm', 'Zm'), ('Y', 'Z')): {'10': 92, '11': 101, '01': 2400, '00': 2407},\n",
       " (('Zm', 'Zm'), ('Z', 'X')): {'10': 100, '11': 2764, '01': 2050, '00': 86},\n",
       " (('Zm', 'Zm'), ('Z', 'Y')): {'10': 109, '11': 2521, '01': 2279, '00': 91},\n",
       " (('Zm', 'Zm'), ('Z', 'Z')): {'10': 70, '11': 109, '01': 4708, '00': 113},\n",
       " (('Zm', 'Xp'), ('X', 'X')): {'10': 48, '11': 47, '01': 2524, '00': 2381},\n",
       " (('Zm', 'Xp'), ('X', 'Y')): {'10': 1303, '11': 1329, '01': 1233, '00': 1135},\n",
       " (('Zm', 'Xp'), ('X', 'Z')): {'10': 996, '11': 1065, '01': 1555, '00': 1384},\n",
       " (('Zm', 'Xp'), ('Y', 'X')): {'10': 41, '11': 38, '01': 2572, '00': 2349},\n",
       " (('Zm', 'Xp'), ('Y', 'Y')): {'10': 1278, '11': 1347, '01': 1251, '00': 1124},\n",
       " (('Zm', 'Xp'), ('Y', 'Z')): {'10': 981, '11': 1092, '01': 1536, '00': 1391},\n",
       " (('Zm', 'Xp'), ('Z', 'X')): {'10': 1, '11': 90, '01': 4733, '00': 176},\n",
       " (('Zm', 'Xp'), ('Z', 'Y')): {'10': 81, '11': 2542, '01': 2294, '00': 83},\n",
       " (('Zm', 'Xp'), ('Z', 'Z')): {'10': 82, '11': 1864, '01': 2956, '00': 98},\n",
       " (('Zm', 'Yp'), ('X', 'X')): {'10': 1235, '11': 1329, '01': 1223, '00': 1213},\n",
       " (('Zm', 'Yp'), ('X', 'Y')): {'10': 2204, '11': 2484, '01': 153, '00': 159},\n",
       " (('Zm', 'Yp'), ('X', 'Z')): {'10': 900, '11': 1069, '01': 1552, '00': 1479},\n",
       " (('Zm', 'Yp'), ('Y', 'X')): {'10': 1340, '11': 1225, '01': 1265, '00': 1170},\n",
       " (('Zm', 'Yp'), ('Y', 'Y')): {'10': 2359, '11': 2321, '01': 158, '00': 162},\n",
       " (('Zm', 'Yp'), ('Y', 'Z')): {'10': 968, '11': 990, '01': 1531, '00': 1511},\n",
       " (('Zm', 'Yp'), ('Z', 'X')): {'10': 106, '11': 2421, '01': 2379, '00': 94},\n",
       " (('Zm', 'Yp'), ('Z', 'Y')): {'10': 128, '11': 4558, '01': 249, '00': 65},\n",
       " (('Zm', 'Yp'), ('Z', 'Z')): {'10': 79, '11': 1893, '01': 2937, '00': 91},\n",
       " (('Xp', 'Zp'), ('X', 'X')): {'10': 113, '11': 2867, '01': 103, '00': 1917},\n",
       " (('Xp', 'Zp'), ('X', 'Y')): {'10': 1107, '11': 1396, '01': 1576, '00': 921},\n",
       " (('Xp', 'Zp'), ('X', 'Z')): {'10': 921, '11': 1547, '01': 1439, '00': 1093},\n",
       " (('Xp', 'Zp'), ('Y', 'X')): {'10': 1492, '11': 1414, '01': 1141, '00': 953},\n",
       " (('Xp', 'Zp'), ('Y', 'Y')): {'10': 2291, '11': 94, '01': 2366, '00': 249},\n",
       " (('Xp', 'Zp'), ('Y', 'Z')): {'10': 1258, '11': 1108, '01': 1349, '00': 1285},\n",
       " (('Xp', 'Zp'), ('Z', 'X')): {'10': 1659, '11': 1331, '01': 1079, '00': 931},\n",
       " (('Xp', 'Zp'), ('Z', 'Y')): {'10': 1288, '11': 1143, '01': 1281, '00': 1288},\n",
       " (('Xp', 'Zp'), ('Z', 'Z')): {'10': 123, '11': 2350, '01': 115, '00': 2412},\n",
       " (('Xp', 'Zm'), ('X', 'X')): {'10': 114, '11': 2570, '01': 96, '00': 2220},\n",
       " (('Xp', 'Zm'), ('X', 'Y')): {'10': 1146, '11': 1324, '01': 1369, '00': 1161},\n",
       " (('Xp', 'Zm'), ('X', 'Z')): {'10': 1197, '11': 1256, '01': 1450, '00': 1097},\n",
       " (('Xp', 'Zm'), ('Y', 'X')): {'10': 1337, '11': 1388, '01': 1099, '00': 1176},\n",
       " (('Xp', 'Zm'), ('Y', 'Y')): {'10': 117, '11': 2330, '01': 134, '00': 2419},\n",
       " (('Xp', 'Zm'), ('Y', 'Z')): {'10': 1151, '11': 1281, '01': 1146, '00': 1422},\n",
       " (('Xp', 'Zm'), ('Z', 'X')): {'10': 1404, '11': 1306, '01': 1210, '00': 1080},\n",
       " (('Xp', 'Zm'), ('Z', 'Y')): {'10': 1144, '11': 1304, '01': 1162, '00': 1390},\n",
       " (('Xp', 'Zm'), ('Z', 'Z')): {'10': 2327, '11': 48, '01': 2450, '00': 175},\n",
       " (('Xp', 'Xp'), ('X', 'X')): {'10': 30, '11': 122, '01': 70, '00': 4778},\n",
       " (('Xp', 'Xp'), ('X', 'Y')): {'10': 2380, '11': 93, '01': 80, '00': 2447},\n",
       " (('Xp', 'Xp'), ('X', 'Z')): {'10': 2291, '11': 71, '01': 109, '00': 2529},\n",
       " (('Xp', 'Xp'), ('Y', 'X')): {'10': 42, '11': 84, '01': 2395, '00': 2479},\n",
       " (('Xp', 'Xp'), ('Y', 'Y')): {'10': 964, '11': 1515, '01': 1031, '00': 1490},\n",
       " (('Xp', 'Xp'), ('Y', 'Z')): {'10': 1131, '11': 1263, '01': 1274, '00': 1332},\n",
       " (('Xp', 'Xp'), ('Z', 'X')): {'10': 54, '11': 52, '01': 2604, '00': 2290},\n",
       " (('Xp', 'Xp'), ('Z', 'Y')): {'10': 1111, '11': 1400, '01': 1252, '00': 1237},\n",
       " (('Xp', 'Xp'), ('Z', 'Z')): {'10': 1379, '11': 1064, '01': 1450, '00': 1107},\n",
       " (('Xp', 'Yp'), ('X', 'X')): {'10': 89, '11': 2378, '01': 98, '00': 2435},\n",
       " (('Xp', 'Yp'), ('X', 'Y')): {'10': 1233, '11': 1242, '01': 1214, '00': 1311},\n",
       " (('Xp', 'Yp'), ('X', 'Z')): {'10': 1227, '11': 1222, '01': 1259, '00': 1292},\n",
       " (('Xp', 'Yp'), ('Y', 'X')): {'10': 1271, '11': 1176, '01': 1316, '00': 1237},\n",
       " (('Xp', 'Yp'), ('Y', 'Y')): {'10': 965, '11': 1430, '01': 1071, '00': 1534},\n",
       " (('Xp', 'Yp'), ('Y', 'Z')): {'10': 138, '11': 2341, '01': 144, '00': 2377},\n",
       " (('Xp', 'Yp'), ('Z', 'X')): {'10': 1315, '11': 1178, '01': 1306, '00': 1201},\n",
       " (('Xp', 'Yp'), ('Z', 'Y')): {'10': 119, '11': 2343, '01': 108, '00': 2430},\n",
       " (('Xp', 'Yp'), ('Z', 'Z')): {'10': 1481, '11': 956, '01': 1454, '00': 1109},\n",
       " (('Yp', 'Zp'), ('X', 'X')): {'10': 1381, '11': 1456, '01': 1044, '00': 1119},\n",
       " (('Yp', 'Zp'), ('X', 'Y')): {'10': 137, '11': 2313, '01': 173, '00': 2377},\n",
       " (('Yp', 'Zp'), ('X', 'Z')): {'10': 1079, '11': 1435, '01': 1069, '00': 1417},\n",
       " (('Yp', 'Zp'), ('Y', 'X')): {'10': 109, '11': 2748, '01': 140, '00': 2003},\n",
       " (('Yp', 'Zp'), ('Y', 'Y')): {'10': 1110, '11': 1363, '01': 1507, '00': 1020},\n",
       " (('Yp', 'Zp'), ('Y', 'Z')): {'10': 1079, '11': 1457, '01': 1352, '00': 1112},\n",
       " (('Yp', 'Zp'), ('Z', 'X')): {'10': 1499, '11': 1407, '01': 1107, '00': 987},\n",
       " (('Yp', 'Zp'), ('Z', 'Y')): {'10': 1369, '11': 1052, '01': 1463, '00': 1116},\n",
       " (('Yp', 'Zp'), ('Z', 'Z')): {'10': 151, '11': 2406, '01': 149, '00': 2294},\n",
       " (('Yp', 'Zm'), ('X', 'X')): {'10': 1502, '11': 1292, '01': 1118, '00': 1088},\n",
       " (('Yp', 'Zm'), ('X', 'Y')): {'10': 2380, '11': 107, '01': 2321, '00': 192},\n",
       " (('Yp', 'Zm'), ('X', 'Z')): {'10': 1384, '11': 1027, '01': 1400, '00': 1189},\n",
       " (('Yp', 'Zm'), ('Y', 'X')): {'10': 103, '11': 2657, '01': 118, '00': 2122},\n",
       " (('Yp', 'Zm'), ('Y', 'Y')): {'10': 1102, '11': 1358, '01': 1449, '00': 1091},\n",
       " (('Yp', 'Zm'), ('Y', 'Z')): {'10': 1022, '11': 1353, '01': 1504, '00': 1121},\n",
       " (('Yp', 'Zm'), ('Z', 'X')): {'10': 1423, '11': 1365, '01': 1116, '00': 1096},\n",
       " (('Yp', 'Zm'), ('Z', 'Y')): {'10': 1033, '11': 1448, '01': 1081, '00': 1438},\n",
       " (('Yp', 'Zm'), ('Z', 'Z')): {'10': 2378, '11': 67, '01': 2395, '00': 160},\n",
       " (('Yp', 'Xp'), ('X', 'X')): {'10': 78, '11': 44, '01': 2369, '00': 2509},\n",
       " (('Yp', 'Xp'), ('X', 'Y')): {'10': 1434, '11': 1105, '01': 1424, '00': 1037},\n",
       " (('Yp', 'Xp'), ('X', 'Z')): {'10': 1279, '11': 1150, '01': 1369, '00': 1202},\n",
       " (('Yp', 'Xp'), ('Y', 'X')): {'10': 22, '11': 91, '01': 109, '00': 4778},\n",
       " (('Yp', 'Xp'), ('Y', 'Y')): {'10': 2379, '11': 107, '01': 96, '00': 2418},\n",
       " (('Yp', 'Xp'), ('Y', 'Z')): {'10': 2314, '11': 92, '01': 107, '00': 2487},\n",
       " (('Yp', 'Xp'), ('Z', 'X')): {'10': 53, '11': 49, '01': 2561, '00': 2337},\n",
       " (('Yp', 'Xp'), ('Z', 'Y')): {'10': 1128, '11': 1311, '01': 1278, '00': 1283},\n",
       " (('Yp', 'Xp'), ('Z', 'Z')): {'10': 1366, '11': 1030, '01': 1596, '00': 1008},\n",
       " (('Yp', 'Yp'), ('X', 'X')): {'10': 1282, '11': 1288, '01': 1191, '00': 1239},\n",
       " (('Yp', 'Yp'), ('X', 'Y')): {'10': 1466, '11': 1146, '01': 1295, '00': 1093},\n",
       " (('Yp', 'Yp'), ('X', 'Z')): {'10': 2426, '11': 67, '01': 2306, '00': 201},\n",
       " (('Yp', 'Yp'), ('Y', 'X')): {'10': 80, '11': 2448, '01': 122, '00': 2350},\n",
       " (('Yp', 'Yp'), ('Y', 'Y')): {'10': 1225, '11': 1299, '01': 1266, '00': 1210},\n",
       " (('Yp', 'Yp'), ('Y', 'Z')): {'10': 1168, '11': 1341, '01': 1306, '00': 1185},\n",
       " (('Yp', 'Yp'), ('Z', 'X')): {'10': 1332, '11': 1271, '01': 1245, '00': 1152},\n",
       " (('Yp', 'Yp'), ('Z', 'Y')): {'10': 108, '11': 2383, '01': 122, '00': 2387},\n",
       " (('Yp', 'Yp'), ('Z', 'Z')): {'10': 1310, '11': 1126, '01': 1465, '00': 1099}}"
      ]
     },
     "execution_count": 22,
     "metadata": {},
     "output_type": "execute_result"
    }
   ],
   "source": [
    "# Calculate tomography data.\n",
    "tomo_cnot = []\n",
    "tomo_cnot = ProcessTomographyFitter(result[0], qpt_cnot[:50])\n",
    "for n in range(1, len(qpt_cnot)//50 + 1):\n",
    "    tomo_cnot.add_data(result[n], qpt_cnot[n*50 : (n+1)*50])\n",
    "tomo_cnot.data"
   ]
  },
  {
   "cell_type": "code",
   "execution_count": 25,
   "metadata": {},
   "outputs": [
    {
     "name": "stdout",
     "output_type": "stream",
     "text": [
      "CP? True. TP? False.\n"
     ]
    },
    {
     "data": {
      "image/png": "[encoded data removed]",
      "text/plain": [
       "<Figure size 720x720 with 1 Axes>"
      ]
     },
     "metadata": {
      "needs_background": "light"
     },
     "output_type": "display_data"
    }
   ],
   "source": [
    "# Extracting the PTM.\n",
    "from qiskit.quantum_info import PTM\n",
    "choi_cnot = tomo_cnot.fit()\n",
    "ptm_cnot = PTM(choi_cnot)\n",
    "print('CP? '+str(ptm_cnot.is_cp())+'.', 'TP? '+str(ptm_cnot.is_tp())+'.')\n",
    "\n",
    "# Plot Hinton diagram of PTM.\n",
    "from qiskit.visualization import plot_state_hinton\n",
    "fig, ax = plt.subplots(1, 1, figsize=(10, 10))\n",
    "plot_state_hinton(ptm_cnot.data, ax_real=ax)\n",
    "\n",
    "labels = []\n",
    "paulis = ['I', 'X', 'Y', 'Z']\n",
    "for i in range(4):\n",
    "    for j in range(4):\n",
    "        labels.append(paulis[i]+paulis[j])\n",
    "            \n",
    "ax.set_title('PTM');\n",
    "ax.set_xticklabels(labels);\n",
    "ax.set_yticklabels(labels);"
   ]
  },
  {
   "cell_type": "code",
   "execution_count": null,
   "metadata": {},
   "outputs": [],
   "source": []
  }
 ],
 "metadata": {
  "kernelspec": {
   "display_name": "Python 3",
   "language": "python",
   "name": "python3"
  },
  "language_info": {
   "codemirror_mode": {
    "name": "ipython",
    "version": 3
   },
   "file_extension": ".py",
   "mimetype": "text/x-python",
   "name": "python",
   "nbconvert_exporter": "python",
   "pygments_lexer": "ipython3",
   "version": "3.7.4"
  }
 },
 "nbformat": 4,
 "nbformat_minor": 2
}
