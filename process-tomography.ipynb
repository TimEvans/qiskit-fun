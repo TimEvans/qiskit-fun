{
 "cells": [
  {
   "cell_type": "markdown",
   "metadata": {},
   "source": [
    "# Quantum process tomography\n",
    "\n",
    "This notebook loosely follows through the examples in the [corresponding Qiskit tutorial](https://github.com/Qiskit/qiskit-iqx-tutorials/blob/master/qiskit/advanced/ignis/6b_process_tomography.ipynb).\n",
    "\n",
    "We perform quantum process tomography for two cases: a Hadamard gate, and a CNOT gate."
   ]
  },
  {
   "cell_type": "code",
   "execution_count": 1,
   "metadata": {},
   "outputs": [
    {
     "data": {
      "text/plain": [
       "[<IBMQSimulator('ibmq_qasm_simulator') from IBMQ(hub='ibm-q', group='open', project='main')>,\n",
       " <IBMQBackend('ibmqx2') from IBMQ(hub='ibm-q', group='open', project='main')>,\n",
       " <IBMQBackend('ibmq_16_melbourne') from IBMQ(hub='ibm-q', group='open', project='main')>,\n",
       " <IBMQBackend('ibmq_vigo') from IBMQ(hub='ibm-q', group='open', project='main')>,\n",
       " <IBMQBackend('ibmq_ourense') from IBMQ(hub='ibm-q', group='open', project='main')>,\n",
       " <IBMQBackend('ibmq_london') from IBMQ(hub='ibm-q', group='open', project='main')>,\n",
       " <IBMQBackend('ibmq_burlington') from IBMQ(hub='ibm-q', group='open', project='main')>,\n",
       " <IBMQBackend('ibmq_essex') from IBMQ(hub='ibm-q', group='open', project='main')>,\n",
       " <IBMQBackend('ibmq_armonk') from IBMQ(hub='ibm-q', group='open', project='main')>]"
      ]
     },
     "execution_count": 1,
     "metadata": {},
     "output_type": "execute_result"
    }
   ],
   "source": [
    "from qiskit import *\n",
    "\n",
    "# Matplotlib is recommended for Qiskit. Others are for fun.\n",
    "import numpy as np\n",
    "import qutip as qt\n",
    "import matplotlib.pyplot as plt\n",
    "%matplotlib inline\n",
    "\n",
    "# Load account (requires a saved IBMQ user id) and list available backends.\n",
    "IBMQ.load_account()\n",
    "provider = IBMQ.get_provider(group='open')\n",
    "provider.backends()"
   ]
  },
  {
   "cell_type": "code",
   "execution_count": 2,
   "metadata": {},
   "outputs": [
    {
     "data": {
      "application/vnd.jupyter.widget-view+json": {
       "model_id": "fb83c4dd4a0c45108ee1712d879f8d29",
       "version_major": 2,
       "version_minor": 0
      },
      "text/plain": [
       "Accordion(children=(VBox(layout=Layout(max_width='710px', min_width='710px')),), layout=Layout(max_height='500…"
      ]
     },
     "metadata": {},
     "output_type": "display_data"
    },
    {
     "data": {
      "application/javascript": [
       "$('div.job_widget')\n",
       "        .detach()\n",
       "        .appendTo($('#header'))\n",
       "        .css({\n",
       "            'z-index': 999,\n",
       "             'position': 'fixed',\n",
       "            'box-shadow': '5px 5px 5px -3px black',\n",
       "            'opacity': 0.95,\n",
       "            'float': 'left,'\n",
       "        })\n",
       "        "
      ],
      "text/plain": [
       "<IPython.core.display.Javascript object>"
      ]
     },
     "metadata": {},
     "output_type": "display_data"
    }
   ],
   "source": [
    "# Notebook widget for watching IBMQ jobs.\n",
    "import qiskit.tools.jupyter\n",
    "%qiskit_job_watcher"
   ]
  },
  {
   "cell_type": "code",
   "execution_count": 3,
   "metadata": {},
   "outputs": [
    {
     "name": "stdout",
     "output_type": "stream",
     "text": [
      "ibmq_london\n"
     ]
    },
    {
     "data": {
      "image/png": "[encoded data removed]",
      "text/plain": [
       "<Figure size 360x360 with 1 Axes>"
      ]
     },
     "execution_count": 3,
     "metadata": {},
     "output_type": "execute_result"
    }
   ],
   "source": [
    "# Set least busy device as backend.\n",
    "from qiskit.providers.ibmq import least_busy\n",
    "from qiskit.visualization import plot_gate_map, plot_circuit_layout\n",
    "\n",
    "small_devices = provider.backends(filters=lambda x: x.configuration().n_qubits == 5\n",
    "                                   and not x.configuration().simulator)\n",
    "backend = least_busy(small_devices)\n",
    "\n",
    "# Set qasm as simulator.\n",
    "simulator = Aer.get_backend('qasm_simulator')\n",
    "\n",
    "# Print name and configuration.\n",
    "print(backend)\n",
    "plot_gate_map(backend, plot_directed=True)"
   ]
  },
  {
   "cell_type": "markdown",
   "metadata": {},
   "source": [
    "## Example 1: X gate"
   ]
  },
  {
   "cell_type": "markdown",
   "metadata": {},
   "source": [
    "### X gate circuit"
   ]
  },
  {
   "cell_type": "code",
   "execution_count": 4,
   "metadata": {},
   "outputs": [
    {
     "name": "stdout",
     "output_type": "stream",
     "text": [
      "         ┌───┐\n",
      "q0_0: |0>┤ X ├\n",
      "         └───┘\n",
      "         ┌───┐ ░ ┌─┐\n",
      "q0_0: |0>┤ X ├─░─┤M├\n",
      "         └───┘ ░ └╥┘\n",
      " c0_0: 0 ═════════╩═\n",
      "                    \n"
     ]
    }
   ],
   "source": [
    "# X gate.\n",
    "qr = QuantumRegister(1)\n",
    "x = QuantumCircuit(qr)\n",
    "x.x(0)\n",
    "print(x)\n",
    "\n",
    "# Measurement circuit.\n",
    "cr = ClassicalRegister(1)\n",
    "meas = QuantumCircuit(qr, cr)\n",
    "meas.barrier()\n",
    "meas.measure(0, 0)\n",
    "print(x+meas)"
   ]
  },
  {
   "cell_type": "markdown",
   "metadata": {},
   "source": [
    "### Output of the X gate"
   ]
  },
  {
   "cell_type": "code",
   "execution_count": 5,
   "metadata": {},
   "outputs": [
    {
     "name": "stdout",
     "output_type": "stream",
     "text": [
      "5e4a0e24b917c90018a16f65\n",
      "{'1': 4674, '0': 326}\n"
     ]
    }
   ],
   "source": [
    "# Run X gate.\n",
    "job = execute(x+meas, backend, optimization_level=0, shots=5000)\n",
    "print(job.job_id())\n",
    "\n",
    "counts = job.result().get_counts()\n",
    "print(counts)\n",
    "\n",
    "# Simulate X gate.\n",
    "counts_sim = execute(x+meas, simulator, shots=5000).result().get_counts()"
   ]
  },
  {
   "cell_type": "code",
   "execution_count": 6,
   "metadata": {},
   "outputs": [
    {
     "data": {
      "image/png": "[encoded data removed]",
      "text/plain": [
       "<Figure size 504x360 with 1 Axes>"
      ]
     },
     "execution_count": 6,
     "metadata": {},
     "output_type": "execute_result"
    }
   ],
   "source": [
    "# Results from backend vs simulator.\n",
    "from qiskit.visualization import plot_histogram\n",
    "plot_histogram([counts, counts_sim], legend=[backend, simulator])"
   ]
  },
  {
   "cell_type": "markdown",
   "metadata": {},
   "source": [
    "### Process tomography on the X gate"
   ]
  },
  {
   "cell_type": "code",
   "execution_count": 7,
   "metadata": {},
   "outputs": [
    {
     "name": "stdout",
     "output_type": "stream",
     "text": [
      "          ░ ┌───┐ ░ ┌───┐┌─┐\n",
      "q0_0: |0>─░─┤ X ├─░─┤ H ├┤M├\n",
      "          ░ └───┘ ░ └───┘└╥┘\n",
      " c1_0: 0 ═════════════════╩═\n",
      "                            \n",
      "          ░ ┌───┐ ░ ┌─────┐┌───┐┌─┐\n",
      "q0_0: |0>─░─┤ X ├─░─┤ Sdg ├┤ H ├┤M├\n",
      "          ░ └───┘ ░ └─────┘└───┘└╥┘\n",
      " c1_0: 0 ════════════════════════╩═\n",
      "                                   \n",
      "          ░ ┌───┐ ░ ┌─┐\n",
      "q0_0: |0>─░─┤ X ├─░─┤M├\n",
      "          ░ └───┘ ░ └╥┘\n",
      " c1_0: 0 ════════════╩═\n",
      "                       \n",
      "         ┌───┐ ░ ┌───┐ ░ ┌───┐┌─┐\n",
      "q0_0: |0>┤ X ├─░─┤ X ├─░─┤ H ├┤M├\n",
      "         └───┘ ░ └───┘ ░ └───┘└╥┘\n",
      " c1_0: 0 ══════════════════════╩═\n",
      "                                 \n",
      "         ┌───┐ ░ ┌───┐ ░ ┌─────┐┌───┐┌─┐\n",
      "q0_0: |0>┤ X ├─░─┤ X ├─░─┤ Sdg ├┤ H ├┤M├\n",
      "         └───┘ ░ └───┘ ░ └─────┘└───┘└╥┘\n",
      " c1_0: 0 ═════════════════════════════╩═\n",
      "                                        \n",
      "         ┌───┐ ░ ┌───┐ ░ ┌─┐\n",
      "q0_0: |0>┤ X ├─░─┤ X ├─░─┤M├\n",
      "         └───┘ ░ └───┘ ░ └╥┘\n",
      " c1_0: 0 ═════════════════╩═\n",
      "                            \n",
      "         ┌───┐ ░ ┌───┐ ░ ┌───┐┌─┐\n",
      "q0_0: |0>┤ H ├─░─┤ X ├─░─┤ H ├┤M├\n",
      "         └───┘ ░ └───┘ ░ └───┘└╥┘\n",
      " c1_0: 0 ══════════════════════╩═\n",
      "                                 \n",
      "         ┌───┐ ░ ┌───┐ ░ ┌─────┐┌───┐┌─┐\n",
      "q0_0: |0>┤ H ├─░─┤ X ├─░─┤ Sdg ├┤ H ├┤M├\n",
      "         └───┘ ░ └───┘ ░ └─────┘└───┘└╥┘\n",
      " c1_0: 0 ═════════════════════════════╩═\n",
      "                                        \n",
      "         ┌───┐ ░ ┌───┐ ░ ┌─┐\n",
      "q0_0: |0>┤ H ├─░─┤ X ├─░─┤M├\n",
      "         └───┘ ░ └───┘ ░ └╥┘\n",
      " c1_0: 0 ═════════════════╩═\n",
      "                            \n",
      "         ┌───┐┌───┐ ░ ┌───┐ ░ ┌───┐┌─┐\n",
      "q0_0: |0>┤ H ├┤ S ├─░─┤ X ├─░─┤ H ├┤M├\n",
      "         └───┘└───┘ ░ └───┘ ░ └───┘└╥┘\n",
      " c1_0: 0 ═══════════════════════════╩═\n",
      "                                      \n",
      "         ┌───┐┌───┐ ░ ┌───┐ ░ ┌─────┐┌───┐┌─┐\n",
      "q0_0: |0>┤ H ├┤ S ├─░─┤ X ├─░─┤ Sdg ├┤ H ├┤M├\n",
      "         └───┘└───┘ ░ └───┘ ░ └─────┘└───┘└╥┘\n",
      " c1_0: 0 ══════════════════════════════════╩═\n",
      "                                             \n",
      "         ┌───┐┌───┐ ░ ┌───┐ ░ ┌─┐\n",
      "q0_0: |0>┤ H ├┤ S ├─░─┤ X ├─░─┤M├\n",
      "         └───┘└───┘ ░ └───┘ ░ └╥┘\n",
      " c1_0: 0 ══════════════════════╩═\n",
      "                                 \n"
     ]
    }
   ],
   "source": [
    "# Circuits for process tomography.\n",
    "from qiskit.ignis.verification.tomography import process_tomography_circuits, ProcessTomographyFitter\n",
    "qpt_x = process_tomography_circuits(x, qr[0])\n",
    "\n",
    "# Print circuits.\n",
    "for circ in qpt_x:\n",
    "    print(circ)"
   ]
  },
  {
   "cell_type": "code",
   "execution_count": 8,
   "metadata": {},
   "outputs": [
    {
     "name": "stdout",
     "output_type": "stream",
     "text": [
      "5e4a0e4eea11110018f00053\n"
     ]
    }
   ],
   "source": [
    "# Process tomography circuits on backend.\n",
    "job = execute(qpt_x, backend, optimization_level=0, shots=5000)\n",
    "print(job.job_id())"
   ]
  },
  {
   "cell_type": "code",
   "execution_count": 9,
   "metadata": {},
   "outputs": [
    {
     "data": {
      "text/plain": [
       "{(('Zp',), ('X',)): {'1': 2409, '0': 2591},\n",
       " (('Zp',), ('Y',)): {'1': 2323, '0': 2677},\n",
       " (('Zp',), ('Z',)): {'1': 4667, '0': 333},\n",
       " (('Zm',), ('X',)): {'1': 2351, '0': 2649},\n",
       " (('Zm',), ('Y',)): {'1': 2355, '0': 2645},\n",
       " (('Zm',), ('Z',)): {'1': 28, '0': 4972},\n",
       " (('Xp',), ('X',)): {'1': 15, '0': 4985},\n",
       " (('Xp',), ('Y',)): {'1': 2284, '0': 2716},\n",
       " (('Xp',), ('Z',)): {'1': 2243, '0': 2757},\n",
       " (('Yp',), ('X',)): {'1': 2309, '0': 2691},\n",
       " (('Yp',), ('Y',)): {'1': 4656, '0': 344},\n",
       " (('Yp',), ('Z',)): {'1': 2265, '0': 2735}}"
      ]
     },
     "execution_count": 9,
     "metadata": {},
     "output_type": "execute_result"
    }
   ],
   "source": [
    "# Calculate tomography data.\n",
    "tomo_x = ProcessTomographyFitter(job.result(), qpt_x)\n",
    "tomo_x.data"
   ]
  },
  {
   "cell_type": "code",
   "execution_count": 10,
   "metadata": {},
   "outputs": [
    {
     "name": "stdout",
     "output_type": "stream",
     "text": [
      "CP? True. TP? False.\n"
     ]
    },
    {
     "data": {
      "image/png": "[encoded data removed]",
      "text/plain": [
       "<Figure size 360x360 with 1 Axes>"
      ]
     },
     "metadata": {
      "needs_background": "light"
     },
     "output_type": "display_data"
    }
   ],
   "source": [
    "# Calculate the PTM.\n",
    "from qiskit.quantum_info import PTM\n",
    "choi_x = tomo_x.fit()\n",
    "ptm_x = PTM(choi_x)\n",
    "print('CP? '+str(ptm_x.is_cp())+'.', 'TP? '+str(ptm_x.is_tp())+'.')\n",
    "\n",
    "# Plot PTM.\n",
    "from qiskit.visualization import plot_state_hinton\n",
    "fig, ax = plt.subplots(1, 1, figsize=(5, 5))\n",
    "plot_state_hinton(ptm_x.data, ax_real=ax)\n",
    "\n",
    "ax.set_title(r'PTM');\n",
    "ax.set_xticklabels(['I', 'X', 'Y', 'Z']);\n",
    "ax.set_yticklabels(['I', 'X', 'Y', 'Z']);"
   ]
  },
  {
   "cell_type": "markdown",
   "metadata": {},
   "source": [
    "## Example 2: CNOT gate"
   ]
  },
  {
   "cell_type": "markdown",
   "metadata": {},
   "source": [
    "### CNOT gate circuit"
   ]
  },
  {
   "cell_type": "code",
   "execution_count": 11,
   "metadata": {},
   "outputs": [
    {
     "name": "stdout",
     "output_type": "stream",
     "text": [
      "              \n",
      "q1_0: |0>──■──\n",
      "         ┌─┴─┐\n",
      "q1_1: |0>┤ X ├\n",
      "         └───┘\n",
      "               ░ ┌─┐   \n",
      "q1_0: |0>──■───░─┤M├───\n",
      "         ┌─┴─┐ ░ └╥┘┌─┐\n",
      "q1_1: |0>┤ X ├─░──╫─┤M├\n",
      "         └───┘ ░  ║ └╥┘\n",
      " c2_0: 0 ═════════╩══╬═\n",
      "                     ║ \n",
      " c2_1: 0 ════════════╩═\n",
      "                       \n"
     ]
    }
   ],
   "source": [
    "# CNOT gate.\n",
    "qr = QuantumRegister(2)\n",
    "cnot = QuantumCircuit(qr)\n",
    "cnot.cx(0, 1)\n",
    "print(cnot)\n",
    "\n",
    "# Measurement circuit.\n",
    "cr = ClassicalRegister(2)\n",
    "meas = QuantumCircuit(qr, cr)\n",
    "meas.barrier()\n",
    "meas.measure([0,1], [0,1])\n",
    "print(cnot+meas)"
   ]
  },
  {
   "cell_type": "markdown",
   "metadata": {},
   "source": [
    "### Output of the CNOT gate"
   ]
  },
  {
   "cell_type": "code",
   "execution_count": 12,
   "metadata": {},
   "outputs": [
    {
     "name": "stdout",
     "output_type": "stream",
     "text": [
      "5e4a0f9f912c8200183cb2ab\n",
      "{'01': 13, '10': 73, '00': 4890, '11': 24}\n"
     ]
    }
   ],
   "source": [
    "# Run CNOT circuit.\n",
    "job = execute(cnot+meas, backend, optimization_level=0, shots=5000)\n",
    "counts = job.result().get_counts()\n",
    "print(job.job_id())\n",
    "print(counts)\n",
    "\n",
    "# Simulate CNOT ciruit.\n",
    "counts_sim = execute(cnot+meas, simulator, shots=5000).result().get_counts()"
   ]
  },
  {
   "cell_type": "code",
   "execution_count": 13,
   "metadata": {},
   "outputs": [
    {
     "data": {
      "image/png": "[encoded data removed]",
      "text/plain": [
       "<Figure size 504x360 with 1 Axes>"
      ]
     },
     "execution_count": 13,
     "metadata": {},
     "output_type": "execute_result"
    }
   ],
   "source": [
    "# Results from backend vs simulator.\n",
    "from qiskit.visualization import plot_histogram\n",
    "plot_histogram([counts, counts_sim], legend=[backend, simulator])"
   ]
  },
  {
   "cell_type": "markdown",
   "metadata": {},
   "source": [
    "### Process tomography for a CNOT gate"
   ]
  },
  {
   "cell_type": "code",
   "execution_count": 14,
   "metadata": {},
   "outputs": [
    {
     "name": "stdout",
     "output_type": "stream",
     "text": [
      "144\n"
     ]
    }
   ],
   "source": [
    "# Calculate circuits for process tomography.\n",
    "from qiskit.ignis.verification.tomography import process_tomography_circuits, ProcessTomographyFitter\n",
    "qpt_cnot = process_tomography_circuits(cnot, [qr[0], qr[1]])\n",
    "print(len(qpt_cnot))"
   ]
  },
  {
   "cell_type": "code",
   "execution_count": 15,
   "metadata": {},
   "outputs": [
    {
     "name": "stdout",
     "output_type": "stream",
     "text": [
      "5e4a1010e2319f0018fea168\n",
      "5e4a11b3912c8200183cb2bc\n"
     ]
    }
   ],
   "source": [
    "# Process tomography circuits on backend.\n",
    "result = []\n",
    "for n in range(len(qpt_cnot)//75 + 1): # Max circuits per job is 75.\n",
    "    job = execute(qpt_cnot[n*75: (n+1)*75], backend, optimization_level=0, shots=5000)\n",
    "    result.append(job.result()) # Loop will pause until results can be retrieved.\n",
    "    print(job.job_id())"
   ]
  },
  {
   "cell_type": "code",
   "execution_count": 16,
   "metadata": {},
   "outputs": [
    {
     "data": {
      "text/plain": [
       "{(('Zp', 'Zp'), ('X', 'X')): {'01': 1309, '10': 1279, '00': 1366, '11': 1046},\n",
       " (('Zp', 'Zp'), ('X', 'Y')): {'01': 1257, '10': 1177, '00': 1478, '11': 1088},\n",
       " (('Zp', 'Zp'), ('X', 'Z')): {'01': 2293, '10': 49, '00': 2610, '11': 48},\n",
       " (('Zp', 'Zp'), ('Y', 'X')): {'01': 1217, '10': 1277, '00': 1488, '11': 1018},\n",
       " (('Zp', 'Zp'), ('Y', 'Y')): {'01': 1264, '10': 1159, '00': 1513, '11': 1064},\n",
       " (('Zp', 'Zp'), ('Y', 'Z')): {'01': 2264, '10': 64, '00': 2626, '11': 46},\n",
       " (('Zp', 'Zp'), ('Z', 'X')): {'01': 19, '10': 2289, '00': 2673, '11': 19},\n",
       " (('Zp', 'Zp'), ('Z', 'Y')): {'01': 13, '10': 2241, '00': 2718, '11': 28},\n",
       " (('Zp', 'Zp'), ('Z', 'Z')): {'01': 24, '10': 64, '00': 4882, '11': 30},\n",
       " (('Zp', 'Zm'), ('X', 'X')): {'01': 1262, '10': 1277, '00': 1429, '11': 1032},\n",
       " (('Zp', 'Zm'), ('X', 'Y')): {'01': 1219, '10': 1336, '00': 1323, '11': 1122},\n",
       " (('Zp', 'Zm'), ('X', 'Z')): {'01': 235, '10': 2412, '00': 163, '11': 2190},\n",
       " (('Zp', 'Zm'), ('Y', 'X')): {'01': 1232, '10': 1172, '00': 1542, '11': 1054},\n",
       " (('Zp', 'Zm'), ('Y', 'Y')): {'01': 1221, '10': 1358, '00': 1311, '11': 1110},\n",
       " (('Zp', 'Zm'), ('Y', 'Z')): {'01': 177, '10': 2448, '00': 192, '11': 2183},\n",
       " (('Zp', 'Zm'), ('Z', 'X')): {'01': 23, '10': 2345, '00': 2616, '11': 16},\n",
       " (('Zp', 'Zm'), ('Z', 'Y')): {'01': 37, '10': 2460, '00': 2491, '11': 12},\n",
       " (('Zp', 'Zm'), ('Z', 'Z')): {'01': 30, '10': 4652, '00': 305, '11': 13},\n",
       " (('Zp', 'Xp'), ('X', 'X')): {'01': 2390, '10': 30, '00': 2546, '11': 34},\n",
       " (('Zp', 'Xp'), ('X', 'Y')): {'01': 1332, '10': 1187, '00': 1403, '11': 1078},\n",
       " (('Zp', 'Xp'), ('X', 'Z')): {'01': 1255, '10': 1179, '00': 1454, '11': 1112},\n",
       " (('Zp', 'Xp'), ('Y', 'X')): {'01': 2187, '10': 50, '00': 2725, '11': 38},\n",
       " (('Zp', 'Xp'), ('Y', 'Y')): {'01': 1236, '10': 1224, '00': 1549, '11': 991},\n",
       " (('Zp', 'Xp'), ('Y', 'Z')): {'01': 1264, '10': 1231, '00': 1498, '11': 1007},\n",
       " (('Zp', 'Xp'), ('Z', 'X')): {'01': 41, '10': 74, '00': 4882, '11': 3},\n",
       " (('Zp', 'Xp'), ('Z', 'Y')): {'01': 22, '10': 2242, '00': 2721, '11': 15},\n",
       " (('Zp', 'Xp'), ('Z', 'Z')): {'01': 22, '10': 2237, '00': 2722, '11': 19},\n",
       " (('Zp', 'Yp'), ('X', 'X')): {'01': 1249, '10': 1367, '00': 1259, '11': 1125},\n",
       " (('Zp', 'Yp'), ('X', 'Y')): {'01': 2355, '10': 59, '00': 2539, '11': 47},\n",
       " (('Zp', 'Yp'), ('X', 'Z')): {'01': 1297, '10': 1250, '00': 1374, '11': 1079},\n",
       " (('Zp', 'Yp'), ('Y', 'X')): {'01': 1187, '10': 1281, '00': 1402, '11': 1130},\n",
       " (('Zp', 'Yp'), ('Y', 'Y')): {'01': 2197, '10': 52, '00': 2702, '11': 49},\n",
       " (('Zp', 'Yp'), ('Y', 'Z')): {'01': 1281, '10': 1334, '00': 1404, '11': 981},\n",
       " (('Zp', 'Yp'), ('Z', 'X')): {'01': 20, '10': 2482, '00': 2480, '11': 18},\n",
       " (('Zp', 'Yp'), ('Z', 'Y')): {'01': 16, '10': 91, '00': 4865, '11': 28},\n",
       " (('Zp', 'Yp'), ('Z', 'Z')): {'01': 31, '10': 2206, '00': 2749, '11': 14},\n",
       " (('Zm', 'Zp'), ('X', 'X')): {'01': 1272, '10': 1259, '00': 1412, '11': 1057},\n",
       " (('Zm', 'Zp'), ('X', 'Y')): {'01': 1156, '10': 1330, '00': 1337, '11': 1177},\n",
       " (('Zm', 'Zp'), ('X', 'Z')): {'01': 201, '10': 2420, '00': 213, '11': 2166},\n",
       " (('Zm', 'Zp'), ('Y', 'X')): {'01': 1286, '10': 1262, '00': 1325, '11': 1127},\n",
       " (('Zm', 'Zp'), ('Y', 'Y')): {'01': 1108, '10': 1223, '00': 1375, '11': 1294},\n",
       " (('Zm', 'Zp'), ('Y', 'Z')): {'01': 212, '10': 2394, '00': 197, '11': 2197},\n",
       " (('Zm', 'Zp'), ('Z', 'X')): {'01': 2455, '10': 173, '00': 190, '11': 2182},\n",
       " (('Zm', 'Zp'), ('Z', 'Y')): {'01': 2395, '10': 157, '00': 164, '11': 2284},\n",
       " (('Zm', 'Zp'), ('Z', 'Z')): {'01': 367, '10': 309, '00': 50, '11': 4274},\n",
       " (('Zm', 'Zm'), ('X', 'X')): {'01': 1440, '10': 1251, '00': 1330, '11': 979},\n",
       " (('Zm', 'Zm'), ('X', 'Y')): {'01': 1297, '10': 1184, '00': 1447, '11': 1072},\n",
       " (('Zm', 'Zm'), ('X', 'Z')): {'01': 2316, '10': 42, '00': 2574, '11': 68},\n",
       " (('Zm', 'Zm'), ('Y', 'X')): {'01': 1320, '10': 1176, '00': 1460, '11': 1044},\n",
       " (('Zm', 'Zm'), ('Y', 'Y')): {'01': 1336, '10': 1274, '00': 1405, '11': 985},\n",
       " (('Zm', 'Zm'), ('Y', 'Z')): {'01': 2280, '10': 53, '00': 2614, '11': 53},\n",
       " (('Zm', 'Zm'), ('Z', 'X')): {'01': 2503, '10': 177, '00': 183, '11': 2137},\n",
       " (('Zm', 'Zm'), ('Z', 'Y')): {'01': 2551, '10': 154, '00': 207, '11': 2088},\n",
       " (('Zm', 'Zm'), ('Z', 'Z')): {'01': 4595, '10': 44, '00': 286, '11': 75},\n",
       " (('Zm', 'Xp'), ('X', 'X')): {'01': 2467, '10': 44, '00': 2453, '11': 36},\n",
       " (('Zm', 'Xp'), ('X', 'Y')): {'01': 1364, '10': 1063, '00': 1406, '11': 1167},\n",
       " (('Zm', 'Xp'), ('X', 'Z')): {'01': 1287, '10': 1250, '00': 1247, '11': 1216},\n",
       " (('Zm', 'Xp'), ('Y', 'X')): {'01': 2324, '10': 26, '00': 2607, '11': 43},\n",
       " (('Zm', 'Xp'), ('Y', 'Y')): {'01': 1439, '10': 1117, '00': 1409, '11': 1035},\n",
       " (('Zm', 'Xp'), ('Y', 'Z')): {'01': 1160, '10': 1281, '00': 1349, '11': 1210},\n",
       " (('Zm', 'Xp'), ('Z', 'X')): {'01': 4582, '10': 10, '00': 340, '11': 68},\n",
       " (('Zm', 'Xp'), ('Z', 'Y')): {'01': 2675, '10': 136, '00': 180, '11': 2009},\n",
       " (('Zm', 'Xp'), ('Z', 'Z')): {'01': 2361, '10': 157, '00': 160, '11': 2322},\n",
       " (('Zm', 'Yp'), ('X', 'X')): {'01': 1359, '10': 1229, '00': 1361, '11': 1051},\n",
       " (('Zm', 'Yp'), ('X', 'Y')): {'01': 201, '10': 2389, '00': 205, '11': 2205},\n",
       " (('Zm', 'Yp'), ('X', 'Z')): {'01': 1243, '10': 1255, '00': 1349, '11': 1153},\n",
       " (('Zm', 'Yp'), ('Y', 'X')): {'01': 1375, '10': 1194, '00': 1451, '11': 980},\n",
       " (('Zm', 'Yp'), ('Y', 'Y')): {'01': 195, '10': 2427, '00': 209, '11': 2169},\n",
       " (('Zm', 'Yp'), ('Y', 'Z')): {'01': 1252, '10': 1326, '00': 1322, '11': 1100},\n",
       " (('Zm', 'Yp'), ('Z', 'X')): {'01': 2511, '10': 166, '00': 193, '11': 2130},\n",
       " (('Zm', 'Yp'), ('Z', 'Y')): {'01': 361, '10': 286, '00': 48, '11': 4305},\n",
       " (('Zm', 'Yp'), ('Z', 'Z')): {'01': 2367, '10': 187, '00': 172, '11': 2274},\n",
       " (('Xp', 'Zp'), ('X', 'X')): {'01': 197, '10': 199, '00': 2535, '11': 2069},\n",
       " (('Xp', 'Zp'), ('X', 'Y')): {'01': 1200, '10': 1146, '00': 1499, '11': 1155},\n",
       " (('Xp', 'Zp'), ('X', 'Z')): {'01': 1140, '10': 1396, '00': 1397, '11': 1067},\n",
       " (('Xp', 'Zp'), ('Y', 'X')): {'01': 1217, '10': 1131, '00': 1470, '11': 1182},\n",
       " (('Xp', 'Zp'), ('Y', 'Y')): {'01': 2356, '10': 2264, '00': 318, '11': 62},\n",
       " (('Xp', 'Zp'), ('Y', 'Z')): {'01': 1204, '10': 1240, '00': 1356, '11': 1200},\n",
       " (('Xp', 'Zp'), ('Z', 'X')): {'01': 1262, '10': 1191, '00': 1412, '11': 1135},\n",
       " (('Xp', 'Zp'), ('Z', 'Y')): {'01': 1259, '10': 1139, '00': 1431, '11': 1171},\n",
       " (('Xp', 'Zp'), ('Z', 'Z')): {'01': 177, '10': 195, '00': 2324, '11': 2304},\n",
       " (('Xp', 'Zm'), ('X', 'X')): {'01': 179, '10': 179, '00': 2567, '11': 2075},\n",
       " (('Xp', 'Zm'), ('X', 'Y')): {'01': 1161, '10': 1228, '00': 1483, '11': 1128},\n",
       " (('Xp', 'Zm'), ('X', 'Z')): {'01': 1287, '10': 1204, '00': 1526, '11': 983},\n",
       " (('Xp', 'Zm'), ('Y', 'X')): {'01': 1362, '10': 1249, '00': 1335, '11': 1054},\n",
       " (('Xp', 'Zm'), ('Y', 'Y')): {'01': 194, '10': 179, '00': 2484, '11': 2143},\n",
       " (('Xp', 'Zm'), ('Y', 'Z')): {'01': 1376, '10': 1221, '00': 1417, '11': 986},\n",
       " (('Xp', 'Zm'), ('Z', 'X')): {'01': 1423, '10': 1105, '00': 1352, '11': 1120},\n",
       " (('Xp', 'Zm'), ('Z', 'Y')): {'01': 1400, '10': 1249, '00': 1279, '11': 1072},\n",
       " (('Xp', 'Zm'), ('Z', 'Z')): {'01': 2476, '10': 2142, '00': 331, '11': 51},\n",
       " (('Xp', 'Xp'), ('X', 'X')): {'01': 47, '10': 38, '00': 4896, '11': 19},\n",
       " (('Xp', 'Xp'), ('X', 'Y')): {'01': 37, '10': 2167, '00': 2760, '11': 36},\n",
       " (('Xp', 'Xp'), ('X', 'Z')): {'01': 35, '10': 2386, '00': 2540, '11': 39},\n",
       " (('Xp', 'Xp'), ('Y', 'X')): {'01': 2309, '10': 42, '00': 2612, '11': 37},\n",
       " (('Xp', 'Xp'), ('Y', 'Y')): {'01': 1353, '10': 1264, '00': 1426, '11': 957},\n",
       " (('Xp', 'Xp'), ('Y', 'Z')): {'01': 1267, '10': 1238, '00': 1405, '11': 1090},\n",
       " (('Xp', 'Xp'), ('Z', 'X')): {'01': 2446, '10': 40, '00': 2474, '11': 40},\n",
       " (('Xp', 'Xp'), ('Z', 'Y')): {'01': 1377, '10': 1152, '00': 1409, '11': 1062},\n",
       " (('Xp', 'Xp'), ('Z', 'Z')): {'01': 1280, '10': 1187, '00': 1351, '11': 1182},\n",
       " (('Xp', 'Yp'), ('X', 'X')): {'01': 165, '10': 197, '00': 2434, '11': 2204},\n",
       " (('Xp', 'Yp'), ('X', 'Y')): {'01': 1125, '10': 1253, '00': 1333, '11': 1289},\n",
       " (('Xp', 'Yp'), ('X', 'Z')): {'01': 1276, '10': 1261, '00': 1411, '11': 1052},\n",
       " (('Xp', 'Yp'), ('Y', 'X')): {'01': 1223, '10': 1199, '00': 1410, '11': 1168},\n",
       " (('Xp', 'Yp'), ('Y', 'Y')): {'01': 1137, '10': 1313, '00': 1351, '11': 1199},\n",
       " (('Xp', 'Yp'), ('Y', 'Z')): {'01': 194, '10': 176, '00': 2498, '11': 2132},\n",
       " (('Xp', 'Yp'), ('Z', 'X')): {'01': 1394, '10': 1182, '00': 1295, '11': 1129},\n",
       " (('Xp', 'Yp'), ('Z', 'Y')): {'01': 200, '10': 200, '00': 2312, '11': 2288},\n",
       " (('Xp', 'Yp'), ('Z', 'Z')): {'01': 1303, '10': 1171, '00': 1370, '11': 1156},\n",
       " (('Yp', 'Zp'), ('X', 'X')): {'01': 1306, '10': 1316, '00': 1341, '11': 1037},\n",
       " (('Yp', 'Zp'), ('X', 'Y')): {'01': 165, '10': 186, '00': 2466, '11': 2183},\n",
       " (('Yp', 'Zp'), ('X', 'Z')): {'01': 1223, '10': 1326, '00': 1329, '11': 1122},\n",
       " (('Yp', 'Zp'), ('Y', 'X')): {'01': 169, '10': 179, '00': 2509, '11': 2143},\n",
       " (('Yp', 'Zp'), ('Y', 'Y')): {'01': 1186, '10': 1144, '00': 1460, '11': 1210},\n",
       " (('Yp', 'Zp'), ('Y', 'Z')): {'01': 1200, '10': 1295, '00': 1367, '11': 1138},\n",
       " (('Yp', 'Zp'), ('Z', 'X')): {'01': 1255, '10': 1141, '00': 1433, '11': 1171},\n",
       " (('Yp', 'Zp'), ('Z', 'Y')): {'01': 1227, '10': 1128, '00': 1385, '11': 1260},\n",
       " (('Yp', 'Zp'), ('Z', 'Z')): {'01': 187, '10': 211, '00': 2389, '11': 2213},\n",
       " (('Yp', 'Zm'), ('X', 'X')): {'01': 1317, '10': 1117, '00': 1463, '11': 1103},\n",
       " (('Yp', 'Zm'), ('X', 'Y')): {'01': 2340, '10': 2284, '00': 315, '11': 61},\n",
       " (('Yp', 'Zm'), ('X', 'Z')): {'01': 1258, '10': 1134, '00': 1486, '11': 1122},\n",
       " (('Yp', 'Zm'), ('Y', 'X')): {'01': 157, '10': 156, '00': 2598, '11': 2089},\n",
       " (('Yp', 'Zm'), ('Y', 'Y')): {'01': 1221, '10': 1267, '00': 1453, '11': 1059},\n",
       " (('Yp', 'Zm'), ('Y', 'Z')): {'01': 1293, '10': 1299, '00': 1421, '11': 987},\n",
       " (('Yp', 'Zm'), ('Z', 'X')): {'01': 1363, '10': 1210, '00': 1303, '11': 1124},\n",
       " (('Yp', 'Zm'), ('Z', 'Y')): {'01': 1375, '10': 1188, '00': 1287, '11': 1150},\n",
       " (('Yp', 'Zm'), ('Z', 'Z')): {'01': 2395, '10': 2240, '00': 328, '11': 37},\n",
       " (('Yp', 'Xp'), ('X', 'X')): {'01': 2235, '10': 35, '00': 2694, '11': 36},\n",
       " (('Yp', 'Xp'), ('X', 'Y')): {'01': 1288, '10': 1073, '00': 1584, '11': 1055},\n",
       " (('Yp', 'Xp'), ('X', 'Z')): {'01': 1249, '10': 1204, '00': 1409, '11': 1138},\n",
       " (('Yp', 'Xp'), ('Y', 'X')): {'01': 51, '10': 49, '00': 4869, '11': 31},\n",
       " (('Yp', 'Xp'), ('Y', 'Y')): {'01': 41, '10': 2194, '00': 2741, '11': 24},\n",
       " (('Yp', 'Xp'), ('Y', 'Z')): {'01': 30, '10': 2347, '00': 2579, '11': 44},\n",
       " (('Yp', 'Xp'), ('Z', 'X')): {'01': 2548, '10': 39, '00': 2373, '11': 40},\n",
       " (('Yp', 'Xp'), ('Z', 'Y')): {'01': 1427, '10': 1098, '00': 1362, '11': 1113},\n",
       " (('Yp', 'Xp'), ('Z', 'Z')): {'01': 1211, '10': 1194, '00': 1415, '11': 1180},\n",
       " (('Yp', 'Yp'), ('X', 'X')): {'01': 1338, '10': 1264, '00': 1352, '11': 1046},\n",
       " (('Yp', 'Yp'), ('X', 'Y')): {'01': 1208, '10': 1343, '00': 1281, '11': 1168},\n",
       " (('Yp', 'Yp'), ('X', 'Z')): {'01': 2281, '10': 2333, '00': 331, '11': 55},\n",
       " (('Yp', 'Yp'), ('Y', 'X')): {'01': 178, '10': 183, '00': 2428, '11': 2211},\n",
       " (('Yp', 'Yp'), ('Y', 'Y')): {'01': 1084, '10': 1243, '00': 1440, '11': 1233},\n",
       " (('Yp', 'Yp'), ('Y', 'Z')): {'01': 1281, '10': 1280, '00': 1353, '11': 1086},\n",
       " (('Yp', 'Yp'), ('Z', 'X')): {'01': 1413, '10': 1181, '00': 1278, '11': 1128},\n",
       " (('Yp', 'Yp'), ('Z', 'Y')): {'01': 177, '10': 180, '00': 2378, '11': 2265},\n",
       " (('Yp', 'Yp'), ('Z', 'Z')): {'01': 1233, '10': 1182, '00': 1377, '11': 1208}}"
      ]
     },
     "execution_count": 16,
     "metadata": {},
     "output_type": "execute_result"
    }
   ],
   "source": [
    "# Tomography data.\n",
    "tomo_cnot = []\n",
    "tomo_cnot = ProcessTomographyFitter(result[0], qpt_cnot[:75])\n",
    "for n in range(1, len(qpt_cnot)//75 + 1):\n",
    "    tomo_cnot.add_data(result[n], qpt_cnot[n*75 : (n+1)*75])\n",
    "tomo_cnot.data"
   ]
  },
  {
   "cell_type": "code",
   "execution_count": 18,
   "metadata": {},
   "outputs": [
    {
     "name": "stdout",
     "output_type": "stream",
     "text": [
      "CP? True. TP? False.\n"
     ]
    },
    {
     "data": {
      "image/png": "[encoded data removed]",
      "text/plain": [
       "<Figure size 720x720 with 1 Axes>"
      ]
     },
     "metadata": {
      "needs_background": "light"
     },
     "output_type": "display_data"
    }
   ],
   "source": [
    "# Calculate PTM.\n",
    "from qiskit.quantum_info import PTM\n",
    "choi_cnot = tomo_cnot.fit()\n",
    "ptm_cnot = PTM(choi_cnot)\n",
    "print('CP? '+str(ptm_cnot.is_cp())+'.', 'TP? '+str(ptm_cnot.is_tp())+'.')\n",
    "\n",
    "# Plot PTM.\n",
    "from qiskit.visualization import plot_state_hinton\n",
    "fig, ax = plt.subplots(1, 1, figsize=(10, 10))\n",
    "plot_state_hinton(ptm_cnot.data, ax_real=ax)\n",
    "\n",
    "labels = []\n",
    "paulis = ['I', 'X', 'Y', 'Z']\n",
    "for i in range(4):\n",
    "    for j in range(4):\n",
    "        labels.append(paulis[i]+paulis[j])\n",
    "            \n",
    "ax.set_title('PTM');\n",
    "ax.set_xticklabels(labels);\n",
    "ax.set_yticklabels(labels);"
   ]
  },
  {
   "cell_type": "code",
   "execution_count": null,
   "metadata": {},
   "outputs": [],
   "source": []
  }
 ],
 "metadata": {
  "kernelspec": {
   "display_name": "Python 3",
   "language": "python",
   "name": "python3"
  },
  "language_info": {
   "codemirror_mode": {
    "name": "ipython",
    "version": 3
   },
   "file_extension": ".py",
   "mimetype": "text/x-python",
   "name": "python",
   "nbconvert_exporter": "python",
   "pygments_lexer": "ipython3",
   "version": "3.7.4"
  }
 },
 "nbformat": 4,
 "nbformat_minor": 2
}
