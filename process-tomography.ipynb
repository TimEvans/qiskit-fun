{
 "cells": [
  {
   "cell_type": "markdown",
   "metadata": {},
   "source": [
    "# Quantum process tomography\n",
    "\n",
    "This notebook loosely follows through the examples in the [corresponding Qiskit tutorial](https://github.com/Qiskit/qiskit-iqx-tutorials/blob/master/qiskit/advanced/ignis/6b_process_tomography.ipynb).\n",
    "\n",
    "We perform quantum process tomography for two cases: a Hadamard gate, and a CNOT gate."
   ]
  },
  {
   "cell_type": "code",
   "execution_count": 1,
   "metadata": {},
   "outputs": [
    {
     "data": {
      "text/plain": [
       "[<IBMQSimulator('ibmq_qasm_simulator') from IBMQ(hub='ibm-q', group='open', project='main')>,\n",
       " <IBMQBackend('ibmqx2') from IBMQ(hub='ibm-q', group='open', project='main')>,\n",
       " <IBMQBackend('ibmq_16_melbourne') from IBMQ(hub='ibm-q', group='open', project='main')>,\n",
       " <IBMQBackend('ibmq_vigo') from IBMQ(hub='ibm-q', group='open', project='main')>,\n",
       " <IBMQBackend('ibmq_ourense') from IBMQ(hub='ibm-q', group='open', project='main')>,\n",
       " <IBMQBackend('ibmq_london') from IBMQ(hub='ibm-q', group='open', project='main')>,\n",
       " <IBMQBackend('ibmq_burlington') from IBMQ(hub='ibm-q', group='open', project='main')>,\n",
       " <IBMQBackend('ibmq_essex') from IBMQ(hub='ibm-q', group='open', project='main')>,\n",
       " <IBMQBackend('ibmq_armonk') from IBMQ(hub='ibm-q', group='open', project='main')>]"
      ]
     },
     "execution_count": 1,
     "metadata": {},
     "output_type": "execute_result"
    }
   ],
   "source": [
    "from qiskit import *\n",
    "\n",
    "# Matplotlib is recommended for Qiskit. Others are for fun.\n",
    "import numpy as np\n",
    "import qutip as qt\n",
    "import matplotlib.pyplot as plt\n",
    "%matplotlib inline\n",
    "\n",
    "# Load account (requires a saved IBMQ user id) and list available backends.\n",
    "IBMQ.load_account()\n",
    "provider = IBMQ.get_provider(group='open')\n",
    "provider.backends()"
   ]
  },
  {
   "cell_type": "code",
   "execution_count": 2,
   "metadata": {},
   "outputs": [
    {
     "data": {
      "application/vnd.jupyter.widget-view+json": {
       "model_id": "43492d8720e44e63a4727254de7d0d92",
       "version_major": 2,
       "version_minor": 0
      },
      "text/plain": [
       "Accordion(children=(VBox(layout=Layout(max_width='710px', min_width='710px')),), layout=Layout(max_height='500…"
      ]
     },
     "metadata": {},
     "output_type": "display_data"
    },
    {
     "data": {
      "application/javascript": [
       "$('div.job_widget')\n",
       "        .detach()\n",
       "        .appendTo($('#header'))\n",
       "        .css({\n",
       "            'z-index': 999,\n",
       "             'position': 'fixed',\n",
       "            'box-shadow': '5px 5px 5px -3px black',\n",
       "            'opacity': 0.95,\n",
       "            'float': 'left,'\n",
       "        })\n",
       "        "
      ],
      "text/plain": [
       "<IPython.core.display.Javascript object>"
      ]
     },
     "metadata": {},
     "output_type": "display_data"
    }
   ],
   "source": [
    "# Notebook widget for watching IBMQ jobs.\n",
    "import qiskit.tools.jupyter\n",
    "%qiskit_job_watcher"
   ]
  },
  {
   "cell_type": "code",
   "execution_count": 3,
   "metadata": {},
   "outputs": [
    {
     "name": "stdout",
     "output_type": "stream",
     "text": [
      "ibmq_ourense\n"
     ]
    },
    {
     "data": {
      "image/png": "[encoded data removed]",
      "text/plain": [
       "<Figure size 360x360 with 1 Axes>"
      ]
     },
     "execution_count": 3,
     "metadata": {},
     "output_type": "execute_result"
    }
   ],
   "source": [
    "# Set least busy device as backend.\n",
    "from qiskit.providers.ibmq import least_busy\n",
    "from qiskit.visualization import plot_gate_map, plot_circuit_layout\n",
    "\n",
    "small_devices = provider.backends(filters=lambda x: x.configuration().n_qubits == 5\n",
    "                                   and not x.configuration().simulator)\n",
    "backend = least_busy(small_devices)\n",
    "backend = provider.get_backend('ibmq_ourense')\n",
    "\n",
    "# Set qasm as simulator.\n",
    "simulator = Aer.get_backend('qasm_simulator')\n",
    "\n",
    "# Print name and configuration.\n",
    "print(backend)\n",
    "plot_gate_map(backend, plot_directed=True)"
   ]
  },
  {
   "cell_type": "markdown",
   "metadata": {},
   "source": [
    "## Example 1: X gate"
   ]
  },
  {
   "cell_type": "markdown",
   "metadata": {},
   "source": [
    "### X gate circuit"
   ]
  },
  {
   "cell_type": "code",
   "execution_count": 26,
   "metadata": {},
   "outputs": [
    {
     "name": "stdout",
     "output_type": "stream",
     "text": [
      "         ┌───┐\n",
      "q4_0: |0>┤ X ├\n",
      "         └───┘\n",
      "         ┌───┐ ░ ┌─┐\n",
      "q4_0: |0>┤ X ├─░─┤M├\n",
      "         └───┘ ░ └╥┘\n",
      " c6_0: 0 ═════════╩═\n",
      "                    \n"
     ]
    }
   ],
   "source": [
    "# Hadamard gate\n",
    "qr = QuantumRegister(1)\n",
    "x = QuantumCircuit(qr)\n",
    "x.x(0)\n",
    "print(x)\n",
    "\n",
    "# Measurement circuit.\n",
    "cr = ClassicalRegister(1)\n",
    "meas = QuantumCircuit(qr, cr)\n",
    "meas.barrier()\n",
    "meas.measure(0, 0)\n",
    "print(x+meas)"
   ]
  },
  {
   "cell_type": "markdown",
   "metadata": {},
   "source": [
    "### Output of the X gate"
   ]
  },
  {
   "cell_type": "code",
   "execution_count": 27,
   "metadata": {},
   "outputs": [
    {
     "name": "stdout",
     "output_type": "stream",
     "text": [
      "5e48c5fe99ad63001a5cb5f5\n",
      "{'0': 201, '1': 4799}\n"
     ]
    }
   ],
   "source": [
    "# Run Hadamard circuit.\n",
    "job = execute(x+meas, backend, optimization_level=0, shots=5000)\n",
    "print(job.job_id())\n",
    "\n",
    "counts = job.result().get_counts()\n",
    "print(counts)\n",
    "\n",
    "# Simulate Hadamard ciruit.\n",
    "counts_sim = execute(x+meas, simulator, shots=5000).result().get_counts()"
   ]
  },
  {
   "cell_type": "code",
   "execution_count": 28,
   "metadata": {},
   "outputs": [
    {
     "data": {
      "image/png": "[encoded data removed]",
      "text/plain": [
       "<Figure size 504x360 with 1 Axes>"
      ]
     },
     "execution_count": 28,
     "metadata": {},
     "output_type": "execute_result"
    }
   ],
   "source": [
    "# Results from backend vs simulator.\n",
    "from qiskit.visualization import plot_histogram\n",
    "plot_histogram([counts, counts_sim], legend=[backend, simulator])"
   ]
  },
  {
   "cell_type": "markdown",
   "metadata": {},
   "source": [
    "### Process tomography on the X gate"
   ]
  },
  {
   "cell_type": "code",
   "execution_count": 29,
   "metadata": {},
   "outputs": [
    {
     "name": "stdout",
     "output_type": "stream",
     "text": [
      "          ░ ┌───┐ ░ ┌───┐┌─┐\n",
      "q4_0: |0>─░─┤ X ├─░─┤ H ├┤M├\n",
      "          ░ └───┘ ░ └───┘└╥┘\n",
      " c7_0: 0 ═════════════════╩═\n",
      "                            \n",
      "          ░ ┌───┐ ░ ┌─────┐┌───┐┌─┐\n",
      "q4_0: |0>─░─┤ X ├─░─┤ Sdg ├┤ H ├┤M├\n",
      "          ░ └───┘ ░ └─────┘└───┘└╥┘\n",
      " c7_0: 0 ════════════════════════╩═\n",
      "                                   \n",
      "          ░ ┌───┐ ░ ┌─┐\n",
      "q4_0: |0>─░─┤ X ├─░─┤M├\n",
      "          ░ └───┘ ░ └╥┘\n",
      " c7_0: 0 ════════════╩═\n",
      "                       \n",
      "         ┌───┐ ░ ┌───┐ ░ ┌───┐┌─┐\n",
      "q4_0: |0>┤ X ├─░─┤ X ├─░─┤ H ├┤M├\n",
      "         └───┘ ░ └───┘ ░ └───┘└╥┘\n",
      " c7_0: 0 ══════════════════════╩═\n",
      "                                 \n"
     ]
    }
   ],
   "source": [
    "# Calculate circuits for process tomography.\n",
    "from qiskit.ignis.verification.tomography import process_tomography_circuits, ProcessTomographyFitter\n",
    "qpt_x = process_tomography_circuits(x, qr[0])\n",
    "\n",
    "# Print some examples.\n",
    "for circ in qpt_x[:4]:\n",
    "    print(circ)"
   ]
  },
  {
   "cell_type": "code",
   "execution_count": 31,
   "metadata": {},
   "outputs": [
    {
     "name": "stdout",
     "output_type": "stream",
     "text": [
      "5e48c992e499020018050ef5\n"
     ]
    }
   ],
   "source": [
    "# Process tomography circuits on backend.\n",
    "job = execute(qpt_x, backend, optimization_level=0, shots=5000)\n",
    "print(job.job_id())"
   ]
  },
  {
   "cell_type": "code",
   "execution_count": 34,
   "metadata": {},
   "outputs": [
    {
     "data": {
      "text/plain": [
       "{(('Zp',), ('X',)): {'0': 2497, '1': 2503},\n",
       " (('Zp',), ('Y',)): {'0': 2642, '1': 2358},\n",
       " (('Zp',), ('Z',)): {'0': 268, '1': 4732},\n",
       " (('Zm',), ('X',)): {'0': 2607, '1': 2393},\n",
       " (('Zm',), ('Y',)): {'0': 2588, '1': 2412},\n",
       " (('Zm',), ('Z',)): {'0': 4939, '1': 61},\n",
       " (('Xp',), ('X',)): {'0': 4943, '1': 57},\n",
       " (('Xp',), ('Y',)): {'0': 2570, '1': 2430},\n",
       " (('Xp',), ('Z',)): {'0': 2676, '1': 2324},\n",
       " (('Yp',), ('X',)): {'0': 2569, '1': 2431},\n",
       " (('Yp',), ('Y',)): {'0': 253, '1': 4747},\n",
       " (('Yp',), ('Z',)): {'0': 2613, '1': 2387}}"
      ]
     },
     "execution_count": 34,
     "metadata": {},
     "output_type": "execute_result"
    }
   ],
   "source": [
    "# Calculate tomography data.\n",
    "tomo_x = ProcessTomographyFitter(job.result(), qpt_x)\n",
    "tomo_x.data"
   ]
  },
  {
   "cell_type": "code",
   "execution_count": 36,
   "metadata": {},
   "outputs": [
    {
     "name": "stdout",
     "output_type": "stream",
     "text": [
      "CP? True. TP? False.\n"
     ]
    },
    {
     "data": {
      "image/png": "[encoded data removed]",
      "text/plain": [
       "<Figure size 360x360 with 1 Axes>"
      ]
     },
     "metadata": {
      "needs_background": "light"
     },
     "output_type": "display_data"
    }
   ],
   "source": [
    "# Extracting the choi matrix, turn into PTM.\n",
    "from qiskit.quantum_info import PTM\n",
    "choi_x = tomo_x.fit()\n",
    "ptm_x = PTM(choi_x)\n",
    "print('CP? '+str(ptm_x.is_cp())+'.', 'TP? '+str(ptm_x.is_tp())+'.')\n",
    "\n",
    "# Plot Hinton diagram of PTM.\n",
    "from qiskit.visualization import plot_state_hinton\n",
    "fig, ax = plt.subplots(1, 1, figsize=(5, 5))\n",
    "plot_state_hinton(ptm_x.data, ax_real=ax)\n",
    "\n",
    "ax.set_title(r'PTM');\n",
    "ax.set_xticklabels(['I', 'X', 'Y', 'Z']);\n",
    "ax.set_yticklabels(['I', 'X', 'Y', 'Z']);"
   ]
  },
  {
   "cell_type": "markdown",
   "metadata": {},
   "source": [
    "## Example 2: CNOT gate"
   ]
  },
  {
   "cell_type": "markdown",
   "metadata": {},
   "source": [
    "### CNOT gate circuit"
   ]
  },
  {
   "cell_type": "code",
   "execution_count": 4,
   "metadata": {},
   "outputs": [
    {
     "name": "stdout",
     "output_type": "stream",
     "text": [
      "              \n",
      "q0_0: |0>──■──\n",
      "         ┌─┴─┐\n",
      "q0_1: |0>┤ X ├\n",
      "         └───┘\n",
      "q0_2: |0>─────\n",
      "              \n",
      "q0_3: |0>─────\n",
      "              \n",
      "q0_4: |0>─────\n",
      "              \n",
      "               ░ ┌─┐   \n",
      "q0_0: |0>──■───░─┤M├───\n",
      "         ┌─┴─┐ ░ └╥┘┌─┐\n",
      "q0_1: |0>┤ X ├─░──╫─┤M├\n",
      "         └───┘ ░  ║ └╥┘\n",
      "q0_2: |0>──────░──╫──╫─\n",
      "               ░  ║  ║ \n",
      "q0_3: |0>──────░──╫──╫─\n",
      "               ░  ║  ║ \n",
      "q0_4: |0>──────░──╫──╫─\n",
      "               ░  ║  ║ \n",
      " c0_0: 0 ═════════╩══╬═\n",
      "                     ║ \n",
      " c0_1: 0 ════════════╩═\n",
      "                       \n"
     ]
    }
   ],
   "source": [
    "# CNOT gate.\n",
    "qr = QuantumRegister(5)\n",
    "cnot = QuantumCircuit(qr)\n",
    "cnot.cx(0, 1)\n",
    "print(cnot)\n",
    "\n",
    "# Measurement circuit.\n",
    "cr = ClassicalRegister(2)\n",
    "meas = QuantumCircuit(qr, cr)\n",
    "meas.barrier()\n",
    "meas.measure([0,1], [0,1])\n",
    "print(cnot+meas)"
   ]
  },
  {
   "cell_type": "markdown",
   "metadata": {},
   "source": [
    "### Output of the CNOT gate"
   ]
  },
  {
   "cell_type": "code",
   "execution_count": 5,
   "metadata": {},
   "outputs": [
    {
     "name": "stdout",
     "output_type": "stream",
     "text": [
      "5e48ba2a75bcad00189a000b\n",
      "{'00': 4774, '11': 88, '01': 22, '10': 116}\n"
     ]
    }
   ],
   "source": [
    "# Run Hadamard circuit.\n",
    "job = execute(cnot+meas, backend, optimization_level=0, shots=5000)\n",
    "print(job.job_id())\n",
    "\n",
    "counts = job.result().get_counts()\n",
    "print(counts)\n",
    "\n",
    "# Simulate Hadamard ciruit.\n",
    "counts_sim = execute(cnot+meas, simulator, shots=5000).result().get_counts()"
   ]
  },
  {
   "cell_type": "code",
   "execution_count": 6,
   "metadata": {},
   "outputs": [
    {
     "data": {
      "image/png": "[encoded data removed]",
      "text/plain": [
       "<Figure size 504x360 with 1 Axes>"
      ]
     },
     "execution_count": 6,
     "metadata": {},
     "output_type": "execute_result"
    }
   ],
   "source": [
    "# Results from backend vs simulator.\n",
    "from qiskit.visualization import plot_histogram\n",
    "plot_histogram([counts, counts_sim], legend=[backend, simulator])"
   ]
  },
  {
   "cell_type": "markdown",
   "metadata": {},
   "source": [
    "### Process tomography for a CNOT gate"
   ]
  },
  {
   "cell_type": "code",
   "execution_count": 8,
   "metadata": {},
   "outputs": [
    {
     "name": "stdout",
     "output_type": "stream",
     "text": [
      "144\n"
     ]
    }
   ],
   "source": [
    "# Calculate circuits for process tomography.\n",
    "from qiskit.ignis.verification.tomography import process_tomography_circuits, ProcessTomographyFitter\n",
    "qpt_cnot = process_tomography_circuits(cnot, [qr[0], qr[1]])\n",
    "print(len(qpt_cnot))"
   ]
  },
  {
   "cell_type": "raw",
   "metadata": {},
   "source": [
    "# Process tomography circuits on backend. BATCH1\n",
    "job1 = execute(qpt1_cnot, backend, optimization_level=0, shots=5000)\n",
    "print(job1.job_id())"
   ]
  },
  {
   "cell_type": "raw",
   "metadata": {},
   "source": [
    "# Process tomography circuits on backend. BATCH2\n",
    "job2 = execute(qpt2_cnot, backend, optimization_level=0, shots=5000)\n",
    "print(job2.job_id())"
   ]
  },
  {
   "cell_type": "raw",
   "metadata": {},
   "source": [
    "#job1 = backend.retrieve_job('5e43381b4aa4d700110ece39') #ibmqx2\n",
    "#job2 = backend.retrieve_job('5e4338200752d50011ed9970') #ibmqx2"
   ]
  },
  {
   "cell_type": "code",
   "execution_count": 9,
   "metadata": {},
   "outputs": [
    {
     "name": "stdout",
     "output_type": "stream",
     "text": [
      "5e48be067e75340018ea33a3\n",
      "5e48be0b955bf100189995d8\n",
      "5e48be11e499020018050ea8\n"
     ]
    }
   ],
   "source": [
    "# Batched process tomography circuits on backend.\n",
    "result = []\n",
    "for n in range(len(qpt_cnot)//50 + 1):\n",
    "    job = execute(qpt_cnot[n*50: (n+1)*50], backend, optimization_level=0, shots=5000)\n",
    "    result.append(job.result())\n",
    "    print(job.job_id())"
   ]
  },
  {
   "cell_type": "code",
   "execution_count": 13,
   "metadata": {},
   "outputs": [
    {
     "data": {
      "text/plain": [
       "{(('Zp', 'Zp'), ('X', 'X')): {'00': 1154, '11': 1303, '01': 972, '10': 1571},\n",
       " (('Zp', 'Zp'), ('X', 'Y')): {'00': 1283, '11': 1227, '01': 1149, '10': 1341},\n",
       " (('Zp', 'Zp'), ('X', 'Z')): {'00': 2609, '11': 110, '01': 2204, '10': 77},\n",
       " (('Zp', 'Zp'), ('Y', 'X')): {'00': 1143, '11': 1376, '01': 1017, '10': 1464},\n",
       " (('Zp', 'Zp'), ('Y', 'Y')): {'00': 1260, '11': 1226, '01': 1149, '10': 1365},\n",
       " (('Zp', 'Zp'), ('Y', 'Z')): {'00': 2506, '11': 74, '01': 2324, '10': 96},\n",
       " (('Zp', 'Zp'), ('Z', 'X')): {'00': 2154, '11': 43, '01': 47, '10': 2756},\n",
       " (('Zp', 'Zp'), ('Z', 'Y')): {'00': 2316, '11': 33, '01': 82, '10': 2569},\n",
       " (('Zp', 'Zp'), ('Z', 'Z')): {'00': 4775, '11': 68, '01': 27, '10': 130},\n",
       " (('Zp', 'Zm'), ('X', 'X')): {'00': 1173, '11': 1292, '01': 1057, '10': 1478},\n",
       " (('Zp', 'Zm'), ('X', 'Y')): {'00': 1453, '11': 1029, '01': 1317, '10': 1201},\n",
       " (('Zp', 'Zm'), ('X', 'Z')): {'00': 165, '11': 2140, '01': 175, '10': 2520},\n",
       " (('Zp', 'Zm'), ('Y', 'X')): {'00': 1233, '11': 1329, '01': 1019, '10': 1419},\n",
       " (('Zp', 'Zm'), ('Y', 'Y')): {'00': 1465, '11': 998, '01': 1370, '10': 1167},\n",
       " (('Zp', 'Zm'), ('Y', 'Z')): {'00': 160, '11': 2157, '01': 164, '10': 2519},\n",
       " (('Zp', 'Zm'), ('Z', 'X')): {'00': 2249, '11': 51, '01': 31, '10': 2669},\n",
       " (('Zp', 'Zm'), ('Z', 'Y')): {'00': 2765, '11': 61, '01': 35, '10': 2139},\n",
       " (('Zp', 'Zm'), ('Z', 'Z')): {'00': 235, '11': 29, '01': 73, '10': 4663},\n",
       " (('Zp', 'Xp'), ('X', 'X')): {'00': 2578, '11': 56, '01': 2308, '10': 58},\n",
       " (('Zp', 'Xp'), ('X', 'Y')): {'00': 1332, '11': 1201, '01': 1177, '10': 1290},\n",
       " (('Zp', 'Xp'), ('X', 'Z')): {'00': 1136, '11': 1300, '01': 1053, '10': 1511},\n",
       " (('Zp', 'Xp'), ('Y', 'X')): {'00': 2566, '11': 74, '01': 2289, '10': 71},\n",
       " (('Zp', 'Xp'), ('Y', 'Y')): {'00': 1326, '11': 1165, '01': 1190, '10': 1319},\n",
       " (('Zp', 'Xp'), ('Y', 'Z')): {'00': 1182, '11': 1315, '01': 1021, '10': 1482},\n",
       " (('Zp', 'Xp'), ('Z', 'X')): {'00': 4770, '11': 8, '01': 85, '10': 137},\n",
       " (('Zp', 'Xp'), ('Z', 'Y')): {'00': 2490, '11': 53, '01': 49, '10': 2408},\n",
       " (('Zp', 'Xp'), ('Z', 'Z')): {'00': 2123, '11': 33, '01': 58, '10': 2786},\n",
       " (('Zp', 'Yp'), ('X', 'X')): {'00': 1373, '11': 1130, '01': 1135, '10': 1362},\n",
       " (('Zp', 'Yp'), ('X', 'Y')): {'00': 2572, '11': 99, '01': 2216, '10': 113},\n",
       " (('Zp', 'Yp'), ('X', 'Z')): {'00': 1133, '11': 1273, '01': 994, '10': 1600},\n",
       " (('Zp', 'Yp'), ('Y', 'X')): {'00': 1362, '11': 1174, '01': 1201, '10': 1263},\n",
       " (('Zp', 'Yp'), ('Y', 'Y')): {'00': 2540, '11': 83, '01': 2273, '10': 104},\n",
       " (('Zp', 'Yp'), ('Y', 'Z')): {'00': 1075, '11': 1357, '01': 1038, '10': 1530},\n",
       " (('Zp', 'Yp'), ('Z', 'X')): {'00': 2542, '11': 43, '01': 58, '10': 2357},\n",
       " (('Zp', 'Yp'), ('Z', 'Y')): {'00': 4763, '11': 76, '01': 31, '10': 130},\n",
       " (('Zp', 'Yp'), ('Z', 'Z')): {'00': 2113, '11': 41, '01': 46, '10': 2800},\n",
       " (('Zm', 'Zp'), ('X', 'X')): {'00': 1070, '11': 1406, '01': 1110, '10': 1414},\n",
       " (('Zm', 'Zp'), ('X', 'Y')): {'00': 1411, '11': 1088, '01': 1383, '10': 1118},\n",
       " (('Zm', 'Zp'), ('X', 'Z')): {'00': 149, '11': 2370, '01': 181, '10': 2300},\n",
       " (('Zm', 'Zp'), ('Y', 'X')): {'00': 1054, '11': 1435, '01': 1107, '10': 1404},\n",
       " (('Zm', 'Zp'), ('Y', 'Y')): {'00': 1376, '11': 1121, '01': 1383, '10': 1120},\n",
       " (('Zm', 'Zp'), ('Y', 'Z')): {'00': 180, '11': 2321, '01': 183, '10': 2316},\n",
       " (('Zm', 'Zp'), ('Z', 'X')): {'00': 103, '11': 2662, '01': 2115, '10': 120},\n",
       " (('Zm', 'Zp'), ('Z', 'Y')): {'00': 142, '11': 2143, '01': 2602, '10': 113},\n",
       " (('Zm', 'Zp'), ('Z', 'Z')): {'00': 77, '11': 4479, '01': 269, '10': 175},\n",
       " (('Zm', 'Zm'), ('X', 'X')): {'00': 1049, '11': 1438, '01': 1113, '10': 1400},\n",
       " (('Zm', 'Zm'), ('X', 'Y')): {'00': 1093, '11': 1430, '01': 1168, '10': 1309},\n",
       " (('Zm', 'Zm'), ('X', 'Z')): {'00': 2278, '11': 99, '01': 2503, '10': 120},\n",
       " (('Zm', 'Zm'), ('Y', 'X')): {'00': 1102, '11': 1329, '01': 1099, '10': 1470},\n",
       " (('Zm', 'Zm'), ('Y', 'Y')): {'00': 1153, '11': 1315, '01': 1200, '10': 1332},\n",
       " (('Zm', 'Zm'), ('Y', 'Z')): {'00': 2434, '11': 95, '01': 2378, '10': 93},\n",
       " (('Zm', 'Zm'), ('Z', 'X')): {'00': 94, '11': 2655, '01': 2093, '10': 158},\n",
       " (('Zm', 'Zm'), ('Z', 'Y')): {'00': 112, '11': 2476, '01': 2266, '10': 146},\n",
       " (('Zm', 'Zm'), ('Z', 'Z')): {'00': 169, '11': 120, '01': 4644, '10': 67},\n",
       " (('Zm', 'Xp'), ('X', 'X')): {'00': 2481, '11': 52, '01': 2393, '10': 74},\n",
       " (('Zm', 'Xp'), ('X', 'Y')): {'00': 1129, '11': 1320, '01': 1192, '10': 1359},\n",
       " (('Zm', 'Xp'), ('X', 'Z')): {'00': 1447, '11': 1059, '01': 1460, '10': 1034},\n",
       " (('Zm', 'Xp'), ('Y', 'X')): {'00': 2362, '11': 62, '01': 2520, '10': 56},\n",
       " (('Zm', 'Xp'), ('Y', 'Y')): {'00': 1085, '11': 1361, '01': 1214, '10': 1340},\n",
       " (('Zm', 'Xp'), ('Y', 'Z')): {'00': 1452, '11': 1021, '01': 1495, '10': 1032},\n",
       " (('Zm', 'Xp'), ('Z', 'X')): {'00': 238, '11': 112, '01': 4635, '10': 15},\n",
       " (('Zm', 'Xp'), ('Z', 'Y')): {'00': 123, '11': 2488, '01': 2245, '10': 144},\n",
       " (('Zm', 'Xp'), ('Z', 'Z')): {'00': 162, '11': 1931, '01': 2772, '10': 135},\n",
       " (('Zm', 'Yp'), ('X', 'X')): {'00': 1202, '11': 1304, '01': 1197, '10': 1297},\n",
       " (('Zm', 'Yp'), ('X', 'Y')): {'00': 139, '11': 2365, '01': 147, '10': 2349},\n",
       " (('Zm', 'Yp'), ('X', 'Z')): {'00': 1514, '11': 967, '01': 1525, '10': 994},\n",
       " (('Zm', 'Yp'), ('Y', 'X')): {'00': 1108, '11': 1299, '01': 1278, '10': 1315},\n",
       " (('Zm', 'Yp'), ('Y', 'Y')): {'00': 166, '11': 2329, '01': 165, '10': 2340},\n",
       " (('Zm', 'Yp'), ('Y', 'Z')): {'00': 1569, '11': 1018, '01': 1449, '10': 964},\n",
       " (('Zm', 'Yp'), ('Z', 'X')): {'00': 116, '11': 2503, '01': 2252, '10': 129},\n",
       " (('Zm', 'Yp'), ('Z', 'Y')): {'00': 79, '11': 4468, '01': 275, '10': 178},\n",
       " (('Zm', 'Yp'), ('Z', 'Z')): {'00': 140, '11': 1931, '01': 2800, '10': 129},\n",
       " (('Xp', 'Zp'), ('X', 'X')): {'00': 1994, '11': 2723, '01': 115, '10': 168},\n",
       " (('Xp', 'Zp'), ('X', 'Y')): {'00': 1037, '11': 1298, '01': 1552, '10': 1113},\n",
       " (('Xp', 'Zp'), ('X', 'Z')): {'00': 1195, '11': 1432, '01': 1398, '10': 975},\n",
       " (('Xp', 'Zp'), ('Y', 'X')): {'00': 1003, '11': 1366, '01': 1123, '10': 1508},\n",
       " (('Xp', 'Zp'), ('Y', 'Y')): {'00': 261, '11': 95, '01': 2352, '10': 2292},\n",
       " (('Xp', 'Zp'), ('Y', 'Z')): {'00': 1270, '11': 1142, '01': 1337, '10': 1251},\n",
       " (('Xp', 'Zp'), ('Z', 'X')): {'00': 1054, '11': 1348, '01': 1062, '10': 1536},\n",
       " (('Xp', 'Zp'), ('Z', 'Y')): {'00': 1270, '11': 1091, '01': 1278, '10': 1361},\n",
       " (('Xp', 'Zp'), ('Z', 'Z')): {'00': 2321, '11': 2377, '01': 120, '10': 182},\n",
       " (('Xp', 'Zm'), ('X', 'X')): {'00': 2224, '11': 2495, '01': 127, '10': 154},\n",
       " (('Xp', 'Zm'), ('X', 'Y')): {'00': 1144, '11': 1253, '01': 1394, '10': 1209},\n",
       " (('Xp', 'Zm'), ('X', 'Z')): {'00': 1172, '11': 1199, '01': 1494, '10': 1135},\n",
       " (('Xp', 'Zm'), ('Y', 'X')): {'00': 1211, '11': 1368, '01': 1123, '10': 1298},\n",
       " (('Xp', 'Zm'), ('Y', 'Y')): {'00': 2455, '11': 2239, '01': 155, '10': 151},\n",
       " (('Xp', 'Zm'), ('Y', 'Z')): {'00': 1436, '11': 1269, '01': 1181, '10': 1114},\n",
       " (('Xp', 'Zm'), ('Z', 'X')): {'00': 1131, '11': 1319, '01': 1083, '10': 1467},\n",
       " (('Xp', 'Zm'), ('Z', 'Y')): {'00': 1326, '11': 1323, '01': 1119, '10': 1232},\n",
       " (('Xp', 'Zm'), ('Z', 'Z')): {'00': 248, '11': 61, '01': 2441, '10': 2250},\n",
       " (('Xp', 'Xp'), ('X', 'X')): {'00': 4781, '11': 93, '01': 92, '10': 34},\n",
       " (('Xp', 'Xp'), ('X', 'Y')): {'00': 2439, '11': 102, '01': 85, '10': 2374},\n",
       " (('Xp', 'Xp'), ('X', 'Z')): {'00': 2533, '11': 84, '01': 104, '10': 2279},\n",
       " (('Xp', 'Xp'), ('Y', 'X')): {'00': 2517, '11': 76, '01': 2348, '10': 59},\n",
       " (('Xp', 'Xp'), ('Y', 'Y')): {'00': 1470, '11': 1422, '01': 1073, '10': 1035},\n",
       " (('Xp', 'Xp'), ('Y', 'Z')): {'00': 1375, '11': 1235, '01': 1202, '10': 1188},\n",
       " (('Xp', 'Xp'), ('Z', 'X')): {'00': 2343, '11': 55, '01': 2530, '10': 72},\n",
       " (('Xp', 'Xp'), ('Z', 'Y')): {'00': 1266, '11': 1318, '01': 1245, '10': 1171},\n",
       " (('Xp', 'Xp'), ('Z', 'Z')): {'00': 1051, '11': 981, '01': 1555, '10': 1413},\n",
       " (('Xp', 'Yp'), ('X', 'X')): {'00': 2376, '11': 2361, '01': 122, '10': 141},\n",
       " (('Xp', 'Yp'), ('X', 'Y')): {'00': 1290, '11': 1285, '01': 1240, '10': 1185},\n",
       " (('Xp', 'Yp'), ('X', 'Z')): {'00': 1255, '11': 1283, '01': 1320, '10': 1142},\n",
       " (('Xp', 'Yp'), ('Y', 'X')): {'00': 1184, '11': 1220, '01': 1276, '10': 1320},\n",
       " (('Xp', 'Yp'), ('Y', 'Y')): {'00': 1559, '11': 1439, '01': 980, '10': 1022},\n",
       " (('Xp', 'Yp'), ('Y', 'Z')): {'00': 2418, '11': 2252, '01': 177, '10': 153},\n",
       " (('Xp', 'Yp'), ('Z', 'X')): {'00': 1239, '11': 1213, '01': 1202, '10': 1346},\n",
       " (('Xp', 'Yp'), ('Z', 'Y')): {'00': 2424, '11': 2277, '01': 128, '10': 171},\n",
       " (('Xp', 'Yp'), ('Z', 'Z')): {'00': 1084, '11': 980, '01': 1507, '10': 1429},\n",
       " (('Yp', 'Zp'), ('X', 'X')): {'00': 1173, '11': 1401, '01': 1053, '10': 1373},\n",
       " (('Yp', 'Zp'), ('X', 'Y')): {'00': 2383, '11': 2288, '01': 177, '10': 152},\n",
       " (('Yp', 'Zp'), ('X', 'Z')): {'00': 1435, '11': 1371, '01': 1053, '10': 1141},\n",
       " (('Yp', 'Zp'), ('Y', 'X')): {'00': 2043, '11': 2652, '01': 162, '10': 143},\n",
       " (('Yp', 'Zp'), ('Y', 'Y')): {'00': 1084, '11': 1281, '01': 1491, '10': 1144},\n",
       " (('Yp', 'Zp'), ('Y', 'Z')): {'00': 1135, '11': 1503, '01': 1303, '10': 1059},\n",
       " (('Yp', 'Zp'), ('Z', 'X')): {'00': 1056, '11': 1293, '01': 1157, '10': 1494},\n",
       " (('Yp', 'Zp'), ('Z', 'Y')): {'00': 1188, '11': 1041, '01': 1479, '10': 1292},\n",
       " (('Yp', 'Zp'), ('Z', 'Z')): {'00': 2333, '11': 2369, '01': 138, '10': 160},\n",
       " (('Yp', 'Zm'), ('X', 'X')): {'00': 1136, '11': 1324, '01': 1051, '10': 1489},\n",
       " (('Yp', 'Zm'), ('X', 'Y')): {'00': 217, '11': 103, '01': 2304, '10': 2376},\n",
       " (('Yp', 'Zm'), ('X', 'Z')): {'00': 1158, '11': 956, '01': 1440, '10': 1446},\n",
       " (('Yp', 'Zm'), ('Y', 'X')): {'00': 2077, '11': 2684, '01': 116, '10': 123},\n",
       " (('Yp', 'Zm'), ('Y', 'Y')): {'00': 1094, '11': 1357, '01': 1453, '10': 1096},\n",
       " (('Yp', 'Zm'), ('Y', 'Z')): {'00': 1159, '11': 1310, '01': 1452, '10': 1079},\n",
       " (('Yp', 'Zm'), ('Z', 'X')): {'00': 1104, '11': 1447, '01': 1047, '10': 1402},\n",
       " (('Yp', 'Zm'), ('Z', 'Y')): {'00': 1443, '11': 1370, '01': 1111, '10': 1076},\n",
       " (('Yp', 'Zm'), ('Z', 'Z')): {'00': 205, '11': 59, '01': 2396, '10': 2340},\n",
       " (('Yp', 'Xp'), ('X', 'X')): {'00': 2572, '11': 41, '01': 2318, '10': 69},\n",
       " (('Yp', 'Xp'), ('X', 'Y')): {'00': 1095, '11': 1080, '01': 1355, '10': 1470},\n",
       " (('Yp', 'Xp'), ('X', 'Z')): {'00': 1290, '11': 1102, '01': 1322, '10': 1286},\n",
       " (('Yp', 'Xp'), ('Y', 'X')): {'00': 4795, '11': 83, '01': 97, '10': 25},\n",
       " (('Yp', 'Xp'), ('Y', 'Y')): {'00': 2369, '11': 91, '01': 73, '10': 2467},\n",
       " (('Yp', 'Xp'), ('Y', 'Z')): {'00': 2429, '11': 54, '01': 106, '10': 2411},\n",
       " (('Yp', 'Xp'), ('Z', 'X')): {'00': 2328, '11': 58, '01': 2570, '10': 44},\n",
       " (('Yp', 'Xp'), ('Z', 'Y')): {'00': 1218, '11': 1367, '01': 1248, '10': 1167},\n",
       " (('Yp', 'Xp'), ('Z', 'Z')): {'00': 1029, '11': 1044, '01': 1514, '10': 1413},\n",
       " (('Yp', 'Yp'), ('X', 'X')): {'00': 1300, '11': 1234, '01': 1107, '10': 1359},\n",
       " (('Yp', 'Yp'), ('X', 'Y')): {'00': 1193, '11': 1029, '01': 1354, '10': 1424},\n",
       " (('Yp', 'Yp'), ('X', 'Z')): {'00': 243, '11': 85, '01': 2304, '10': 2368},\n",
       " (('Yp', 'Yp'), ('Y', 'X')): {'00': 2296, '11': 2428, '01': 135, '10': 141},\n",
       " (('Yp', 'Yp'), ('Y', 'Y')): {'00': 1215, '11': 1303, '01': 1250, '10': 1232},\n",
       " (('Yp', 'Yp'), ('Y', 'Z')): {'00': 1242, '11': 1278, '01': 1308, '10': 1172},\n",
       " (('Yp', 'Yp'), ('Z', 'X')): {'00': 1208, '11': 1245, '01': 1265, '10': 1282},\n",
       " (('Yp', 'Yp'), ('Z', 'Y')): {'00': 2368, '11': 2392, '01': 118, '10': 122},\n",
       " (('Yp', 'Yp'), ('Z', 'Z')): {'00': 1117, '11': 1106, '01': 1430, '10': 1347}}"
      ]
     },
     "execution_count": 13,
     "metadata": {},
     "output_type": "execute_result"
    }
   ],
   "source": [
    "# Calculate tomography data.\n",
    "tomo_cnot = []\n",
    "tomo_cnot = ProcessTomographyFitter(results[0], qpt_cnot[:50])\n",
    "for n in range(1, len(qpt_cnot)//50 + 1):\n",
    "    tomo_cnot.add_data(results[n], qpt_cnot[n*50 : (n+1)*50])\n",
    "tomo_cnot.data"
   ]
  },
  {
   "cell_type": "code",
   "execution_count": 73,
   "metadata": {},
   "outputs": [
    {
     "name": "stdout",
     "output_type": "stream",
     "text": [
      "CP? True. TP? False.\n"
     ]
    },
    {
     "data": {
      "image/png": "[encoded data removed]",
      "text/plain": [
       "<Figure size 360x360 with 1 Axes>"
      ]
     },
     "metadata": {
      "needs_background": "light"
     },
     "output_type": "display_data"
    }
   ],
   "source": [
    "# Extracting the choi matrix, turn into PTM.\n",
    "from qiskit.quantum_info import PTM\n",
    "choi_cnot = tomo_cnot.fit()\n",
    "ptm_cnot = PTM(choi_cnot)\n",
    "print('CP? '+str(ptm_cnot.is_cp())+'.', 'TP? '+str(ptm_cnot.is_tp())+'.')\n",
    "\n",
    "# Plot Hinton diagram of PTM.\n",
    "from qiskit.visualization import plot_state_hinton\n",
    "fig, ax = plt.subplots(1, 1, figsize=(5, 5))\n",
    "plot_state_hinton(ptm_cnot.data, ax_real=ax)\n",
    "\n",
    "labels = []\n",
    "paulis = ['I', 'X', 'Y', 'Z']\n",
    "for i in range(4):\n",
    "    for j in range(4):\n",
    "        labels.append(paulis[i]+paulis[j])\n",
    "            \n",
    "ax.set_title('PTM');\n",
    "ax.set_xticklabels(labels);\n",
    "ax.set_yticklabels(labels);"
   ]
  },
  {
   "cell_type": "code",
   "execution_count": null,
   "metadata": {},
   "outputs": [],
   "source": []
  }
 ],
 "metadata": {
  "kernelspec": {
   "display_name": "Python 3",
   "language": "python",
   "name": "python3"
  },
  "language_info": {
   "codemirror_mode": {
    "name": "ipython",
    "version": 3
   },
   "file_extension": ".py",
   "mimetype": "text/x-python",
   "name": "python",
   "nbconvert_exporter": "python",
   "pygments_lexer": "ipython3",
   "version": "3.7.4"
  }
 },
 "nbformat": 4,
 "nbformat_minor": 2
}
